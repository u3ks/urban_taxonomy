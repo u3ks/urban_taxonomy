{
 "cells": [
  {
   "cell_type": "markdown",
   "id": "32de0155-7622-4c82-8867-7ed81e67966b",
   "metadata": {},
   "source": [
    "# Download data from Geoportál (Slovakia)\n",
    "\n",
    "This notebook downloads the building dataset of Slovakia, which is stored under the license **CC BY 4.0**. Also available from https://www.geoportal.sk/en/inspire/download-services/."
   ]
  },
  {
   "cell_type": "code",
   "execution_count": 1,
   "id": "e9d7f623-e074-4d2f-a298-7646f046b7e7",
   "metadata": {},
   "outputs": [
    {
     "data": {
      "text/plain": [
       "'24.6.1'"
      ]
     },
     "execution_count": 1,
     "metadata": {},
     "output_type": "execute_result"
    }
   ],
   "source": [
    "import os\n",
    "import httpx\n",
    "\n",
    "os.getenv(\"DOCKER_ENV_VERSION\")"
   ]
  },
  {
   "cell_type": "markdown",
   "id": "58b4aaa7-2356-44fa-86ae-0a6632637a17",
   "metadata": {},
   "source": [
    "Define path to the dataset:"
   ]
  },
  {
   "cell_type": "code",
   "execution_count": 4,
   "id": "f2684696-3378-4a9b-a932-16d100d74477",
   "metadata": {},
   "outputs": [],
   "source": [
    "url = \"https://opendata.skgeodesy.sk/static/INSPIRE/Buildings/inspire_bu_gpkg.zip\""
   ]
  },
  {
   "cell_type": "markdown",
   "id": "96467d59-2ba1-42c4-8840-77cee8baab7b",
   "metadata": {},
   "source": [
    "Store the dataset to memory:"
   ]
  },
  {
   "cell_type": "code",
   "execution_count": 5,
   "id": "e72dc7c4-83a9-466e-90db-8af85b5f1a52",
   "metadata": {},
   "outputs": [],
   "source": [
    "r = httpx.get(url, verify=False)"
   ]
  },
  {
   "cell_type": "markdown",
   "id": "215dc7dd-8646-4310-883e-9925fea0e225",
   "metadata": {},
   "source": [
    "Check if downloaded correctly:"
   ]
  },
  {
   "cell_type": "code",
   "execution_count": 9,
   "id": "f54edc68-0d0a-46a9-bb10-6517e0830367",
   "metadata": {},
   "outputs": [
    {
     "data": {
      "text/plain": [
       "<Response [200 OK]>"
      ]
     },
     "execution_count": 9,
     "metadata": {},
     "output_type": "execute_result"
    }
   ],
   "source": [
    "r"
   ]
  },
  {
   "cell_type": "markdown",
   "id": "7f4dd441-def1-40e6-9309-8cb9f4cd15c4",
   "metadata": {},
   "source": [
    "Dump the dataset into a specified folder:"
   ]
  },
  {
   "cell_type": "code",
   "execution_count": 8,
   "id": "db51f71a-cc5f-452a-ba21-c702c0275fec",
   "metadata": {},
   "outputs": [],
   "source": [
    "with open(\"../../data/buildings_raw/slovakia/inspire_bu_gpkg.zip\", \"wb\") as f:\n",
    "    f.write(r.content)"
   ]
  }
 ],
 "metadata": {
  "kernelspec": {
   "display_name": "Python 3 (ipykernel)",
   "language": "python",
   "name": "python3"
  },
  "language_info": {
   "codemirror_mode": {
    "name": "ipython",
    "version": 3
   },
   "file_extension": ".py",
   "mimetype": "text/x-python",
   "name": "python",
   "nbconvert_exporter": "python",
   "pygments_lexer": "ipython3",
   "version": "3.11.9"
  }
 },
 "nbformat": 4,
 "nbformat_minor": 5
}
