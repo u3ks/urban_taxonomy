{
 "cells": [
  {
   "cell_type": "markdown",
   "id": "ab1c2611-19cd-44c2-9602-11dca27df5fb",
   "metadata": {},
   "source": [
    "# Download data from ČÚZK (Czechia)\n",
    "\n",
    "This notebook downloads building datasets of all municipalities in Czechia, which are stored under the license CC BY 4.0. Also available from https://services.cuzk.cz/gml/inspire/bu/."
   ]
  },
  {
   "cell_type": "code",
   "execution_count": 31,
   "id": "a1ea5009-0c48-4e75-bf7a-1548dd042a9d",
   "metadata": {},
   "outputs": [
    {
     "data": {
      "text/plain": [
       "'24.6.1'"
      ]
     },
     "execution_count": 31,
     "metadata": {},
     "output_type": "execute_result"
    }
   ],
   "source": [
    "import os\n",
    "\n",
    "import httpx\n",
    "import pyogrio\n",
    "\n",
    "os.getenv(\"DOCKER_ENV_VERSION\")"
   ]
  },
  {
   "cell_type": "markdown",
   "id": "d1456d60-7ef9-4f0d-a107-ed0068077d6e",
   "metadata": {},
   "source": [
    "Fetch the dataset of administrative units in Czechia:"
   ]
  },
  {
   "cell_type": "code",
   "execution_count": 32,
   "id": "802ee78c-aba6-4635-a333-ba3999f96f9c",
   "metadata": {},
   "outputs": [],
   "source": [
    "url_adm = \"https://services.cuzk.cz/gml/inspire/au/epsg-4258/1.zip\"\n",
    "units = pyogrio.read_dataframe(url_adm, layer=\"AdministrativeUnit\")"
   ]
  },
  {
   "cell_type": "markdown",
   "id": "3d5c8130-76cf-44af-989a-6fa6a27a5b65",
   "metadata": {},
   "source": [
    "Inspect the data:"
   ]
  },
  {
   "cell_type": "code",
   "execution_count": 33,
   "id": "c8b9e931-4531-4e29-a054-fcdef98aac61",
   "metadata": {},
   "outputs": [
    {
     "data": {
      "text/html": [
       "<div>\n",
       "<style scoped>\n",
       "    .dataframe tbody tr th:only-of-type {\n",
       "        vertical-align: middle;\n",
       "    }\n",
       "\n",
       "    .dataframe tbody tr th {\n",
       "        vertical-align: top;\n",
       "    }\n",
       "\n",
       "    .dataframe thead th {\n",
       "        text-align: right;\n",
       "    }\n",
       "</style>\n",
       "<table border=\"1\" class=\"dataframe\">\n",
       "  <thead>\n",
       "    <tr style=\"text-align: right;\">\n",
       "      <th></th>\n",
       "      <th>gml_id</th>\n",
       "      <th>nationalCode</th>\n",
       "      <th>localId</th>\n",
       "      <th>namespace</th>\n",
       "      <th>LocalisedCharacterString</th>\n",
       "      <th>language</th>\n",
       "      <th>sourceOfName</th>\n",
       "      <th>pronunciation</th>\n",
       "      <th>text</th>\n",
       "      <th>script</th>\n",
       "      <th>residenceOfAuthority</th>\n",
       "      <th>beginLifespanVersion</th>\n",
       "      <th>endLifespanVersion</th>\n",
       "      <th>identifier</th>\n",
       "      <th>identifierScheme</th>\n",
       "      <th>geometry</th>\n",
       "    </tr>\n",
       "  </thead>\n",
       "  <tbody>\n",
       "    <tr>\n",
       "      <th>0</th>\n",
       "      <td>AU.1.1</td>\n",
       "      <td>1</td>\n",
       "      <td>AU.1.1</td>\n",
       "      <td>CZ_00025712-CUZK_AU</td>\n",
       "      <td>Stát</td>\n",
       "      <td>ces</td>\n",
       "      <td>Český úřad zeměměřický a katastrální</td>\n",
       "      <td>None</td>\n",
       "      <td>Česká republika</td>\n",
       "      <td>Latn</td>\n",
       "      <td>None</td>\n",
       "      <td>2024-06-05T01:07:12Z</td>\n",
       "      <td>None</td>\n",
       "      <td>CZ0000000000</td>\n",
       "      <td>http://www.cuzk.cz/RUIAN/SHNCode</td>\n",
       "      <td>MULTIPOLYGON (((18.10771 49.13501, 18.10775 49...</td>\n",
       "    </tr>\n",
       "    <tr>\n",
       "      <th>1</th>\n",
       "      <td>AU.2.19</td>\n",
       "      <td>19</td>\n",
       "      <td>AU.2.19</td>\n",
       "      <td>CZ_00025712-CUZK_AU</td>\n",
       "      <td>Kraj</td>\n",
       "      <td>ces</td>\n",
       "      <td>Český úřad zeměměřický a katastrální</td>\n",
       "      <td>None</td>\n",
       "      <td>Hlavní město Praha</td>\n",
       "      <td>Latn</td>\n",
       "      <td>None</td>\n",
       "      <td>2024-05-31T03:07:12Z</td>\n",
       "      <td>None</td>\n",
       "      <td>CZ0100000000</td>\n",
       "      <td>http://www.cuzk.cz/RUIAN/SHNCode</td>\n",
       "      <td>MULTIPOLYGON (((14.39545 49.94785, 14.39544 49...</td>\n",
       "    </tr>\n",
       "    <tr>\n",
       "      <th>2</th>\n",
       "      <td>AU.2.27</td>\n",
       "      <td>27</td>\n",
       "      <td>AU.2.27</td>\n",
       "      <td>CZ_00025712-CUZK_AU</td>\n",
       "      <td>Kraj</td>\n",
       "      <td>ces</td>\n",
       "      <td>Český úřad zeměměřický a katastrální</td>\n",
       "      <td>None</td>\n",
       "      <td>Středočeský kraj</td>\n",
       "      <td>Latn</td>\n",
       "      <td>None</td>\n",
       "      <td>2024-05-31T03:07:12Z</td>\n",
       "      <td>None</td>\n",
       "      <td>CZ0200000000</td>\n",
       "      <td>http://www.cuzk.cz/RUIAN/SHNCode</td>\n",
       "      <td>MULTIPOLYGON (((14.91182 50.61876, 14.91116 50...</td>\n",
       "    </tr>\n",
       "    <tr>\n",
       "      <th>3</th>\n",
       "      <td>AU.2.35</td>\n",
       "      <td>35</td>\n",
       "      <td>AU.2.35</td>\n",
       "      <td>CZ_00025712-CUZK_AU</td>\n",
       "      <td>Kraj</td>\n",
       "      <td>ces</td>\n",
       "      <td>Český úřad zeměměřický a katastrální</td>\n",
       "      <td>None</td>\n",
       "      <td>Jihočeský kraj</td>\n",
       "      <td>Latn</td>\n",
       "      <td>None</td>\n",
       "      <td>2024-01-29T15:07:12Z</td>\n",
       "      <td>None</td>\n",
       "      <td>CZ0310000000</td>\n",
       "      <td>http://www.cuzk.cz/RUIAN/SHNCode</td>\n",
       "      <td>MULTIPOLYGON (((15.02411 49.29372, 15.02387 49...</td>\n",
       "    </tr>\n",
       "    <tr>\n",
       "      <th>4</th>\n",
       "      <td>AU.2.43</td>\n",
       "      <td>43</td>\n",
       "      <td>AU.2.43</td>\n",
       "      <td>CZ_00025712-CUZK_AU</td>\n",
       "      <td>Kraj</td>\n",
       "      <td>ces</td>\n",
       "      <td>Český úřad zeměměřický a katastrální</td>\n",
       "      <td>None</td>\n",
       "      <td>Plzeňský kraj</td>\n",
       "      <td>Latn</td>\n",
       "      <td>None</td>\n",
       "      <td>2024-01-24T21:07:12Z</td>\n",
       "      <td>None</td>\n",
       "      <td>CZ0320000000</td>\n",
       "      <td>http://www.cuzk.cz/RUIAN/SHNCode</td>\n",
       "      <td>MULTIPOLYGON (((12.58068 49.90343, 12.58067 49...</td>\n",
       "    </tr>\n",
       "  </tbody>\n",
       "</table>\n",
       "</div>"
      ],
      "text/plain": [
       "    gml_id  nationalCode  localId            namespace  \\\n",
       "0   AU.1.1             1   AU.1.1  CZ_00025712-CUZK_AU   \n",
       "1  AU.2.19            19  AU.2.19  CZ_00025712-CUZK_AU   \n",
       "2  AU.2.27            27  AU.2.27  CZ_00025712-CUZK_AU   \n",
       "3  AU.2.35            35  AU.2.35  CZ_00025712-CUZK_AU   \n",
       "4  AU.2.43            43  AU.2.43  CZ_00025712-CUZK_AU   \n",
       "\n",
       "  LocalisedCharacterString language                          sourceOfName  \\\n",
       "0                     Stát      ces  Český úřad zeměměřický a katastrální   \n",
       "1                     Kraj      ces  Český úřad zeměměřický a katastrální   \n",
       "2                     Kraj      ces  Český úřad zeměměřický a katastrální   \n",
       "3                     Kraj      ces  Český úřad zeměměřický a katastrální   \n",
       "4                     Kraj      ces  Český úřad zeměměřický a katastrální   \n",
       "\n",
       "  pronunciation                text script residenceOfAuthority  \\\n",
       "0          None     Česká republika   Latn                 None   \n",
       "1          None  Hlavní město Praha   Latn                 None   \n",
       "2          None    Středočeský kraj   Latn                 None   \n",
       "3          None      Jihočeský kraj   Latn                 None   \n",
       "4          None       Plzeňský kraj   Latn                 None   \n",
       "\n",
       "   beginLifespanVersion endLifespanVersion    identifier  \\\n",
       "0  2024-06-05T01:07:12Z               None  CZ0000000000   \n",
       "1  2024-05-31T03:07:12Z               None  CZ0100000000   \n",
       "2  2024-05-31T03:07:12Z               None  CZ0200000000   \n",
       "3  2024-01-29T15:07:12Z               None  CZ0310000000   \n",
       "4  2024-01-24T21:07:12Z               None  CZ0320000000   \n",
       "\n",
       "                   identifierScheme  \\\n",
       "0  http://www.cuzk.cz/RUIAN/SHNCode   \n",
       "1  http://www.cuzk.cz/RUIAN/SHNCode   \n",
       "2  http://www.cuzk.cz/RUIAN/SHNCode   \n",
       "3  http://www.cuzk.cz/RUIAN/SHNCode   \n",
       "4  http://www.cuzk.cz/RUIAN/SHNCode   \n",
       "\n",
       "                                            geometry  \n",
       "0  MULTIPOLYGON (((18.10771 49.13501, 18.10775 49...  \n",
       "1  MULTIPOLYGON (((14.39545 49.94785, 14.39544 49...  \n",
       "2  MULTIPOLYGON (((14.91182 50.61876, 14.91116 50...  \n",
       "3  MULTIPOLYGON (((15.02411 49.29372, 15.02387 49...  \n",
       "4  MULTIPOLYGON (((12.58068 49.90343, 12.58067 49...  "
      ]
     },
     "execution_count": 33,
     "metadata": {},
     "output_type": "execute_result"
    }
   ],
   "source": [
    "units.head()"
   ]
  },
  {
   "cell_type": "markdown",
   "id": "d17187fd-1e2a-4a26-936f-f1315eaa6ece",
   "metadata": {},
   "source": [
    "For Czechia, the datasets of buildings are stored for each municipality (*Obec*)."
   ]
  },
  {
   "cell_type": "code",
   "execution_count": 35,
   "id": "88d14d69-d998-45f8-8e00-b230553913a3",
   "metadata": {},
   "outputs": [],
   "source": [
    "obce = units[units.LocalisedCharacterString == \"Obec\"]"
   ]
  },
  {
   "cell_type": "markdown",
   "id": "a35fe20c-d4b9-4ee8-84ce-6bf3af2c0c3e",
   "metadata": {},
   "source": [
    "Fetch and dump building dataset of each municipality represented by its national code:"
   ]
  },
  {
   "cell_type": "code",
   "execution_count": 36,
   "id": "0c8d00a1-941c-4dc7-b64d-1f7608adddfc",
   "metadata": {},
   "outputs": [],
   "source": [
    "for code in obce[\"nationalCode\"]:\n",
    "    url_building = f\"https://services.cuzk.cz/gml/inspire/bu/epsg-4258/{code}.zip\"\n",
    "    r = httpx.get(url_building, verify=False)\n",
    "\n",
    "    with open(f\"../../data/buildings_raw/czechia/{code}.zip\", \"wb\") as f:\n",
    "        f.write(r.content)"
   ]
  },
  {
   "cell_type": "markdown",
   "id": "105f334c-1fd8-4680-a119-f8653564fe42",
   "metadata": {},
   "source": [
    "(optional) Dump the administrative units dataset:"
   ]
  },
  {
   "cell_type": "code",
   "execution_count": 37,
   "id": "113f5ea6-efed-4c7b-bd77-77e629e0c275",
   "metadata": {},
   "outputs": [],
   "source": [
    "units.to_file(\"../../data/buildings_raw/czechia/adm_units.gpkg\")"
   ]
  }
 ],
 "metadata": {
  "kernelspec": {
   "display_name": "Python 3 (ipykernel)",
   "language": "python",
   "name": "python3"
  },
  "language_info": {
   "codemirror_mode": {
    "name": "ipython",
    "version": 3
   },
   "file_extension": ".py",
   "mimetype": "text/x-python",
   "name": "python",
   "nbconvert_exporter": "python",
   "pygments_lexer": "ipython3",
   "version": "3.11.9"
  }
 },
 "nbformat": 4,
 "nbformat_minor": 5
}
