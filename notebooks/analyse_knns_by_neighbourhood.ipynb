{
 "cells": [
  {
   "cell_type": "code",
   "execution_count": 1,
   "id": "ed1c2a0c-fc90-49fd-aea4-bae280913c99",
   "metadata": {},
   "outputs": [
    {
     "name": "stdout",
     "output_type": "stream",
     "text": [
      "CPU times: user 11.2 s, sys: 422 ms, total: 11.7 s\n",
      "Wall time: 9.37 s\n"
     ]
    }
   ],
   "source": [
    "%%time\n",
    "\n",
    "import glob\n",
    "\n",
    "import geopandas as gpd\n",
    "import matplotlib.pyplot as plt\n",
    "import numba\n",
    "import numpy as np\n",
    "import pandas as pd\n",
    "from libpysal.graph import read_parquet\n",
    "from sklearn.preprocessing import PowerTransformer, RobustScaler, StandardScaler\n",
    "\n",
    "from fast_hdbscan.numba_kdtree import kdtree_to_numba\n",
    "from fast_hdbscan.numba_kdtree import parallel_tree_query\n",
    "from sklearn.neighbors import KDTree"
   ]
  },
  {
   "cell_type": "code",
   "execution_count": 2,
   "id": "ff3fae2f-d1b2-4882-8432-e5fd66fa309c",
   "metadata": {},
   "outputs": [],
   "source": [
    "region_id = 69300\n",
    "\n",
    "tessellations_dir = '/data/uscuni-ulce/processed_data/tessellations/'\n",
    "chars_dir = \"/data/uscuni-ulce/processed_data/chars/\"\n",
    "graph_dir = \"/data/uscuni-ulce/processed_data/neigh_graphs/\""
   ]
  },
  {
   "cell_type": "code",
   "execution_count": null,
   "id": "5b69d09c-513f-46aa-a953-1ad2f7b1de34",
   "metadata": {},
   "outputs": [],
   "source": []
  },
  {
   "cell_type": "code",
   "execution_count": 3,
   "id": "3f4404d8-de8b-42ce-a35c-63f798d1ed34",
   "metadata": {},
   "outputs": [],
   "source": [
    "graph = read_parquet(graph_dir + f\"tessellation_graph_{region_id}_knn1.parquet\")"
   ]
  },
  {
   "cell_type": "code",
   "execution_count": 4,
   "id": "152647b5-c772-40aa-9998-5c71571e0668",
   "metadata": {},
   "outputs": [
    {
     "data": {
      "text/plain": [
       "count    304554.000000\n",
       "mean          6.751085\n",
       "std           2.060782\n",
       "min           1.000000\n",
       "25%           6.000000\n",
       "50%           7.000000\n",
       "75%           8.000000\n",
       "max          82.000000\n",
       "Name: cardinalities, dtype: float64"
      ]
     },
     "execution_count": 4,
     "metadata": {},
     "output_type": "execute_result"
    }
   ],
   "source": [
    "graph.cardinalities.describe()"
   ]
  },
  {
   "cell_type": "code",
   "execution_count": 5,
   "id": "961a5d5e-406d-4b87-baf7-aa7d69aaa0d6",
   "metadata": {},
   "outputs": [],
   "source": [
    "# graph2 = graph.higher_order(lower_order=True, k=2, diagonal=True)\n",
    "# graph2.cardinalities.describe()"
   ]
  },
  {
   "cell_type": "code",
   "execution_count": 6,
   "id": "8dc98e85-2cd7-4c91-aa33-640605c8901c",
   "metadata": {
    "scrolled": true
   },
   "outputs": [],
   "source": [
    "# graph3 = graph.higher_order(lower_order=True, k=3, diagonal=True)\n",
    "# graph3"
   ]
  },
  {
   "cell_type": "code",
   "execution_count": null,
   "id": "cb5a174b-f7b4-4e9a-8634-11fd9ed382f9",
   "metadata": {},
   "outputs": [],
   "source": []
  },
  {
   "cell_type": "code",
   "execution_count": null,
   "id": "a4d16795-8684-45d7-853b-b2db4de44524",
   "metadata": {},
   "outputs": [],
   "source": []
  },
  {
   "cell_type": "code",
   "execution_count": null,
   "id": "dc8ec721-fcec-43a5-8c12-a28c2151c4a7",
   "metadata": {},
   "outputs": [],
   "source": []
  },
  {
   "cell_type": "code",
   "execution_count": null,
   "id": "f7fe8b92-7c81-4220-9017-62d53b621b85",
   "metadata": {},
   "outputs": [],
   "source": []
  },
  {
   "cell_type": "code",
   "execution_count": 7,
   "id": "550be3f4-8a6d-484b-b743-f4b072899500",
   "metadata": {},
   "outputs": [],
   "source": [
    "from core.cluster_validation import print_distance, generate_neigbhourhood_groups"
   ]
  },
  {
   "cell_type": "code",
   "execution_count": null,
   "id": "84bedbbc-a07a-4cd2-a85c-95794d3059df",
   "metadata": {},
   "outputs": [],
   "source": []
  },
  {
   "cell_type": "code",
   "execution_count": 8,
   "id": "a5fa6580-2978-4744-9fd1-e3a0548dd6b4",
   "metadata": {},
   "outputs": [],
   "source": [
    "tessellation = gpd.read_parquet(\n",
    "        tessellations_dir + f\"tessellation_{region_id}.parquet\"\n",
    ")"
   ]
  },
  {
   "cell_type": "code",
   "execution_count": null,
   "id": "cffc4858-663b-4899-b8e9-2412086f1dc2",
   "metadata": {},
   "outputs": [],
   "source": []
  },
  {
   "cell_type": "code",
   "execution_count": 9,
   "id": "dbe6bb41-0636-468b-96c9-e9c8edcbb6ca",
   "metadata": {},
   "outputs": [],
   "source": [
    "X_train = pd.read_parquet(chars_dir + f'primary_chars_{region_id}.parquet')\n",
    "\n",
    "\n",
    "\n",
    "X_train = X_train[X_train.index >= 0]\n",
    "\n",
    "\n",
    "\n",
    "spatial_lag = 3\n",
    "\n",
    "\n",
    "# lag = pd.read_parquet(f'/data/uscuni-ulce/processed_data/context_data/context_chars_{region_id}_lag_{spatial_lag}.parquet')\n",
    "\n",
    "lag = pd.read_parquet(f'/data/uscuni-ulce/processed_data/context_data/unprocessed_context_chars_{region_id}_lag_{spatial_lag}.parquet')\n",
    "\n",
    "\n",
    "\n",
    "# X_train = X_train.join(lag[[c for c in lag.columns if '_median' in c]], how='inner')\n",
    "X_train = X_train.join(lag, how='inner')\n"
   ]
  },
  {
   "cell_type": "code",
   "execution_count": 10,
   "id": "5f23eab9-cef1-4d32-a3a3-032870d37eb4",
   "metadata": {},
   "outputs": [],
   "source": [
    "vals = StandardScaler().fit_transform(X_train)\n",
    "X_train = pd.DataFrame(vals, columns=X_train.columns, index=X_train.index)\n",
    "\n",
    "vals = np.nan_to_num(X_train)\n",
    "X_train = pd.DataFrame(vals, columns=X_train.columns, index=X_train.index)\n",
    "\n",
    "\n",
    "# X_train = X_train.clip(-10, 10)"
   ]
  },
  {
   "cell_type": "code",
   "execution_count": 11,
   "id": "f3d70441-a194-4e97-98aa-49321f61e386",
   "metadata": {},
   "outputs": [
    {
     "data": {
      "text/plain": [
       "(299064, 248)"
      ]
     },
     "execution_count": 11,
     "metadata": {},
     "output_type": "execute_result"
    }
   ],
   "source": [
    "X_train.shape"
   ]
  },
  {
   "cell_type": "code",
   "execution_count": null,
   "id": "d8d0d452-a4c0-4c75-a513-848df6d4f244",
   "metadata": {},
   "outputs": [],
   "source": []
  },
  {
   "cell_type": "code",
   "execution_count": 12,
   "id": "9a678783-bf79-489f-ab9f-c0ada7f62237",
   "metadata": {},
   "outputs": [],
   "source": [
    "# X_train = pd.read_parquet('../data/old_prague_data/old_prague_data.parquet')\n",
    "# X_train = X_train.set_index('uID').sort_index()\n",
    "\n",
    "\n",
    "# vals = np.nan_to_num(StandardScaler().fit_transform(X_train))\n",
    "# X_train = pd.DataFrame(vals, columns=X_train.columns, index=X_train.index)\n",
    "# # X_train = X_train.clip(-10, 10)\n",
    "\n",
    "# vals = np.nan_to_num(X_train)\n",
    "# X_train = pd.DataFrame(vals, columns=X_train.columns, index=X_train.index)\n",
    "\n"
   ]
  },
  {
   "cell_type": "code",
   "execution_count": 13,
   "id": "70a1a6ce-1fe4-4466-aefb-2b4f633efc39",
   "metadata": {},
   "outputs": [],
   "source": [
    "# tessellation = gpd.read_file('../data/old_prague_data/prg_geometry.gpkg', \n",
    "#                              layer='tessellation').set_index('uID').sort_index().to_crs(epsg=3035)\n",
    "# from libpysal.graph import Graph\n",
    "# graph = Graph.build_fuzzy_contiguity(tessellation, buffer=.001)"
   ]
  },
  {
   "cell_type": "code",
   "execution_count": null,
   "id": "2da29b95-d54a-4289-8b58-e61ef707620b",
   "metadata": {},
   "outputs": [],
   "source": []
  },
  {
   "cell_type": "code",
   "execution_count": 30,
   "id": "cb87e783-c173-4ae7-953f-9838228bb9cd",
   "metadata": {},
   "outputs": [],
   "source": [
    "tess_groups = generate_neigbhourhood_groups(tessellation[tessellation.index.isin(X_train.index)])\n",
    "tess_groups = tess_groups[tess_groups.index.isin(X_train.index)]\n",
    "tess_groups_ilocs = (\n",
    "    pd.Series(np.arange(len(X_train)), index=X_train.index)\n",
    "    .loc[tess_groups.index]\n",
    "    .values\n",
    ")"
   ]
  },
  {
   "cell_type": "code",
   "execution_count": 31,
   "id": "84520012-3db5-44c1-81b1-b08eb8d5d9ac",
   "metadata": {},
   "outputs": [
    {
     "data": {
      "text/html": [
       "<style type=\"text/css\">\n",
       "#T_9e9f7_row0_col0, #T_9e9f7_row1_col1, #T_9e9f7_row2_col2, #T_9e9f7_row3_col3, #T_9e9f7_row4_col4, #T_9e9f7_row5_col5, #T_9e9f7_row6_col6, #T_9e9f7_row7_col7, #T_9e9f7_row8_col8 {\n",
       "  background-color: #f7fcfd;\n",
       "  color: #000000;\n",
       "}\n",
       "#T_9e9f7_row0_col1 {\n",
       "  background-color: #9ddacb;\n",
       "  color: #000000;\n",
       "}\n",
       "#T_9e9f7_row0_col2, #T_9e9f7_row0_col3 {\n",
       "  background-color: #1e8741;\n",
       "  color: #f1f1f1;\n",
       "}\n",
       "#T_9e9f7_row0_col4, #T_9e9f7_row1_col4, #T_9e9f7_row2_col5, #T_9e9f7_row3_col5, #T_9e9f7_row4_col5, #T_9e9f7_row5_col4, #T_9e9f7_row6_col4, #T_9e9f7_row7_col5, #T_9e9f7_row8_col5 {\n",
       "  background-color: #00441b;\n",
       "  color: #f1f1f1;\n",
       "}\n",
       "#T_9e9f7_row0_col5 {\n",
       "  background-color: #157f3b;\n",
       "  color: #f1f1f1;\n",
       "}\n",
       "#T_9e9f7_row0_col6 {\n",
       "  background-color: #80cdb7;\n",
       "  color: #000000;\n",
       "}\n",
       "#T_9e9f7_row0_col7, #T_9e9f7_row5_col7 {\n",
       "  background-color: #00481d;\n",
       "  color: #f1f1f1;\n",
       "}\n",
       "#T_9e9f7_row0_col8, #T_9e9f7_row4_col8 {\n",
       "  background-color: #18823d;\n",
       "  color: #f1f1f1;\n",
       "}\n",
       "#T_9e9f7_row1_col0 {\n",
       "  background-color: #9cd9ca;\n",
       "  color: #000000;\n",
       "}\n",
       "#T_9e9f7_row1_col2 {\n",
       "  background-color: #3eaa70;\n",
       "  color: #f1f1f1;\n",
       "}\n",
       "#T_9e9f7_row1_col3 {\n",
       "  background-color: #40ad75;\n",
       "  color: #f1f1f1;\n",
       "}\n",
       "#T_9e9f7_row1_col5 {\n",
       "  background-color: #17813d;\n",
       "  color: #f1f1f1;\n",
       "}\n",
       "#T_9e9f7_row1_col6 {\n",
       "  background-color: #c2e8e0;\n",
       "  color: #000000;\n",
       "}\n",
       "#T_9e9f7_row1_col7 {\n",
       "  background-color: #005f26;\n",
       "  color: #f1f1f1;\n",
       "}\n",
       "#T_9e9f7_row1_col8, #T_9e9f7_row3_col6 {\n",
       "  background-color: #41ae77;\n",
       "  color: #f1f1f1;\n",
       "}\n",
       "#T_9e9f7_row2_col0 {\n",
       "  background-color: #27904c;\n",
       "  color: #f1f1f1;\n",
       "}\n",
       "#T_9e9f7_row2_col1 {\n",
       "  background-color: #48b27f;\n",
       "  color: #f1f1f1;\n",
       "}\n",
       "#T_9e9f7_row2_col3 {\n",
       "  background-color: #6fc6aa;\n",
       "  color: #000000;\n",
       "}\n",
       "#T_9e9f7_row2_col4 {\n",
       "  background-color: #2e9756;\n",
       "  color: #f1f1f1;\n",
       "}\n",
       "#T_9e9f7_row2_col6 {\n",
       "  background-color: #72c7ad;\n",
       "  color: #000000;\n",
       "}\n",
       "#T_9e9f7_row2_col7 {\n",
       "  background-color: #7fcdb6;\n",
       "  color: #000000;\n",
       "}\n",
       "#T_9e9f7_row2_col8 {\n",
       "  background-color: #7dccb5;\n",
       "  color: #000000;\n",
       "}\n",
       "#T_9e9f7_row3_col0 {\n",
       "  background-color: #03702e;\n",
       "  color: #f1f1f1;\n",
       "}\n",
       "#T_9e9f7_row3_col1 {\n",
       "  background-color: #309b5b;\n",
       "  color: #f1f1f1;\n",
       "}\n",
       "#T_9e9f7_row3_col2 {\n",
       "  background-color: #53b88c;\n",
       "  color: #f1f1f1;\n",
       "}\n",
       "#T_9e9f7_row3_col4 {\n",
       "  background-color: #006529;\n",
       "  color: #f1f1f1;\n",
       "}\n",
       "#T_9e9f7_row3_col7 {\n",
       "  background-color: #319c5c;\n",
       "  color: #f1f1f1;\n",
       "}\n",
       "#T_9e9f7_row3_col8 {\n",
       "  background-color: #8dd3c0;\n",
       "  color: #000000;\n",
       "}\n",
       "#T_9e9f7_row4_col0, #T_9e9f7_row5_col8 {\n",
       "  background-color: #0b7734;\n",
       "  color: #f1f1f1;\n",
       "}\n",
       "#T_9e9f7_row4_col1 {\n",
       "  background-color: #107a37;\n",
       "  color: #f1f1f1;\n",
       "}\n",
       "#T_9e9f7_row4_col2, #T_9e9f7_row8_col1 {\n",
       "  background-color: #44af79;\n",
       "  color: #f1f1f1;\n",
       "}\n",
       "#T_9e9f7_row4_col3 {\n",
       "  background-color: #38a367;\n",
       "  color: #f1f1f1;\n",
       "}\n",
       "#T_9e9f7_row4_col6 {\n",
       "  background-color: #248c47;\n",
       "  color: #f1f1f1;\n",
       "}\n",
       "#T_9e9f7_row4_col7 {\n",
       "  background-color: #90d4c3;\n",
       "  color: #000000;\n",
       "}\n",
       "#T_9e9f7_row5_col0, #T_9e9f7_row7_col6 {\n",
       "  background-color: #37a266;\n",
       "  color: #f1f1f1;\n",
       "}\n",
       "#T_9e9f7_row5_col1 {\n",
       "  background-color: #3ba76c;\n",
       "  color: #f1f1f1;\n",
       "}\n",
       "#T_9e9f7_row5_col2 {\n",
       "  background-color: #006d2c;\n",
       "  color: #f1f1f1;\n",
       "}\n",
       "#T_9e9f7_row5_col3 {\n",
       "  background-color: #258d48;\n",
       "  color: #f1f1f1;\n",
       "}\n",
       "#T_9e9f7_row5_col6 {\n",
       "  background-color: #349f61;\n",
       "  color: #f1f1f1;\n",
       "}\n",
       "#T_9e9f7_row6_col0 {\n",
       "  background-color: #6ac4a7;\n",
       "  color: #000000;\n",
       "}\n",
       "#T_9e9f7_row6_col1 {\n",
       "  background-color: #b7e4da;\n",
       "  color: #000000;\n",
       "}\n",
       "#T_9e9f7_row6_col2 {\n",
       "  background-color: #56ba91;\n",
       "  color: #f1f1f1;\n",
       "}\n",
       "#T_9e9f7_row6_col3 {\n",
       "  background-color: #43af78;\n",
       "  color: #f1f1f1;\n",
       "}\n",
       "#T_9e9f7_row6_col5 {\n",
       "  background-color: #006027;\n",
       "  color: #f1f1f1;\n",
       "}\n",
       "#T_9e9f7_row6_col7 {\n",
       "  background-color: #00682a;\n",
       "  color: #f1f1f1;\n",
       "}\n",
       "#T_9e9f7_row6_col8 {\n",
       "  background-color: #4ab381;\n",
       "  color: #f1f1f1;\n",
       "}\n",
       "#T_9e9f7_row7_col0 {\n",
       "  background-color: #0c7735;\n",
       "  color: #f1f1f1;\n",
       "}\n",
       "#T_9e9f7_row7_col1 {\n",
       "  background-color: #208843;\n",
       "  color: #f1f1f1;\n",
       "}\n",
       "#T_9e9f7_row7_col2 {\n",
       "  background-color: #94d6c5;\n",
       "  color: #000000;\n",
       "}\n",
       "#T_9e9f7_row7_col3 {\n",
       "  background-color: #61bf9e;\n",
       "  color: #000000;\n",
       "}\n",
       "#T_9e9f7_row7_col4 {\n",
       "  background-color: #8fd4c2;\n",
       "  color: #000000;\n",
       "}\n",
       "#T_9e9f7_row7_col8 {\n",
       "  background-color: #46b17c;\n",
       "  color: #f1f1f1;\n",
       "}\n",
       "#T_9e9f7_row8_col0 {\n",
       "  background-color: #19833e;\n",
       "  color: #f1f1f1;\n",
       "}\n",
       "#T_9e9f7_row8_col2 {\n",
       "  background-color: #75c9af;\n",
       "  color: #000000;\n",
       "}\n",
       "#T_9e9f7_row8_col3 {\n",
       "  background-color: #a0dbcd;\n",
       "  color: #000000;\n",
       "}\n",
       "#T_9e9f7_row8_col4 {\n",
       "  background-color: #005622;\n",
       "  color: #f1f1f1;\n",
       "}\n",
       "#T_9e9f7_row8_col6 {\n",
       "  background-color: #5cbd98;\n",
       "  color: #f1f1f1;\n",
       "}\n",
       "#T_9e9f7_row8_col7 {\n",
       "  background-color: #2a9350;\n",
       "  color: #f1f1f1;\n",
       "}\n",
       "</style>\n",
       "<table id=\"T_9e9f7\">\n",
       "  <thead>\n",
       "    <tr>\n",
       "      <th class=\"blank level0\" >&nbsp;</th>\n",
       "      <th id=\"T_9e9f7_level0_col0\" class=\"col_heading level0 col0\" >holyne</th>\n",
       "      <th id=\"T_9e9f7_level0_col1\" class=\"col_heading level0 col1\" >housing estate</th>\n",
       "      <th id=\"T_9e9f7_level0_col2\" class=\"col_heading level0 col2\" >josefov</th>\n",
       "      <th id=\"T_9e9f7_level0_col3\" class=\"col_heading level0 col3\" >karlin</th>\n",
       "      <th id=\"T_9e9f7_level0_col4\" class=\"col_heading level0 col4\" >mala strana</th>\n",
       "      <th id=\"T_9e9f7_level0_col5\" class=\"col_heading level0 col5\" >malesice</th>\n",
       "      <th id=\"T_9e9f7_level0_col6\" class=\"col_heading level0 col6\" >nusle</th>\n",
       "      <th id=\"T_9e9f7_level0_col7\" class=\"col_heading level0 col7\" >stare mesto</th>\n",
       "      <th id=\"T_9e9f7_level0_col8\" class=\"col_heading level0 col8\" >vinohrady</th>\n",
       "    </tr>\n",
       "  </thead>\n",
       "  <tbody>\n",
       "    <tr>\n",
       "      <th id=\"T_9e9f7_level0_row0\" class=\"row_heading level0 row0\" >holyne</th>\n",
       "      <td id=\"T_9e9f7_row0_col0\" class=\"data row0 col0\" >0.000000</td>\n",
       "      <td id=\"T_9e9f7_row0_col1\" class=\"data row0 col1\" >10.200463</td>\n",
       "      <td id=\"T_9e9f7_row0_col2\" class=\"data row0 col2\" >21.471225</td>\n",
       "      <td id=\"T_9e9f7_row0_col3\" class=\"data row0 col3\" >21.372109</td>\n",
       "      <td id=\"T_9e9f7_row0_col4\" class=\"data row0 col4\" >27.911011</td>\n",
       "      <td id=\"T_9e9f7_row0_col5\" class=\"data row0 col5\" >22.275167</td>\n",
       "      <td id=\"T_9e9f7_row0_col6\" class=\"data row0 col6\" >12.205975</td>\n",
       "      <td id=\"T_9e9f7_row0_col7\" class=\"data row0 col7\" >27.534180</td>\n",
       "      <td id=\"T_9e9f7_row0_col8\" class=\"data row0 col8\" >21.962787</td>\n",
       "    </tr>\n",
       "    <tr>\n",
       "      <th id=\"T_9e9f7_level0_row1\" class=\"row_heading level0 row1\" >housing estate</th>\n",
       "      <td id=\"T_9e9f7_row1_col0\" class=\"data row1 col0\" >10.200463</td>\n",
       "      <td id=\"T_9e9f7_row1_col1\" class=\"data row1 col1\" >0.000000</td>\n",
       "      <td id=\"T_9e9f7_row1_col2\" class=\"data row1 col2\" >17.542557</td>\n",
       "      <td id=\"T_9e9f7_row1_col3\" class=\"data row1 col3\" >17.264538</td>\n",
       "      <td id=\"T_9e9f7_row1_col4\" class=\"data row1 col4\" >27.493049</td>\n",
       "      <td id=\"T_9e9f7_row1_col5\" class=\"data row1 col5\" >21.761749</td>\n",
       "      <td id=\"T_9e9f7_row1_col6\" class=\"data row1 col6\" >7.521721</td>\n",
       "      <td id=\"T_9e9f7_row1_col7\" class=\"data row1 col7\" >25.190502</td>\n",
       "      <td id=\"T_9e9f7_row1_col8\" class=\"data row1 col8\" >17.176847</td>\n",
       "    </tr>\n",
       "    <tr>\n",
       "      <th id=\"T_9e9f7_level0_row2\" class=\"row_heading level0 row2\" >josefov</th>\n",
       "      <td id=\"T_9e9f7_row2_col0\" class=\"data row2 col0\" >21.471225</td>\n",
       "      <td id=\"T_9e9f7_row2_col1\" class=\"data row2 col1\" >17.542557</td>\n",
       "      <td id=\"T_9e9f7_row2_col2\" class=\"data row2 col2\" >0.000000</td>\n",
       "      <td id=\"T_9e9f7_row2_col3\" class=\"data row2 col3\" >14.045140</td>\n",
       "      <td id=\"T_9e9f7_row2_col4\" class=\"data row2 col4\" >20.634179</td>\n",
       "      <td id=\"T_9e9f7_row2_col5\" class=\"data row2 col5\" >29.311334</td>\n",
       "      <td id=\"T_9e9f7_row2_col6\" class=\"data row2 col6\" >13.766314</td>\n",
       "      <td id=\"T_9e9f7_row2_col7\" class=\"data row2 col7\" >12.920035</td>\n",
       "      <td id=\"T_9e9f7_row2_col8\" class=\"data row2 col8\" >12.948496</td>\n",
       "    </tr>\n",
       "    <tr>\n",
       "      <th id=\"T_9e9f7_level0_row3\" class=\"row_heading level0 row3\" >karlin</th>\n",
       "      <td id=\"T_9e9f7_row3_col0\" class=\"data row3 col0\" >21.372109</td>\n",
       "      <td id=\"T_9e9f7_row3_col1\" class=\"data row3 col1\" >17.264538</td>\n",
       "      <td id=\"T_9e9f7_row3_col2\" class=\"data row3 col2\" >14.045140</td>\n",
       "      <td id=\"T_9e9f7_row3_col3\" class=\"data row3 col3\" >0.000000</td>\n",
       "      <td id=\"T_9e9f7_row3_col4\" class=\"data row3 col4\" >22.251963</td>\n",
       "      <td id=\"T_9e9f7_row3_col5\" class=\"data row3 col5\" >24.854799</td>\n",
       "      <td id=\"T_9e9f7_row3_col6\" class=\"data row3 col6\" >15.467313</td>\n",
       "      <td id=\"T_9e9f7_row3_col7\" class=\"data row3 col7\" >17.152240</td>\n",
       "      <td id=\"T_9e9f7_row3_col8\" class=\"data row3 col8\" >10.013895</td>\n",
       "    </tr>\n",
       "    <tr>\n",
       "      <th id=\"T_9e9f7_level0_row4\" class=\"row_heading level0 row4\" >mala strana</th>\n",
       "      <td id=\"T_9e9f7_row4_col0\" class=\"data row4 col0\" >27.911011</td>\n",
       "      <td id=\"T_9e9f7_row4_col1\" class=\"data row4 col1\" >27.493049</td>\n",
       "      <td id=\"T_9e9f7_row4_col2\" class=\"data row4 col2\" >20.634179</td>\n",
       "      <td id=\"T_9e9f7_row4_col3\" class=\"data row4 col3\" >22.251963</td>\n",
       "      <td id=\"T_9e9f7_row4_col4\" class=\"data row4 col4\" >0.000000</td>\n",
       "      <td id=\"T_9e9f7_row4_col5\" class=\"data row4 col5\" >33.532687</td>\n",
       "      <td id=\"T_9e9f7_row4_col6\" class=\"data row4 col6\" >24.929454</td>\n",
       "      <td id=\"T_9e9f7_row4_col7\" class=\"data row4 col7\" >13.297023</td>\n",
       "      <td id=\"T_9e9f7_row4_col8\" class=\"data row4 col8\" >26.386932</td>\n",
       "    </tr>\n",
       "    <tr>\n",
       "      <th id=\"T_9e9f7_level0_row5\" class=\"row_heading level0 row5\" >malesice</th>\n",
       "      <td id=\"T_9e9f7_row5_col0\" class=\"data row5 col0\" >22.275167</td>\n",
       "      <td id=\"T_9e9f7_row5_col1\" class=\"data row5 col1\" >21.761749</td>\n",
       "      <td id=\"T_9e9f7_row5_col2\" class=\"data row5 col2\" >29.311334</td>\n",
       "      <td id=\"T_9e9f7_row5_col3\" class=\"data row5 col3\" >24.854799</td>\n",
       "      <td id=\"T_9e9f7_row5_col4\" class=\"data row5 col4\" >33.532687</td>\n",
       "      <td id=\"T_9e9f7_row5_col5\" class=\"data row5 col5\" >0.000000</td>\n",
       "      <td id=\"T_9e9f7_row5_col6\" class=\"data row5 col6\" >22.692491</td>\n",
       "      <td id=\"T_9e9f7_row5_col7\" class=\"data row5 col7\" >33.131050</td>\n",
       "      <td id=\"T_9e9f7_row5_col8\" class=\"data row5 col8\" >27.973932</td>\n",
       "    </tr>\n",
       "    <tr>\n",
       "      <th id=\"T_9e9f7_level0_row6\" class=\"row_heading level0 row6\" >nusle</th>\n",
       "      <td id=\"T_9e9f7_row6_col0\" class=\"data row6 col0\" >12.205975</td>\n",
       "      <td id=\"T_9e9f7_row6_col1\" class=\"data row6 col1\" >7.521721</td>\n",
       "      <td id=\"T_9e9f7_row6_col2\" class=\"data row6 col2\" >13.766314</td>\n",
       "      <td id=\"T_9e9f7_row6_col3\" class=\"data row6 col3\" >15.467313</td>\n",
       "      <td id=\"T_9e9f7_row6_col4\" class=\"data row6 col4\" >24.929454</td>\n",
       "      <td id=\"T_9e9f7_row6_col5\" class=\"data row6 col5\" >22.692491</td>\n",
       "      <td id=\"T_9e9f7_row6_col6\" class=\"data row6 col6\" >0.000000</td>\n",
       "      <td id=\"T_9e9f7_row6_col7\" class=\"data row6 col7\" >22.112099</td>\n",
       "      <td id=\"T_9e9f7_row6_col8\" class=\"data row6 col8\" >14.890648</td>\n",
       "    </tr>\n",
       "    <tr>\n",
       "      <th id=\"T_9e9f7_level0_row7\" class=\"row_heading level0 row7\" >stare mesto</th>\n",
       "      <td id=\"T_9e9f7_row7_col0\" class=\"data row7 col0\" >27.534180</td>\n",
       "      <td id=\"T_9e9f7_row7_col1\" class=\"data row7 col1\" >25.190502</td>\n",
       "      <td id=\"T_9e9f7_row7_col2\" class=\"data row7 col2\" >12.920035</td>\n",
       "      <td id=\"T_9e9f7_row7_col3\" class=\"data row7 col3\" >17.152240</td>\n",
       "      <td id=\"T_9e9f7_row7_col4\" class=\"data row7 col4\" >13.297023</td>\n",
       "      <td id=\"T_9e9f7_row7_col5\" class=\"data row7 col5\" >33.131050</td>\n",
       "      <td id=\"T_9e9f7_row7_col6\" class=\"data row7 col6\" >22.112099</td>\n",
       "      <td id=\"T_9e9f7_row7_col7\" class=\"data row7 col7\" >0.000000</td>\n",
       "      <td id=\"T_9e9f7_row7_col8\" class=\"data row7 col8\" >20.173909</td>\n",
       "    </tr>\n",
       "    <tr>\n",
       "      <th id=\"T_9e9f7_level0_row8\" class=\"row_heading level0 row8\" >vinohrady</th>\n",
       "      <td id=\"T_9e9f7_row8_col0\" class=\"data row8 col0\" >21.962787</td>\n",
       "      <td id=\"T_9e9f7_row8_col1\" class=\"data row8 col1\" >17.176847</td>\n",
       "      <td id=\"T_9e9f7_row8_col2\" class=\"data row8 col2\" >12.948496</td>\n",
       "      <td id=\"T_9e9f7_row8_col3\" class=\"data row8 col3\" >10.013895</td>\n",
       "      <td id=\"T_9e9f7_row8_col4\" class=\"data row8 col4\" >26.386932</td>\n",
       "      <td id=\"T_9e9f7_row8_col5\" class=\"data row8 col5\" >27.973932</td>\n",
       "      <td id=\"T_9e9f7_row8_col6\" class=\"data row8 col6\" >14.890648</td>\n",
       "      <td id=\"T_9e9f7_row8_col7\" class=\"data row8 col7\" >20.173909</td>\n",
       "      <td id=\"T_9e9f7_row8_col8\" class=\"data row8 col8\" >0.000000</td>\n",
       "    </tr>\n",
       "  </tbody>\n",
       "</table>\n"
      ],
      "text/plain": [
       "<pandas.io.formats.style.Styler at 0x7b73546f3b00>"
      ]
     },
     "execution_count": 31,
     "metadata": {},
     "output_type": "execute_result"
    }
   ],
   "source": [
    "neighbourhoods = X_train.loc[tess_groups.index].groupby(tess_groups.values).mean()\n",
    "print_distance(neighbourhoods, metric='euclidean')"
   ]
  },
  {
   "cell_type": "code",
   "execution_count": 16,
   "id": "e88bca82-78a2-4739-bf48-d9cf62ccf104",
   "metadata": {},
   "outputs": [],
   "source": [
    "from scipy.spatial.distance import pdist"
   ]
  },
  {
   "cell_type": "code",
   "execution_count": 17,
   "id": "7d9b96ad-60e7-4e3d-bff7-c385ec27eff1",
   "metadata": {},
   "outputs": [
    {
     "name": "stdout",
     "output_type": "stream",
     "text": [
      "holyne 14.861031066794668\n",
      "housing estate 12.898319517292602\n",
      "josefov 15.379205913100982\n",
      "karlin 17.629432749965968\n",
      "mala strana 31.194500423210485\n",
      "malesice 19.508783965247943\n",
      "nusle 16.593301220937185\n",
      "stare mesto 22.13919854956777\n",
      "vinohrady 12.498921845976499\n"
     ]
    }
   ],
   "source": [
    "for i, g in X_train.loc[tess_groups.index].groupby(tess_groups.values):\n",
    "    print(i, np.median(pdist(g)))"
   ]
  },
  {
   "cell_type": "code",
   "execution_count": null,
   "id": "345871df-3100-46ab-89e0-3c9acb37aea2",
   "metadata": {},
   "outputs": [],
   "source": []
  },
  {
   "cell_type": "code",
   "execution_count": 16,
   "id": "1df01893-cb94-4917-9faf-490a1ac404ad",
   "metadata": {},
   "outputs": [],
   "source": [
    "# tessellation.loc[tess_groups.index].explore(column=tess_groups.values, categorical=True)"
   ]
  },
  {
   "cell_type": "code",
   "execution_count": null,
   "id": "03d6dd3a-9616-4872-854f-44b2fcf77658",
   "metadata": {},
   "outputs": [],
   "source": []
  },
  {
   "cell_type": "code",
   "execution_count": null,
   "id": "7b5eb17a-b027-4908-bc56-53a2148f2313",
   "metadata": {},
   "outputs": [],
   "source": []
  },
  {
   "cell_type": "code",
   "execution_count": 19,
   "id": "00f135c3-94dd-47b3-82ac-c369e1381b4f",
   "metadata": {},
   "outputs": [],
   "source": [
    "newgraph = graph.subgraph(X_train.index.values)"
   ]
  },
  {
   "cell_type": "code",
   "execution_count": 20,
   "id": "cbf4a7ad-2ee0-4e6a-a6c9-b441ce85976e",
   "metadata": {},
   "outputs": [
    {
     "data": {
      "text/plain": [
       "component labels\n",
       "776    60555\n",
       "452    25177\n",
       "754    17243\n",
       "99     15583\n",
       "726    13382\n",
       "       ...  \n",
       "427        1\n",
       "426        1\n",
       "896        1\n",
       "893        1\n",
       "891        1\n",
       "Name: count, Length: 919, dtype: int64"
      ]
     },
     "execution_count": 20,
     "metadata": {},
     "output_type": "execute_result"
    }
   ],
   "source": [
    "newgraph.component_labels.value_counts()"
   ]
  },
  {
   "cell_type": "code",
   "execution_count": 36,
   "id": "bef03e19-72e9-43a1-adff-96812eca62fd",
   "metadata": {},
   "outputs": [],
   "source": [
    "main_comp = 0"
   ]
  },
  {
   "cell_type": "code",
   "execution_count": 37,
   "id": "bd080f2a-027a-4d3e-b083-0d1dd48af11c",
   "metadata": {},
   "outputs": [],
   "source": [
    "import lonboard\n",
    "from sidecar import Sidecar\n",
    "from libpysal.graph import Graph\n",
    "from lonboard.colormap import apply_continuous_cmap\n",
    "from core.cluster_validation import get_color"
   ]
  },
  {
   "cell_type": "code",
   "execution_count": 38,
   "id": "71d093c1-4e10-4836-b95e-7e763f617f92",
   "metadata": {},
   "outputs": [],
   "source": [
    "plotting = tessellation.loc[newgraph.component_labels[newgraph.component_labels == main_comp].index]"
   ]
  },
  {
   "cell_type": "code",
   "execution_count": 39,
   "id": "54df277f-b600-4510-8423-7acd72d67c85",
   "metadata": {},
   "outputs": [
    {
     "name": "stderr",
     "output_type": "stream",
     "text": [
      "/home/krasen/miniconda3/envs/urban_taxonomy/lib/python3.12/site-packages/lonboard/_geoarrow/ops/reproject.py:97: UserWarning: Input being reprojected to EPSG:4326 CRS\n",
      "  warnings.warn(\"Input being reprojected to EPSG:4326 CRS\")\n"
     ]
    },
    {
     "name": "stdout",
     "output_type": "stream",
     "text": [
      "CPU times: user 7.84 s, sys: 304 ms, total: 8.15 s\n",
      "Wall time: 8.14 s\n"
     ]
    }
   ],
   "source": [
    "%%time\n",
    "layer = lonboard.PolygonLayer.from_geopandas(plotting, opacity=.15)"
   ]
  },
  {
   "cell_type": "markdown",
   "id": "4c6a65c4-302e-4c92-acc7-4924b84fc2cb",
   "metadata": {},
   "source": [
    "Create a Sidecar view (assumes JupyterLab) for more comfortable experience."
   ]
  },
  {
   "cell_type": "code",
   "execution_count": 40,
   "id": "ec116363-5d7d-48c8-bb13-e7f869056a75",
   "metadata": {},
   "outputs": [],
   "source": [
    "\n",
    "\n",
    "sc = Sidecar(title='buildings')"
   ]
  },
  {
   "cell_type": "markdown",
   "id": "e66b4f84-ad69-4932-9f1c-9decf2c57d42",
   "metadata": {},
   "source": [
    "Create a Map object"
   ]
  },
  {
   "cell_type": "code",
   "execution_count": 41,
   "id": "53016a65-0503-4310-b8ea-10f3d6e81ce5",
   "metadata": {},
   "outputs": [],
   "source": [
    "m = lonboard.Map(layer, basemap_style=lonboard.basemap.CartoBasemap.Positron)"
   ]
  },
  {
   "cell_type": "markdown",
   "id": "5da6c4d6-98f2-47aa-bb4e-664d51d1692e",
   "metadata": {},
   "source": [
    "Display map within the sidecar plugin"
   ]
  },
  {
   "cell_type": "code",
   "execution_count": 42,
   "id": "48b30b04-9a50-4eea-bb1a-764ad56a4db1",
   "metadata": {},
   "outputs": [],
   "source": [
    "with sc:\n",
    "    display(m)"
   ]
  },
  {
   "cell_type": "code",
   "execution_count": null,
   "id": "bf05f18c-dcc6-4ddd-9270-ee520ca1af97",
   "metadata": {},
   "outputs": [],
   "source": []
  },
  {
   "cell_type": "code",
   "execution_count": null,
   "id": "a7eb7d6f-8ae4-42d9-b64e-23878bbf775e",
   "metadata": {},
   "outputs": [],
   "source": []
  },
  {
   "cell_type": "code",
   "execution_count": 43,
   "id": "40319454-12fe-4926-bbb3-e23a9ddc934d",
   "metadata": {},
   "outputs": [],
   "source": [
    "plot_data = X_train.loc[newgraph.component_labels[newgraph.component_labels == main_comp].index]\n",
    "plot_graph = newgraph.higher_order(k=3, lower_order=True, diagonal=True).subgraph(plot_data.index)"
   ]
  },
  {
   "cell_type": "code",
   "execution_count": null,
   "id": "52293240-be7d-47cb-84cf-daffd2e2ecd7",
   "metadata": {},
   "outputs": [],
   "source": []
  },
  {
   "cell_type": "code",
   "execution_count": 44,
   "id": "9b033437-7ab4-435d-85a2-9de23c51a6bd",
   "metadata": {},
   "outputs": [],
   "source": [
    "focals = plot_graph._adjacency.index.get_level_values(0).values\n",
    "neighbours = plot_graph._adjacency.index.get_level_values(1).values\n",
    "fvals = plot_data.loc[focals].values\n",
    "nvals = plot_data.loc[neighbours].values"
   ]
  },
  {
   "cell_type": "code",
   "execution_count": null,
   "id": "8e9fc49d-71d5-4501-836f-ee55cb9f6645",
   "metadata": {},
   "outputs": [],
   "source": []
  },
  {
   "cell_type": "code",
   "execution_count": 45,
   "id": "a88b0ff2-2633-48b8-9609-a9a80804c5c7",
   "metadata": {},
   "outputs": [],
   "source": [
    "distances = np.sqrt(np.sum(np.pow(fvals - nvals, 2), axis=1))"
   ]
  },
  {
   "cell_type": "code",
   "execution_count": null,
   "id": "41e2e13a-900d-4656-8259-160ba5ffd0d8",
   "metadata": {},
   "outputs": [],
   "source": []
  },
  {
   "cell_type": "code",
   "execution_count": 46,
   "id": "63c06e75-60e0-4eb5-ba03-cb1fd9338e5b",
   "metadata": {},
   "outputs": [],
   "source": [
    "# %%time\n",
    "# from scipy.spatial.distance import cosine\n",
    "# distances = [cosine(fvals[i], nvals[i]) for i in range(fvals.shape[0])]\n",
    "# distances = np.array(distances)"
   ]
  },
  {
   "cell_type": "code",
   "execution_count": 47,
   "id": "c2e1ddf3-b4e5-490f-9269-c256a0f49b0a",
   "metadata": {},
   "outputs": [
    {
     "data": {
      "text/plain": [
       "mean     12.869492\n",
       "std       6.703990\n",
       "min       0.000000\n",
       "25%       9.248641\n",
       "50%      11.955887\n",
       "75%      15.392705\n",
       "max     272.764101\n",
       "dtype: float64"
      ]
     },
     "execution_count": 47,
     "metadata": {},
     "output_type": "execute_result"
    }
   ],
   "source": [
    "pd.Series(distances).describe().iloc[1:]"
   ]
  },
  {
   "cell_type": "code",
   "execution_count": 58,
   "id": "8ac99ccb-66ce-401e-b70c-0ba01f20f080",
   "metadata": {},
   "outputs": [],
   "source": [
    "threshold = 8\n"
   ]
  },
  {
   "cell_type": "code",
   "execution_count": 59,
   "id": "1b3cc242-91fb-4c8a-8143-236dcd5afe90",
   "metadata": {},
   "outputs": [],
   "source": [
    "new_focals = focals[np.where(distances <= threshold)]\n",
    "new_neighbours = neighbours[np.where(distances <= threshold)]\n",
    "new_distances = distances[np.where(distances <= threshold)]\n",
    "\n",
    "subgraph = Graph.from_arrays(new_focals, new_neighbours, new_distances)"
   ]
  },
  {
   "cell_type": "code",
   "execution_count": null,
   "id": "1ff79f51-9e04-4bcd-8807-9e13ef7071cf",
   "metadata": {},
   "outputs": [],
   "source": []
  },
  {
   "cell_type": "code",
   "execution_count": 60,
   "id": "b00ec168-8bdf-4369-94a9-2bd00bbb5ceb",
   "metadata": {},
   "outputs": [],
   "source": [
    "# tessellation.loc[subgraph.component_labels[subgraph.component_labels == 78865].index].explore()"
   ]
  },
  {
   "cell_type": "code",
   "execution_count": 61,
   "id": "99c88fa1-5091-4647-9828-99aef67336b1",
   "metadata": {},
   "outputs": [],
   "source": [
    "ntop = 100\n",
    "\n",
    "top_components = subgraph.component_labels.value_counts()\n",
    "\n",
    "labels = subgraph.component_labels.copy()\n",
    "top_labels = top_components[:ntop].index.values\n",
    "labels[~labels.isin(top_labels)] = -1\n",
    "repl_dict = dict(zip(top_labels.tolist(), np.arange(ntop).tolist()))\n",
    "labels = labels.replace(repl_dict)"
   ]
  },
  {
   "cell_type": "code",
   "execution_count": null,
   "id": "a094911e-e81e-4d18-a859-43895b21cc29",
   "metadata": {},
   "outputs": [],
   "source": []
  },
  {
   "cell_type": "code",
   "execution_count": 62,
   "id": "4717c36b-b7d7-4b9e-8afe-7a4450bc6c9f",
   "metadata": {},
   "outputs": [],
   "source": [
    "layer.get_fill_color = get_color(labels)"
   ]
  },
  {
   "cell_type": "code",
   "execution_count": null,
   "id": "ebd213d1-5d73-4af4-9516-621b7602e9fc",
   "metadata": {},
   "outputs": [],
   "source": []
  },
  {
   "cell_type": "code",
   "execution_count": null,
   "id": "958b08e0-bdd9-48c3-9a12-1299490b03d7",
   "metadata": {},
   "outputs": [],
   "source": []
  },
  {
   "cell_type": "markdown",
   "id": "dc797436-80a9-41e3-a8b6-795518e404bd",
   "metadata": {},
   "source": [
    "### Hierarchical"
   ]
  },
  {
   "cell_type": "code",
   "execution_count": 21,
   "id": "fb271eee-4b50-4f37-9faf-e6ec31da0996",
   "metadata": {},
   "outputs": [],
   "source": [
    "# embedding = X_train[[c for c in X_train.columns if '_median' in c]]\n",
    "embedding = X_train"
   ]
  },
  {
   "cell_type": "code",
   "execution_count": 22,
   "id": "6a2311af-19eb-4ddb-999c-0ab4cf93413e",
   "metadata": {},
   "outputs": [],
   "source": [
    "from sklearn.cluster import AgglomerativeClustering\n",
    "from scipy.cluster.hierarchy import dendrogram\n",
    "from scipy.cluster.hierarchy import fcluster\n",
    "from sklearn.metrics import adjusted_rand_score\n",
    "from sklearn.metrics import davies_bouldin_score"
   ]
  },
  {
   "cell_type": "code",
   "execution_count": null,
   "id": "d7410c22-b9a1-444e-8a00-572aa86c975a",
   "metadata": {},
   "outputs": [],
   "source": []
  },
  {
   "cell_type": "code",
   "execution_count": 23,
   "id": "359723e5-560b-4305-84e9-4ccf78f160db",
   "metadata": {},
   "outputs": [],
   "source": [
    "clustering_graph = graph.subgraph(X_train.index.values).transform('B').sparse"
   ]
  },
  {
   "cell_type": "code",
   "execution_count": 24,
   "id": "5e1dd338-fe77-47a4-a221-810a37b3a453",
   "metadata": {},
   "outputs": [],
   "source": [
    "clusterer = AgglomerativeClustering(linkage='ward',\n",
    "                                    connectivity=clustering_graph, \n",
    "                                    compute_full_tree=True, compute_distances=True)"
   ]
  },
  {
   "cell_type": "code",
   "execution_count": 25,
   "id": "119416e5-5345-4aaa-bc67-32991a522101",
   "metadata": {},
   "outputs": [
    {
     "name": "stderr",
     "output_type": "stream",
     "text": [
      "/home/krasen/miniconda3/envs/urban_taxonomy/lib/python3.12/site-packages/sklearn/cluster/_agglomerative.py:323: UserWarning: the number of connected components of the connectivity matrix is 919 > 1. Completing it to avoid stopping the tree early.\n",
      "  connectivity, n_connected_components = _fix_connectivity(\n"
     ]
    },
    {
     "name": "stdout",
     "output_type": "stream",
     "text": [
      "CPU times: user 1h 55min 29s, sys: 53min 57s, total: 2h 49min 27s\n",
      "Wall time: 9min 46s\n"
     ]
    }
   ],
   "source": [
    "%%time\n",
    "model = clusterer.fit(embedding)"
   ]
  },
  {
   "cell_type": "code",
   "execution_count": null,
   "id": "0c40c253-acff-4cb6-b2da-bd47001346ac",
   "metadata": {},
   "outputs": [],
   "source": []
  },
  {
   "cell_type": "code",
   "execution_count": 26,
   "id": "31431bb9-83a0-451a-b96d-01fbd855b057",
   "metadata": {},
   "outputs": [],
   "source": [
    "def get_linkage_matrix(model):\n",
    "    # Create linkage matrix and then plot the dendrogram\n",
    "\n",
    "    # create the counts of samples under each node\n",
    "    counts = np.zeros(model.children_.shape[0])\n",
    "    n_samples = len(model.labels_)\n",
    "    for i, merge in enumerate(model.children_):\n",
    "        current_count = 0\n",
    "        for child_idx in merge:\n",
    "            if child_idx < n_samples:\n",
    "                current_count += 1  # leaf node\n",
    "            else:\n",
    "                current_count += counts[child_idx - n_samples]\n",
    "        counts[i] = current_count\n",
    "\n",
    "    linkage_matrix = np.column_stack(\n",
    "        [model.children_, model.distances_, counts]\n",
    "    ).astype(float)\n",
    "    return linkage_matrix"
   ]
  },
  {
   "cell_type": "code",
   "execution_count": 27,
   "id": "bc6140ff-8f9a-44c4-958f-083852760bbc",
   "metadata": {},
   "outputs": [],
   "source": [
    "linkage_matrix = get_linkage_matrix(model)"
   ]
  },
  {
   "cell_type": "code",
   "execution_count": null,
   "id": "9e86e31d-1d8b-46bc-9e15-8a324d899b82",
   "metadata": {},
   "outputs": [],
   "source": []
  },
  {
   "cell_type": "code",
   "execution_count": 28,
   "id": "50d69ffe-b1cd-4269-a742-0dbd42b97e52",
   "metadata": {},
   "outputs": [
    {
     "data": {
      "image/png": "[encoded data removed]",
      "text/plain": [
       "<Figure size 4000x4000 with 1 Axes>"
      ]
     },
     "metadata": {},
     "output_type": "display_data"
    }
   ],
   "source": [
    "fix, ax = plt.subplots(figsize=(40,40))\n",
    "# Plot the corresponding dendrogram\n",
    "_ = dendrogram(linkage_matrix, truncate_mode=\"level\", p=5, ax=ax)"
   ]
  },
  {
   "cell_type": "code",
   "execution_count": 63,
   "id": "bf19d613-6ad2-49b0-a79a-af148372e4ff",
   "metadata": {},
   "outputs": [],
   "source": []
  },
  {
   "cell_type": "code",
   "execution_count": 64,
   "id": "8db71623-0f24-4705-b2a2-8ac77802d292",
   "metadata": {},
   "outputs": [
    {
     "name": "stderr",
     "output_type": "stream",
     "text": [
      "/home/krasen/miniconda3/envs/urban_taxonomy/lib/python3.12/site-packages/lonboard/_geoarrow/ops/reproject.py:97: UserWarning: Input being reprojected to EPSG:4326 CRS\n",
      "  warnings.warn(\"Input being reprojected to EPSG:4326 CRS\")\n"
     ]
    },
    {
     "name": "stdout",
     "output_type": "stream",
     "text": [
      "CPU times: user 4.75 s, sys: 443 ms, total: 5.2 s\n",
      "Wall time: 5.19 s\n"
     ]
    }
   ],
   "source": [
    "%%time\n",
    "import lonboard\n",
    "plotting = tessellation[tessellation.index.isin(X_train.index)].copy()\n",
    "layer = lonboard.PolygonLayer.from_geopandas(plotting, opacity=.15)"
   ]
  },
  {
   "cell_type": "code",
   "execution_count": 65,
   "id": "d926ef67-1a75-434f-99a0-78bb58c6b7f2",
   "metadata": {},
   "outputs": [],
   "source": [
    "from sidecar import Sidecar\n",
    "sc = Sidecar(title='Clusters')\n",
    "m = lonboard.Map(layer, basemap_style=lonboard.basemap.CartoBasemap.Positron)\n",
    "with sc:\n",
    "    display(m)"
   ]
  },
  {
   "cell_type": "code",
   "execution_count": 66,
   "id": "27af98ad-a773-4061-99bb-dac9a6d42a4a",
   "metadata": {},
   "outputs": [],
   "source": [
    "from core.cluster_validation import get_color"
   ]
  },
  {
   "cell_type": "code",
   "execution_count": 33,
   "id": "8dfdfce2-bbe2-48bf-927f-f59789709a25",
   "metadata": {},
   "outputs": [
    {
     "name": "stdout",
     "output_type": "stream",
     "text": [
      "100  -  0.4049830800975384 2.5410040015748736\n",
      "200  -  0.6273467681124375 3.071999317201042\n",
      "300  -  0.8142824914737531 3.310979252953551\n",
      "400  -  0.560642346172601 3.040779981884746\n",
      "500  -  0.5601159895020611 2.956676977958116\n",
      "600  -  0.5601159895020611 3.0960439636420505\n",
      "700  -  0.38933555009716 3.110222436805863\n",
      "800  -  0.38915989102481724 2.9786025570860084\n",
      "900  -  0.38915989102481724 2.9786025570860084\n",
      "1000  -  0.40548623013332885 3.0734523316448916\n",
      "1100  -  0.40548623013332885 3.0734523316448916\n",
      "1200  -  0.3624451201533742 3.092684544891082\n"
     ]
    }
   ],
   "source": [
    "for t in range(100, 1250, 100):\n",
    "    r = fcluster(linkage_matrix, t=t, criterion='distance')\n",
    "    # r = pd.Series(r, index=X_train.index)\n",
    "    # # ssplits = graph.describe(r, statistics=['nunique'])['nunique']\n",
    "    print(t, ' - ', \n",
    "          adjusted_rand_score(tess_groups.values, r[tess_groups_ilocs]),\n",
    "          # (ssplits > 1).sum() / ssplits.shape[0],\n",
    "          davies_bouldin_score(X_train, r)\n",
    "         )"
   ]
  },
  {
   "cell_type": "code",
   "execution_count": 103,
   "id": "2eb5eb26-c9c7-4b18-bc47-ea8bef94c8f3",
   "metadata": {},
   "outputs": [],
   "source": [
    "clusters = fcluster(linkage_matrix, t=300, criterion='distance')"
   ]
  },
  {
   "cell_type": "code",
   "execution_count": 104,
   "id": "27c9cf0a-d8ff-4734-af5b-2fd2b691ff7c",
   "metadata": {},
   "outputs": [
    {
     "data": {
      "text/plain": [
       "(array([  1,   2,   3,   4,   5,   6,   7,   8,   9,  10,  11,  12,  13,\n",
       "         14,  15,  16,  17,  18,  19,  20,  21,  22,  23,  24,  25,  26,\n",
       "         27,  28,  29,  30,  31,  32,  33,  34,  35,  36,  37,  38,  39,\n",
       "         40,  41,  42,  43,  44,  45,  46,  47,  48,  49,  50,  51,  52,\n",
       "         53,  54,  55,  56,  57,  58,  59,  60,  61,  62,  63,  64,  65,\n",
       "         66,  67,  68,  69,  70,  71,  72,  73,  74,  75,  76,  77,  78,\n",
       "         79,  80,  81,  82,  83,  84,  85,  86,  87,  88,  89,  90,  91,\n",
       "         92,  93,  94,  95,  96,  97,  98,  99, 100, 101, 102, 103, 104,\n",
       "        105, 106, 107, 108, 109, 110, 111, 112, 113, 114, 115, 116, 117,\n",
       "        118, 119, 120, 121, 122, 123, 124, 125, 126, 127], dtype=int32),\n",
       " array([  316,    26,    12,   316,  1048,  2103,  1001,   913,    62,\n",
       "          295,   353,   333,   131,   325,   893,   271,   384,   328,\n",
       "          728,   269,   155,     3,    13,  2096,  3444,  5469,  6777,\n",
       "          569,   983,  4066,  1440,   623,  1239,  2441,  2374,   415,\n",
       "          353,   658,  2005,   398,    13,  1748,   188,    69,   517,\n",
       "         1831,   642,  6528,  7780,    75,  2954,  1522,  1087,   346,\n",
       "         1721,   783,  1911,  3707,   467,  1362,   863,   943,  1156,\n",
       "         2797,  6454,  1940,   696,  4457,  5418,  1909,  3994,  7428,\n",
       "         1114,  1337,  7362, 16710,  3225,   135, 12268,   132, 16610,\n",
       "          385,  3027,   278,  1113,  4507,   128,  8552,    50,   530,\n",
       "         3633,    11,  1033,   733,   585,  4122,  3536,   784,  4723,\n",
       "         6048,    31,    34,   103,    55,  3297,    42,   622,  4742,\n",
       "            1,   416,  1942,   467,  7322,  1050,   791,     1,   611,\n",
       "        10034,  5054,  5124, 10007,  3589,  5719,    36,   395,   824,\n",
       "        15150]))"
      ]
     },
     "execution_count": 104,
     "metadata": {},
     "output_type": "execute_result"
    }
   ],
   "source": [
    "np.unique(clusters, return_counts=True)"
   ]
  },
  {
   "cell_type": "code",
   "execution_count": 105,
   "id": "2cc02dfa-8dfb-427f-9ee3-9c63e0cbca7b",
   "metadata": {},
   "outputs": [],
   "source": [
    "layer.get_fill_color = get_color(clusters)"
   ]
  },
  {
   "cell_type": "code",
   "execution_count": null,
   "id": "2b302a51-4bab-4fc5-8363-ad8a169b8361",
   "metadata": {},
   "outputs": [],
   "source": []
  },
  {
   "cell_type": "code",
   "execution_count": null,
   "id": "0d409086-cb38-4502-a198-aed15e57e61f",
   "metadata": {},
   "outputs": [],
   "source": []
  },
  {
   "cell_type": "code",
   "execution_count": null,
   "id": "e74e32ec-5fb4-43f9-8271-8d28d0dacf88",
   "metadata": {},
   "outputs": [],
   "source": []
  },
  {
   "cell_type": "code",
   "execution_count": null,
   "id": "b814bf2a-cd2f-48b3-a4ff-8fece3fc4f3c",
   "metadata": {},
   "outputs": [],
   "source": []
  },
  {
   "cell_type": "code",
   "execution_count": null,
   "id": "4efb2dc8-f51e-43f7-90f4-2979175ff6e9",
   "metadata": {},
   "outputs": [],
   "source": []
  },
  {
   "cell_type": "code",
   "execution_count": 192,
   "id": "384aa961-67d7-470c-a4ec-6250b023b1d4",
   "metadata": {},
   "outputs": [],
   "source": [
    "sklearn_tree = KDTree(X_train.values)\n",
    "numba_tree = kdtree_to_numba(sklearn_tree)"
   ]
  },
  {
   "cell_type": "code",
   "execution_count": null,
   "id": "eef2ad6f-c5bf-4f91-97eb-1943c2037321",
   "metadata": {},
   "outputs": [],
   "source": []
  },
  {
   "cell_type": "code",
   "execution_count": 193,
   "id": "533ee842-9af8-4c16-b48b-9a9126df8cd6",
   "metadata": {},
   "outputs": [],
   "source": [
    "from core.cluster_validation import generate_neigbhourhood_groups"
   ]
  },
  {
   "cell_type": "code",
   "execution_count": 194,
   "id": "cc90cd4b-3d1a-4b5b-b555-479b58eb0a31",
   "metadata": {},
   "outputs": [],
   "source": [
    "groups = generate_neigbhourhood_groups(tessellation)"
   ]
  },
  {
   "cell_type": "code",
   "execution_count": null,
   "id": "45d07a35-bce2-4316-913d-328a44f850da",
   "metadata": {},
   "outputs": [],
   "source": []
  },
  {
   "cell_type": "code",
   "execution_count": 195,
   "id": "9684ea1d-4722-4eb8-a6ba-e125cd253634",
   "metadata": {},
   "outputs": [],
   "source": [
    "karlins = groups[groups == 'karlin'].index.values"
   ]
  },
  {
   "cell_type": "code",
   "execution_count": 196,
   "id": "670fb2f2-2b92-4a61-82dc-6d34e7d351eb",
   "metadata": {},
   "outputs": [],
   "source": [
    "tess_id = 261793"
   ]
  },
  {
   "cell_type": "code",
   "execution_count": 197,
   "id": "4044c895-1116-4a8a-ab21-0759fee6be4e",
   "metadata": {},
   "outputs": [],
   "source": [
    "# tessellation.loc[graph[tess_id].index.values].explore()"
   ]
  },
  {
   "cell_type": "code",
   "execution_count": 198,
   "id": "9e46c938-cbcf-44f2-b682-4b470932f2d9",
   "metadata": {},
   "outputs": [
    {
     "data": {
      "text/plain": [
       "array([261783, 261788, 261789, 261793, 261796, 261800, 261819])"
      ]
     },
     "execution_count": 198,
     "metadata": {},
     "output_type": "execute_result"
    }
   ],
   "source": [
    "graph[tess_id].index.values"
   ]
  },
  {
   "cell_type": "code",
   "execution_count": null,
   "id": "8ec34135-ef51-49d8-afda-2994108b7a85",
   "metadata": {},
   "outputs": [],
   "source": []
  },
  {
   "cell_type": "code",
   "execution_count": null,
   "id": "24bff199-aa4b-4fee-b041-6ac261863069",
   "metadata": {},
   "outputs": [],
   "source": []
  },
  {
   "cell_type": "code",
   "execution_count": null,
   "id": "25c22e10-c496-4113-bbc4-f88bd5bc5471",
   "metadata": {},
   "outputs": [],
   "source": []
  },
  {
   "cell_type": "code",
   "execution_count": 199,
   "id": "57a860ba-44da-4124-9d0f-3699c8752234",
   "metadata": {},
   "outputs": [],
   "source": [
    "xilocs = np.where(X_train.index.isin(graph[tess_id].index.values))[0]"
   ]
  },
  {
   "cell_type": "code",
   "execution_count": 200,
   "id": "67569de9-f4d6-4fe7-9fdb-1420908ba492",
   "metadata": {},
   "outputs": [],
   "source": [
    "num_neighbours = 15"
   ]
  },
  {
   "cell_type": "code",
   "execution_count": 201,
   "id": "c01fd3bf-56d1-4387-ac30-e07f2589edba",
   "metadata": {},
   "outputs": [],
   "source": [
    "nn_dists, nn_inds = parallel_tree_query(numba_tree, np.ascontiguousarray(X_train.iloc[xilocs].values), k=num_neighbours)"
   ]
  },
  {
   "cell_type": "code",
   "execution_count": null,
   "id": "76551796-6e11-49d2-8a5b-79c3a6db6c53",
   "metadata": {},
   "outputs": [],
   "source": []
  },
  {
   "cell_type": "code",
   "execution_count": null,
   "id": "ccf59195-127e-460b-8c36-7bc124b8094d",
   "metadata": {},
   "outputs": [],
   "source": []
  },
  {
   "cell_type": "code",
   "execution_count": 202,
   "id": "178cfc37-0d7f-41ca-a436-bc349b282358",
   "metadata": {},
   "outputs": [],
   "source": [
    "neigh_ids = nn_inds[3]\n",
    "neigh_dists = nn_dists[3]"
   ]
  },
  {
   "cell_type": "code",
   "execution_count": 203,
   "id": "fb8f044f-fb2d-44c4-8e88-0e27f62dbaf3",
   "metadata": {},
   "outputs": [],
   "source": [
    "neighbours = tessellation.loc[X_train.iloc[neigh_ids].index].reset_index()\n",
    "neighbours['nn_dists'] = neigh_dists\n",
    "neighbours['nn_order'] = np.arange(num_neighbours)"
   ]
  },
  {
   "cell_type": "code",
   "execution_count": 204,
   "id": "6d7d3fd6-10a7-4a30-a01c-9346ac3080a2",
   "metadata": {},
   "outputs": [
    {
     "name": "stdout",
     "output_type": "stream",
     "text": [
      "graph intersection:  0.2857142857142857 total intersection:  0.1\n"
     ]
    }
   ],
   "source": [
    "intersection = np.intersect1d(X_train.iloc[neigh_ids].index, graph[tess_id].index.values)\n",
    "union = np.union1d(X_train.iloc[neigh_ids].index, graph[tess_id].index.values)\n",
    "\n",
    "print('graph intersection: ', intersection.shape[0] / graph[tess_id].index.values.shape[0],\n",
    "      'total intersection: ', intersection.shape[0]/union.shape[0])"
   ]
  },
  {
   "cell_type": "code",
   "execution_count": null,
   "id": "9492a895-7911-4f0d-873b-ce1c6586e55b",
   "metadata": {},
   "outputs": [],
   "source": []
  },
  {
   "cell_type": "code",
   "execution_count": 213,
   "id": "fdacd056-293e-47e2-820e-b2ff467e65d6",
   "metadata": {},
   "outputs": [],
   "source": [
    "from scipy.spatial.distance import pdist, cdist"
   ]
  },
  {
   "cell_type": "code",
   "execution_count": null,
   "id": "f8b4e11b-03c9-40b1-9119-5b22101d43cd",
   "metadata": {},
   "outputs": [],
   "source": []
  },
  {
   "cell_type": "code",
   "execution_count": 222,
   "id": "762a5159-44d8-423a-aa97-b2ca929e1a1d",
   "metadata": {},
   "outputs": [
    {
     "data": {
      "text/plain": [
       "array([ -5490,  -5490,  -5490, ..., 299063, 299063, 299063])"
      ]
     },
     "execution_count": 222,
     "metadata": {},
     "output_type": "execute_result"
    }
   ],
   "source": []
  },
  {
   "cell_type": "code",
   "execution_count": null,
   "id": "04b7810f-eaf6-4e7a-b40e-e93a4ae5bdca",
   "metadata": {},
   "outputs": [],
   "source": []
  },
  {
   "cell_type": "code",
   "execution_count": 211,
   "id": "87b9497e-8098-4e08-b821-ae69137e07d7",
   "metadata": {},
   "outputs": [
    {
     "data": {
      "text/plain": [
       "array([4.87532534, 5.08568228, 5.11036757, 5.3147674 , 5.3152624 ,\n",
       "       5.31833994, 5.33959303, 5.34781153, 5.39578952, 5.41562768,\n",
       "       5.46998235, 5.4751668 , 5.49217131, 5.50442596, 5.52366858,\n",
       "       5.57984761, 5.44336868, 4.68245219, 5.81689727, 5.0899599 ,\n",
       "       4.16571699, 4.86319586, 6.39377622, 4.93296405, 5.88576494,\n",
       "       5.6822102 , 5.95724033, 5.23491609, 4.23075501, 4.81238908,\n",
       "       6.80725969, 6.2814186 , 4.59715491, 4.52383647, 1.98955439,\n",
       "       5.07671347, 6.32379318, 5.44723154, 5.518125  , 4.73477739,\n",
       "       3.94028481, 5.10790316, 5.81491372, 5.09931867, 5.38463478,\n",
       "       5.85268679, 4.56028338, 5.33840232, 5.06143164, 3.29403048,\n",
       "       3.70073265, 6.51971316, 6.62836994, 5.00794782, 5.37130085,\n",
       "       5.17112032, 6.0416938 , 6.48024856, 4.76729681, 6.2082616 ,\n",
       "       5.47793756, 5.79603626, 4.42257168, 5.81657086, 5.56597565,\n",
       "       5.38856602, 5.73479756, 4.45769596, 4.87576705, 4.02241014,\n",
       "       6.44749171, 6.31187573, 7.46502314, 5.92518848, 3.97234565,\n",
       "       6.87890898, 5.36780632, 6.15400159, 4.90473457, 7.05245423,\n",
       "       4.89483213, 4.05442499, 6.7761902 , 5.72085879, 5.01118821,\n",
       "       5.8143886 , 5.60311242, 7.04826127, 3.46910624, 5.37654683,\n",
       "       5.34201359, 5.12288811, 5.84948696, 5.33363665, 6.07793847,\n",
       "       5.46012899, 6.66416909, 6.22597551, 5.92332371, 5.24947423,\n",
       "       6.49023514, 4.22659559, 6.81582405, 5.43594382, 5.72862118])"
      ]
     },
     "execution_count": 211,
     "metadata": {},
     "output_type": "execute_result"
    }
   ],
   "source": [
    "pdist(X_train.iloc[neigh_ids].values)"
   ]
  },
  {
   "cell_type": "code",
   "execution_count": null,
   "id": "0c0f634a-6978-4987-bb79-0aafe2518be2",
   "metadata": {},
   "outputs": [],
   "source": []
  },
  {
   "cell_type": "code",
   "execution_count": null,
   "id": "53621161-ef21-442d-8fe9-4be1b1ff7321",
   "metadata": {},
   "outputs": [],
   "source": []
  },
  {
   "cell_type": "code",
   "execution_count": 380,
   "id": "a9c53cc6-4a48-4c43-96d1-8b7310d5a725",
   "metadata": {},
   "outputs": [],
   "source": [
    "# m = neighbours.explore()\n",
    "# m = tessellation.loc[[tess_id]].explore(color='red', m=m)\n",
    "# m"
   ]
  },
  {
   "cell_type": "code",
   "execution_count": 206,
   "id": "1c536f4c-9b79-436c-a957-d52e84977a35",
   "metadata": {},
   "outputs": [
    {
     "data": {
      "text/html": [
       "<div>\n",
       "<style scoped>\n",
       "    .dataframe tbody tr th:only-of-type {\n",
       "        vertical-align: middle;\n",
       "    }\n",
       "\n",
       "    .dataframe tbody tr th {\n",
       "        vertical-align: top;\n",
       "    }\n",
       "\n",
       "    .dataframe thead th {\n",
       "        text-align: right;\n",
       "    }\n",
       "</style>\n",
       "<table border=\"1\" class=\"dataframe\">\n",
       "  <thead>\n",
       "    <tr style=\"text-align: right;\">\n",
       "      <th></th>\n",
       "      <th>sdbAre</th>\n",
       "      <th>sdbPer</th>\n",
       "      <th>sdbCoA</th>\n",
       "      <th>ssbCCo</th>\n",
       "      <th>ssbCor</th>\n",
       "      <th>ssbSqu</th>\n",
       "      <th>ssbERI</th>\n",
       "      <th>ssbElo</th>\n",
       "      <th>ssbCCM</th>\n",
       "      <th>ssbCCD</th>\n",
       "      <th>...</th>\n",
       "      <th>stcSAl</th>\n",
       "      <th>ldkAre</th>\n",
       "      <th>ldkPer</th>\n",
       "      <th>lskCCo</th>\n",
       "      <th>lskERI</th>\n",
       "      <th>lskCWA</th>\n",
       "      <th>ltkOri</th>\n",
       "      <th>ltkWNB</th>\n",
       "      <th>likWBB</th>\n",
       "      <th>sdsAre</th>\n",
       "    </tr>\n",
       "  </thead>\n",
       "  <tbody>\n",
       "    <tr>\n",
       "      <th>261793</th>\n",
       "      <td>0.399284</td>\n",
       "      <td>1.170116</td>\n",
       "      <td>-0.02239</td>\n",
       "      <td>-1.814340</td>\n",
       "      <td>-0.637299</td>\n",
       "      <td>-0.305332</td>\n",
       "      <td>0.635863</td>\n",
       "      <td>-1.971834</td>\n",
       "      <td>2.203463</td>\n",
       "      <td>-0.550868</td>\n",
       "      <td>...</td>\n",
       "      <td>-0.844166</td>\n",
       "      <td>-0.500347</td>\n",
       "      <td>-0.555598</td>\n",
       "      <td>1.468550</td>\n",
       "      <td>1.051844</td>\n",
       "      <td>-0.695529</td>\n",
       "      <td>0.161561</td>\n",
       "      <td>0.047395</td>\n",
       "      <td>2.629321</td>\n",
       "      <td>-0.396684</td>\n",
       "    </tr>\n",
       "    <tr>\n",
       "      <th>116039</th>\n",
       "      <td>0.305006</td>\n",
       "      <td>0.725154</td>\n",
       "      <td>-0.02239</td>\n",
       "      <td>0.087126</td>\n",
       "      <td>-0.637299</td>\n",
       "      <td>-0.343731</td>\n",
       "      <td>0.609423</td>\n",
       "      <td>-0.624599</td>\n",
       "      <td>1.266895</td>\n",
       "      <td>-0.575372</td>\n",
       "      <td>...</td>\n",
       "      <td>-0.670972</td>\n",
       "      <td>-0.510141</td>\n",
       "      <td>-0.574152</td>\n",
       "      <td>1.807997</td>\n",
       "      <td>1.149733</td>\n",
       "      <td>-0.731008</td>\n",
       "      <td>0.142096</td>\n",
       "      <td>0.047964</td>\n",
       "      <td>1.566661</td>\n",
       "      <td>-0.219880</td>\n",
       "    </tr>\n",
       "    <tr>\n",
       "      <th>235733</th>\n",
       "      <td>0.107570</td>\n",
       "      <td>0.617780</td>\n",
       "      <td>-0.02239</td>\n",
       "      <td>-1.988388</td>\n",
       "      <td>-0.637299</td>\n",
       "      <td>-0.220512</td>\n",
       "      <td>0.623702</td>\n",
       "      <td>-2.050118</td>\n",
       "      <td>1.379239</td>\n",
       "      <td>-0.540936</td>\n",
       "      <td>...</td>\n",
       "      <td>-0.802506</td>\n",
       "      <td>-0.574580</td>\n",
       "      <td>-0.656832</td>\n",
       "      <td>1.395335</td>\n",
       "      <td>1.157807</td>\n",
       "      <td>-0.762063</td>\n",
       "      <td>0.044643</td>\n",
       "      <td>0.150431</td>\n",
       "      <td>3.237948</td>\n",
       "      <td>-0.323684</td>\n",
       "    </tr>\n",
       "    <tr>\n",
       "      <th>242470</th>\n",
       "      <td>0.057450</td>\n",
       "      <td>0.426782</td>\n",
       "      <td>-0.02239</td>\n",
       "      <td>-1.530537</td>\n",
       "      <td>-0.637299</td>\n",
       "      <td>-0.369077</td>\n",
       "      <td>0.601152</td>\n",
       "      <td>-1.809503</td>\n",
       "      <td>1.028426</td>\n",
       "      <td>-0.579041</td>\n",
       "      <td>...</td>\n",
       "      <td>-0.195215</td>\n",
       "      <td>-0.529519</td>\n",
       "      <td>-0.575120</td>\n",
       "      <td>0.260475</td>\n",
       "      <td>1.025390</td>\n",
       "      <td>-0.657860</td>\n",
       "      <td>-0.982306</td>\n",
       "      <td>0.048788</td>\n",
       "      <td>2.888012</td>\n",
       "      <td>-0.342812</td>\n",
       "    </tr>\n",
       "    <tr>\n",
       "      <th>236829</th>\n",
       "      <td>0.630815</td>\n",
       "      <td>1.350235</td>\n",
       "      <td>-0.02239</td>\n",
       "      <td>-1.014296</td>\n",
       "      <td>-0.637299</td>\n",
       "      <td>-0.042947</td>\n",
       "      <td>0.611460</td>\n",
       "      <td>-1.451214</td>\n",
       "      <td>2.309372</td>\n",
       "      <td>-0.391424</td>\n",
       "      <td>...</td>\n",
       "      <td>-0.959591</td>\n",
       "      <td>-0.572121</td>\n",
       "      <td>-0.645981</td>\n",
       "      <td>0.830897</td>\n",
       "      <td>0.964403</td>\n",
       "      <td>-0.735043</td>\n",
       "      <td>0.268851</td>\n",
       "      <td>0.099317</td>\n",
       "      <td>3.937440</td>\n",
       "      <td>-0.339094</td>\n",
       "    </tr>\n",
       "    <tr>\n",
       "      <th>282617</th>\n",
       "      <td>0.386274</td>\n",
       "      <td>0.992790</td>\n",
       "      <td>-0.02239</td>\n",
       "      <td>-0.984762</td>\n",
       "      <td>-0.637299</td>\n",
       "      <td>-0.383045</td>\n",
       "      <td>0.627505</td>\n",
       "      <td>-1.502184</td>\n",
       "      <td>1.796915</td>\n",
       "      <td>-0.586188</td>\n",
       "      <td>...</td>\n",
       "      <td>-0.936444</td>\n",
       "      <td>-0.541114</td>\n",
       "      <td>-0.602275</td>\n",
       "      <td>1.191243</td>\n",
       "      <td>1.052597</td>\n",
       "      <td>-0.721296</td>\n",
       "      <td>-0.553007</td>\n",
       "      <td>0.040427</td>\n",
       "      <td>3.019633</td>\n",
       "      <td>-0.411958</td>\n",
       "    </tr>\n",
       "    <tr>\n",
       "      <th>261789</th>\n",
       "      <td>-0.181041</td>\n",
       "      <td>-0.395971</td>\n",
       "      <td>-0.02239</td>\n",
       "      <td>-0.734107</td>\n",
       "      <td>-0.637299</td>\n",
       "      <td>-0.390733</td>\n",
       "      <td>0.625213</td>\n",
       "      <td>-1.337652</td>\n",
       "      <td>-0.259510</td>\n",
       "      <td>-0.592120</td>\n",
       "      <td>...</td>\n",
       "      <td>-0.843178</td>\n",
       "      <td>-0.500347</td>\n",
       "      <td>-0.555598</td>\n",
       "      <td>1.468550</td>\n",
       "      <td>1.051844</td>\n",
       "      <td>-0.695529</td>\n",
       "      <td>0.161561</td>\n",
       "      <td>0.047395</td>\n",
       "      <td>2.629321</td>\n",
       "      <td>-0.396684</td>\n",
       "    </tr>\n",
       "    <tr>\n",
       "      <th>230350</th>\n",
       "      <td>-0.129525</td>\n",
       "      <td>-0.177631</td>\n",
       "      <td>-0.02239</td>\n",
       "      <td>-0.979320</td>\n",
       "      <td>-0.637299</td>\n",
       "      <td>-0.276331</td>\n",
       "      <td>0.646393</td>\n",
       "      <td>-1.469099</td>\n",
       "      <td>0.077922</td>\n",
       "      <td>-0.571480</td>\n",
       "      <td>...</td>\n",
       "      <td>-0.780903</td>\n",
       "      <td>-0.594039</td>\n",
       "      <td>-0.700705</td>\n",
       "      <td>1.045393</td>\n",
       "      <td>1.062087</td>\n",
       "      <td>-0.769830</td>\n",
       "      <td>-0.665001</td>\n",
       "      <td>0.157594</td>\n",
       "      <td>1.818376</td>\n",
       "      <td>-0.407993</td>\n",
       "    </tr>\n",
       "    <tr>\n",
       "      <th>272435</th>\n",
       "      <td>0.630769</td>\n",
       "      <td>1.193292</td>\n",
       "      <td>-0.02239</td>\n",
       "      <td>0.020450</td>\n",
       "      <td>-0.637299</td>\n",
       "      <td>-0.112657</td>\n",
       "      <td>0.575050</td>\n",
       "      <td>-0.522858</td>\n",
       "      <td>1.920432</td>\n",
       "      <td>-0.471399</td>\n",
       "      <td>...</td>\n",
       "      <td>-0.468349</td>\n",
       "      <td>-0.565854</td>\n",
       "      <td>-0.639842</td>\n",
       "      <td>1.569107</td>\n",
       "      <td>1.067973</td>\n",
       "      <td>-0.749727</td>\n",
       "      <td>-0.388510</td>\n",
       "      <td>0.112164</td>\n",
       "      <td>3.350177</td>\n",
       "      <td>-0.269307</td>\n",
       "    </tr>\n",
       "    <tr>\n",
       "      <th>282590</th>\n",
       "      <td>0.233247</td>\n",
       "      <td>0.776884</td>\n",
       "      <td>-0.02239</td>\n",
       "      <td>-1.352580</td>\n",
       "      <td>-0.637299</td>\n",
       "      <td>-0.309804</td>\n",
       "      <td>0.582854</td>\n",
       "      <td>-1.688910</td>\n",
       "      <td>1.529188</td>\n",
       "      <td>-0.552438</td>\n",
       "      <td>...</td>\n",
       "      <td>-0.862768</td>\n",
       "      <td>-0.549967</td>\n",
       "      <td>-0.604904</td>\n",
       "      <td>0.983593</td>\n",
       "      <td>0.820175</td>\n",
       "      <td>-0.698835</td>\n",
       "      <td>-0.361934</td>\n",
       "      <td>0.079422</td>\n",
       "      <td>1.874727</td>\n",
       "      <td>0.000000</td>\n",
       "    </tr>\n",
       "    <tr>\n",
       "      <th>235732</th>\n",
       "      <td>-0.041052</td>\n",
       "      <td>0.433709</td>\n",
       "      <td>-0.02239</td>\n",
       "      <td>-3.016921</td>\n",
       "      <td>-0.637299</td>\n",
       "      <td>-0.197758</td>\n",
       "      <td>0.638423</td>\n",
       "      <td>-2.548159</td>\n",
       "      <td>1.246213</td>\n",
       "      <td>-0.558254</td>\n",
       "      <td>...</td>\n",
       "      <td>-0.654508</td>\n",
       "      <td>-0.574580</td>\n",
       "      <td>-0.656832</td>\n",
       "      <td>1.395335</td>\n",
       "      <td>1.157807</td>\n",
       "      <td>-0.762063</td>\n",
       "      <td>0.044643</td>\n",
       "      <td>0.150431</td>\n",
       "      <td>3.237948</td>\n",
       "      <td>-0.323684</td>\n",
       "    </tr>\n",
       "    <tr>\n",
       "      <th>223503</th>\n",
       "      <td>-0.196289</td>\n",
       "      <td>-0.387707</td>\n",
       "      <td>-0.02239</td>\n",
       "      <td>-1.997931</td>\n",
       "      <td>-0.171902</td>\n",
       "      <td>0.128654</td>\n",
       "      <td>0.087843</td>\n",
       "      <td>-1.892137</td>\n",
       "      <td>-0.260029</td>\n",
       "      <td>-0.248269</td>\n",
       "      <td>...</td>\n",
       "      <td>-0.727643</td>\n",
       "      <td>-0.569550</td>\n",
       "      <td>-0.639456</td>\n",
       "      <td>1.208035</td>\n",
       "      <td>0.838716</td>\n",
       "      <td>-0.730330</td>\n",
       "      <td>-1.593584</td>\n",
       "      <td>0.111428</td>\n",
       "      <td>1.969348</td>\n",
       "      <td>-0.412916</td>\n",
       "    </tr>\n",
       "    <tr>\n",
       "      <th>116167</th>\n",
       "      <td>-0.176114</td>\n",
       "      <td>-0.277651</td>\n",
       "      <td>-0.02239</td>\n",
       "      <td>-2.146975</td>\n",
       "      <td>-0.637299</td>\n",
       "      <td>-0.254243</td>\n",
       "      <td>0.515895</td>\n",
       "      <td>-2.080797</td>\n",
       "      <td>0.010560</td>\n",
       "      <td>-0.524263</td>\n",
       "      <td>...</td>\n",
       "      <td>-0.727172</td>\n",
       "      <td>-0.583434</td>\n",
       "      <td>-0.671773</td>\n",
       "      <td>1.622840</td>\n",
       "      <td>1.047058</td>\n",
       "      <td>-0.760907</td>\n",
       "      <td>0.141291</td>\n",
       "      <td>0.097361</td>\n",
       "      <td>1.715375</td>\n",
       "      <td>-0.390260</td>\n",
       "    </tr>\n",
       "    <tr>\n",
       "      <th>272545</th>\n",
       "      <td>1.135385</td>\n",
       "      <td>1.939624</td>\n",
       "      <td>-0.02239</td>\n",
       "      <td>-1.062059</td>\n",
       "      <td>-0.637299</td>\n",
       "      <td>0.593262</td>\n",
       "      <td>0.577309</td>\n",
       "      <td>-1.320920</td>\n",
       "      <td>3.108194</td>\n",
       "      <td>0.066871</td>\n",
       "      <td>...</td>\n",
       "      <td>-0.446483</td>\n",
       "      <td>-0.565854</td>\n",
       "      <td>-0.639842</td>\n",
       "      <td>1.569107</td>\n",
       "      <td>1.067973</td>\n",
       "      <td>-0.749727</td>\n",
       "      <td>-0.388510</td>\n",
       "      <td>0.112164</td>\n",
       "      <td>3.350177</td>\n",
       "      <td>0.000000</td>\n",
       "    </tr>\n",
       "    <tr>\n",
       "      <th>242736</th>\n",
       "      <td>-0.144301</td>\n",
       "      <td>-0.193395</td>\n",
       "      <td>-0.02239</td>\n",
       "      <td>-1.345027</td>\n",
       "      <td>0.293494</td>\n",
       "      <td>0.215330</td>\n",
       "      <td>0.181307</td>\n",
       "      <td>-1.520982</td>\n",
       "      <td>-0.048210</td>\n",
       "      <td>-0.278559</td>\n",
       "      <td>...</td>\n",
       "      <td>-0.781251</td>\n",
       "      <td>-0.568350</td>\n",
       "      <td>-0.635679</td>\n",
       "      <td>0.427528</td>\n",
       "      <td>1.030410</td>\n",
       "      <td>-0.715194</td>\n",
       "      <td>-0.684414</td>\n",
       "      <td>0.081459</td>\n",
       "      <td>3.008735</td>\n",
       "      <td>-0.287220</td>\n",
       "    </tr>\n",
       "  </tbody>\n",
       "</table>\n",
       "<p>15 rows × 62 columns</p>\n",
       "</div>"
      ],
      "text/plain": [
       "          sdbAre    sdbPer   sdbCoA    ssbCCo    ssbCor    ssbSqu    ssbERI  \\\n",
       "261793  0.399284  1.170116 -0.02239 -1.814340 -0.637299 -0.305332  0.635863   \n",
       "116039  0.305006  0.725154 -0.02239  0.087126 -0.637299 -0.343731  0.609423   \n",
       "235733  0.107570  0.617780 -0.02239 -1.988388 -0.637299 -0.220512  0.623702   \n",
       "242470  0.057450  0.426782 -0.02239 -1.530537 -0.637299 -0.369077  0.601152   \n",
       "236829  0.630815  1.350235 -0.02239 -1.014296 -0.637299 -0.042947  0.611460   \n",
       "282617  0.386274  0.992790 -0.02239 -0.984762 -0.637299 -0.383045  0.627505   \n",
       "261789 -0.181041 -0.395971 -0.02239 -0.734107 -0.637299 -0.390733  0.625213   \n",
       "230350 -0.129525 -0.177631 -0.02239 -0.979320 -0.637299 -0.276331  0.646393   \n",
       "272435  0.630769  1.193292 -0.02239  0.020450 -0.637299 -0.112657  0.575050   \n",
       "282590  0.233247  0.776884 -0.02239 -1.352580 -0.637299 -0.309804  0.582854   \n",
       "235732 -0.041052  0.433709 -0.02239 -3.016921 -0.637299 -0.197758  0.638423   \n",
       "223503 -0.196289 -0.387707 -0.02239 -1.997931 -0.171902  0.128654  0.087843   \n",
       "116167 -0.176114 -0.277651 -0.02239 -2.146975 -0.637299 -0.254243  0.515895   \n",
       "272545  1.135385  1.939624 -0.02239 -1.062059 -0.637299  0.593262  0.577309   \n",
       "242736 -0.144301 -0.193395 -0.02239 -1.345027  0.293494  0.215330  0.181307   \n",
       "\n",
       "          ssbElo    ssbCCM    ssbCCD  ...    stcSAl    ldkAre    ldkPer  \\\n",
       "261793 -1.971834  2.203463 -0.550868  ... -0.844166 -0.500347 -0.555598   \n",
       "116039 -0.624599  1.266895 -0.575372  ... -0.670972 -0.510141 -0.574152   \n",
       "235733 -2.050118  1.379239 -0.540936  ... -0.802506 -0.574580 -0.656832   \n",
       "242470 -1.809503  1.028426 -0.579041  ... -0.195215 -0.529519 -0.575120   \n",
       "236829 -1.451214  2.309372 -0.391424  ... -0.959591 -0.572121 -0.645981   \n",
       "282617 -1.502184  1.796915 -0.586188  ... -0.936444 -0.541114 -0.602275   \n",
       "261789 -1.337652 -0.259510 -0.592120  ... -0.843178 -0.500347 -0.555598   \n",
       "230350 -1.469099  0.077922 -0.571480  ... -0.780903 -0.594039 -0.700705   \n",
       "272435 -0.522858  1.920432 -0.471399  ... -0.468349 -0.565854 -0.639842   \n",
       "282590 -1.688910  1.529188 -0.552438  ... -0.862768 -0.549967 -0.604904   \n",
       "235732 -2.548159  1.246213 -0.558254  ... -0.654508 -0.574580 -0.656832   \n",
       "223503 -1.892137 -0.260029 -0.248269  ... -0.727643 -0.569550 -0.639456   \n",
       "116167 -2.080797  0.010560 -0.524263  ... -0.727172 -0.583434 -0.671773   \n",
       "272545 -1.320920  3.108194  0.066871  ... -0.446483 -0.565854 -0.639842   \n",
       "242736 -1.520982 -0.048210 -0.278559  ... -0.781251 -0.568350 -0.635679   \n",
       "\n",
       "          lskCCo    lskERI    lskCWA    ltkOri    ltkWNB    likWBB    sdsAre  \n",
       "261793  1.468550  1.051844 -0.695529  0.161561  0.047395  2.629321 -0.396684  \n",
       "116039  1.807997  1.149733 -0.731008  0.142096  0.047964  1.566661 -0.219880  \n",
       "235733  1.395335  1.157807 -0.762063  0.044643  0.150431  3.237948 -0.323684  \n",
       "242470  0.260475  1.025390 -0.657860 -0.982306  0.048788  2.888012 -0.342812  \n",
       "236829  0.830897  0.964403 -0.735043  0.268851  0.099317  3.937440 -0.339094  \n",
       "282617  1.191243  1.052597 -0.721296 -0.553007  0.040427  3.019633 -0.411958  \n",
       "261789  1.468550  1.051844 -0.695529  0.161561  0.047395  2.629321 -0.396684  \n",
       "230350  1.045393  1.062087 -0.769830 -0.665001  0.157594  1.818376 -0.407993  \n",
       "272435  1.569107  1.067973 -0.749727 -0.388510  0.112164  3.350177 -0.269307  \n",
       "282590  0.983593  0.820175 -0.698835 -0.361934  0.079422  1.874727  0.000000  \n",
       "235732  1.395335  1.157807 -0.762063  0.044643  0.150431  3.237948 -0.323684  \n",
       "223503  1.208035  0.838716 -0.730330 -1.593584  0.111428  1.969348 -0.412916  \n",
       "116167  1.622840  1.047058 -0.760907  0.141291  0.097361  1.715375 -0.390260  \n",
       "272545  1.569107  1.067973 -0.749727 -0.388510  0.112164  3.350177  0.000000  \n",
       "242736  0.427528  1.030410 -0.715194 -0.684414  0.081459  3.008735 -0.287220  \n",
       "\n",
       "[15 rows x 62 columns]"
      ]
     },
     "execution_count": 206,
     "metadata": {},
     "output_type": "execute_result"
    }
   ],
   "source": [
    "X_train.iloc[neigh_ids]"
   ]
  },
  {
   "cell_type": "code",
   "execution_count": 44,
   "id": "01d8b4d6-fcfb-4fe5-bc86-9281fec7c9d0",
   "metadata": {},
   "outputs": [],
   "source": [
    "from lonboard.colormap import apply_categorical_cmap\n",
    "from palettable.colorbrewer.qualitative import Set3_12\n",
    "\n",
    "def get_color(labels_to_color):\n",
    "\n",
    "    import glasbey\n",
    "    \n",
    "    def hex_to_rgb(hexa):\n",
    "        return tuple(int(hexa[i : i + 2], 16) for i in (0, 2, 4))\n",
    "    \n",
    "    if labels_to_color.max() > 12:\n",
    "        gb_cols = glasbey.extend_palette(\n",
    "            Set3_12.hex_colors, palette_size=np.unique(labels_to_color).shape[0] + 1\n",
    "        )\n",
    "    else:\n",
    "        gb_cols = Set3_12.hex_colors\n",
    "    \n",
    "    gb_cols = [hex_to_rgb(c[1:]) for c in gb_cols]\n",
    "    \n",
    "    colors = apply_categorical_cmap(\n",
    "        labels_to_color, cmap=dict(zip(np.unique(labels_to_color), gb_cols, strict=False))\n",
    "    )\n",
    "    return colors"
   ]
  },
  {
   "cell_type": "code",
   "execution_count": null,
   "id": "1b380796-7dd2-487a-982e-6ae566b39fc8",
   "metadata": {},
   "outputs": [],
   "source": []
  }
 ],
 "metadata": {
  "kernelspec": {
   "display_name": "Python 3 (ipykernel)",
   "language": "python",
   "name": "python3"
  },
  "language_info": {
   "codemirror_mode": {
    "name": "ipython",
    "version": 3
   },
   "file_extension": ".py",
   "mimetype": "text/x-python",
   "name": "python",
   "nbconvert_exporter": "python",
   "pygments_lexer": "ipython3",
   "version": "3.12.4"
  }
 },
 "nbformat": 4,
 "nbformat_minor": 5
}
