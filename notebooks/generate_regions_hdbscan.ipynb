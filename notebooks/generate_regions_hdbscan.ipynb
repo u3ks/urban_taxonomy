{
 "cells": [
  {
   "cell_type": "code",
   "execution_count": 3,
   "id": "a9842b2c-efa3-421d-aa94-4b2cc706993b",
   "metadata": {},
   "outputs": [],
   "source": [
    "import os\n",
    "\n",
    "import geopandas as gpd\n",
    "import numpy as np\n",
    "import pandas as pd\n",
    "from sklearn.cluster import DBSCAN"
   ]
  },
  {
   "cell_type": "code",
   "execution_count": 4,
   "id": "7455277a-b25f-4bc1-9eb2-30eebf30688c",
   "metadata": {},
   "outputs": [],
   "source": [
    "import glob"
   ]
  },
  {
   "cell_type": "code",
   "execution_count": 5,
   "id": "bc64bca0-d6be-4a76-8724-7debfa7040f0",
   "metadata": {},
   "outputs": [
    {
     "name": "stdout",
     "output_type": "stream",
     "text": [
      "Requirement already satisfied: fast_hdbscan in /home/krasen/miniconda3/envs/momepy/lib/python3.12/site-packages (0.1.3)\n",
      "Requirement already satisfied: numpy>=1.21 in /home/krasen/miniconda3/envs/momepy/lib/python3.12/site-packages (from fast_hdbscan) (1.26.4)\n",
      "Requirement already satisfied: numba>=0.56 in /home/krasen/miniconda3/envs/momepy/lib/python3.12/site-packages (from fast_hdbscan) (0.59.1)\n",
      "Requirement already satisfied: scikit-learn>=1.1 in /home/krasen/miniconda3/envs/momepy/lib/python3.12/site-packages (from fast_hdbscan) (1.4.2)\n",
      "Requirement already satisfied: llvmlite<0.43,>=0.42.0dev0 in /home/krasen/miniconda3/envs/momepy/lib/python3.12/site-packages (from numba>=0.56->fast_hdbscan) (0.42.0)\n",
      "Requirement already satisfied: scipy>=1.6.0 in /home/krasen/miniconda3/envs/momepy/lib/python3.12/site-packages (from scikit-learn>=1.1->fast_hdbscan) (1.13.0)\n",
      "Requirement already satisfied: joblib>=1.2.0 in /home/krasen/miniconda3/envs/momepy/lib/python3.12/site-packages (from scikit-learn>=1.1->fast_hdbscan) (1.4.2)\n",
      "Requirement already satisfied: threadpoolctl>=2.0.0 in /home/krasen/miniconda3/envs/momepy/lib/python3.12/site-packages (from scikit-learn>=1.1->fast_hdbscan) (3.5.0)\n"
     ]
    }
   ],
   "source": [
    "!pip install fast_hdbscan"
   ]
  },
  {
   "cell_type": "code",
   "execution_count": null,
   "id": "7f940ddb-4111-4d6d-988c-370944c91b4a",
   "metadata": {},
   "outputs": [],
   "source": []
  },
  {
   "cell_type": "code",
   "execution_count": 6,
   "id": "412be963-e248-4f53-bf63-73557c3c1b84",
   "metadata": {},
   "outputs": [],
   "source": [
    "centroid_files = glob.glob('/data/uscuni-ulce/centroids/*.parquet')"
   ]
  },
  {
   "cell_type": "code",
   "execution_count": 7,
   "id": "4854bf7b-52b0-4983-9bf6-eccb4e20ca53",
   "metadata": {},
   "outputs": [],
   "source": [
    "res = None\n",
    "\n",
    "for f in centroid_files:\n",
    "    df = pd.read_parquet(f)\n",
    "    res = pd.concat((res, df)).reset_index(drop=True)"
   ]
  },
  {
   "cell_type": "code",
   "execution_count": 19,
   "id": "96db2d92-d2c3-4a59-afcd-0decd4e585bd",
   "metadata": {},
   "outputs": [],
   "source": [
    "import gc\n",
    "data = res.iloc[:, [1, 2]].values\n",
    "del res\n",
    "del df\n",
    "gc.collect()"
   ]
  },
  {
   "cell_type": "code",
   "execution_count": null,
   "id": "5f7ea7e3-f4e8-42b4-bb41-c805fd9107e4",
   "metadata": {},
   "outputs": [],
   "source": []
  },
  {
   "cell_type": "code",
   "execution_count": 8,
   "id": "a2ac9676-6d0a-4497-aaf5-43b0837b8412",
   "metadata": {},
   "outputs": [],
   "source": [
    "from sklearn.neighbors import KDTree\n",
    "from sklearn.cluster import DBSCAN\n",
    "from fast_hdbscan.numba_kdtree import kdtree_to_numba\n",
    "from fast_hdbscan.boruvka import parallel_boruvka"
   ]
  },
  {
   "cell_type": "code",
   "execution_count": 22,
   "id": "fe39b240-68ec-4eff-9928-fdcce367ebcd",
   "metadata": {},
   "outputs": [],
   "source": []
  },
  {
   "cell_type": "code",
   "execution_count": null,
   "id": "bdb7b9bb-aa4a-436e-8364-22d0fc215595",
   "metadata": {},
   "outputs": [],
   "source": []
  },
  {
   "cell_type": "code",
   "execution_count": null,
   "id": "a6a7a8cb-dbfb-44d3-9f8d-a11d2ccd6daa",
   "metadata": {},
   "outputs": [],
   "source": []
  },
  {
   "cell_type": "code",
   "execution_count": 20,
   "id": "dc5cd2d5-3199-4fbc-8680-95dc08a70ab1",
   "metadata": {},
   "outputs": [
    {
     "name": "stdout",
     "output_type": "stream",
     "text": [
      "CPU times: user 20.6 s, sys: 267 ms, total: 20.9 s\n",
      "Wall time: 20.7 s\n"
     ]
    }
   ],
   "source": [
    "%%time\n",
    "sklearn_tree = KDTree(data)\n"
   ]
  },
  {
   "cell_type": "code",
   "execution_count": 23,
   "id": "ef0a8dac-3e05-426d-abf0-796a44f07995",
   "metadata": {},
   "outputs": [
    {
     "name": "stdout",
     "output_type": "stream",
     "text": [
      "CPU times: user 8 µs, sys: 2 µs, total: 10 µs\n",
      "Wall time: 11.4 µs\n"
     ]
    }
   ],
   "source": [
    "%%time\n",
    "numba_tree = kdtree_to_numba(sklearn_tree)"
   ]
  },
  {
   "cell_type": "code",
   "execution_count": 24,
   "id": "c0e406fa-4e3a-40e3-bb65-79f671af6db1",
   "metadata": {},
   "outputs": [
    {
     "name": "stdout",
     "output_type": "stream",
     "text": [
      "CPU times: user 47min 37s, sys: 7.68 s, total: 47min 45s\n",
      "Wall time: 3min 10s\n"
     ]
    }
   ],
   "source": [
    "%%time\n",
    "edges = parallel_boruvka(\n",
    "    numba_tree, min_samples=1\n",
    ")"
   ]
  },
  {
   "cell_type": "code",
   "execution_count": 25,
   "id": "ceef3ba9-6757-48dc-84d9-cb541d637d95",
   "metadata": {},
   "outputs": [],
   "source": [
    "sorted_mst = edges[np.argsort(edges.T[2])]"
   ]
  },
  {
   "cell_type": "code",
   "execution_count": null,
   "id": "f43ac06f-ace0-46f7-af20-25da96eb2df4",
   "metadata": {},
   "outputs": [],
   "source": []
  },
  {
   "cell_type": "code",
   "execution_count": 35,
   "id": "de7e37d1-9324-4b60-a8dd-2b83995a88f8",
   "metadata": {},
   "outputs": [],
   "source": [
    "from fast_hdbscan.cluster_trees import get_cluster_labelling_at_cut, mst_to_linkage_tree"
   ]
  },
  {
   "cell_type": "code",
   "execution_count": 36,
   "id": "4bcd333a-e7af-42e1-bcf3-d91c6cde018c",
   "metadata": {},
   "outputs": [
    {
     "name": "stdout",
     "output_type": "stream",
     "text": [
      "CPU times: user 6.57 s, sys: 1.16 s, total: 7.73 s\n",
      "Wall time: 7.59 s\n"
     ]
    }
   ],
   "source": [
    "%%time\n",
    "linkage_tree = mst_to_linkage_tree(sorted_mst)"
   ]
  },
  {
   "cell_type": "code",
   "execution_count": 53,
   "id": "bba48ea0-b6d6-4791-9256-ab5627f47243",
   "metadata": {},
   "outputs": [
    {
     "name": "stdout",
     "output_type": "stream",
     "text": [
      "CPU times: user 7.37 s, sys: 1.35 s, total: 8.72 s\n",
      "Wall time: 6.42 s\n"
     ]
    }
   ],
   "source": [
    "%%time\n",
    "epsilon = 250\n",
    "clusters = get_cluster_labelling_at_cut(\n",
    "            linkage_tree,\n",
    "            epsilon, 2)"
   ]
  },
  {
   "cell_type": "code",
   "execution_count": 54,
   "id": "8384de70-4dcc-47a9-b4a7-c98c9d37f230",
   "metadata": {},
   "outputs": [
    {
     "data": {
      "text/plain": [
       "array([ 324181,  395525,  400167,  437219,  454098,  581896,  610748,\n",
       "        615673,  690129, 3125331])"
      ]
     },
     "execution_count": 54,
     "metadata": {},
     "output_type": "execute_result"
    }
   ],
   "source": [
    "vals, counts = np.unique(clusters, return_counts=True)\n",
    "idxs = np.argsort(counts)[-10:]\n",
    "counts[idxs]"
   ]
  },
  {
   "cell_type": "code",
   "execution_count": null,
   "id": "a0267be8-1d28-4801-af88-777e3c754736",
   "metadata": {},
   "outputs": [],
   "source": []
  },
  {
   "cell_type": "code",
   "execution_count": null,
   "id": "b93f326b-a4ca-423d-a1d2-3d1721368d33",
   "metadata": {},
   "outputs": [],
   "source": []
  },
  {
   "cell_type": "code",
   "execution_count": null,
   "id": "2ca71719-21fd-4f05-8284-972080736a9a",
   "metadata": {},
   "outputs": [],
   "source": []
  },
  {
   "cell_type": "code",
   "execution_count": null,
   "id": "b2122581-c296-49bc-8a08-eb62ddd34d8b",
   "metadata": {},
   "outputs": [],
   "source": []
  },
  {
   "cell_type": "code",
   "execution_count": 50,
   "id": "a66b2e0c-0fdf-4c57-97fe-5fd9ced2f2da",
   "metadata": {},
   "outputs": [],
   "source": [
    "data[[\"x_100\", \"y_100\"]] = np.around(data[[\"x\", \"y\"]], decimals=-2).astype(int)\n",
    "grid = data[[\"id\", \"x_100\", \"y_100\"]].groupby([\"x_100\", \"y_100\"]).count().reset_index()"
   ]
  },
  {
   "cell_type": "code",
   "execution_count": null,
   "id": "1f06ba0c-6ce0-4419-b5c8-78d31d0bf45f",
   "metadata": {},
   "outputs": [],
   "source": []
  },
  {
   "cell_type": "code",
   "execution_count": null,
   "id": "f503ac27-f519-4ff3-a72f-fbba10cad348",
   "metadata": {},
   "outputs": [],
   "source": []
  },
  {
   "cell_type": "code",
   "execution_count": null,
   "id": "e64e0683-3687-4a8e-89cb-ac456b2d921f",
   "metadata": {},
   "outputs": [],
   "source": []
  },
  {
   "cell_type": "code",
   "execution_count": null,
   "id": "0d63ee56-0e6f-4a8b-9721-7837dc8e3d70",
   "metadata": {},
   "outputs": [],
   "source": []
  },
  {
   "cell_type": "code",
   "execution_count": null,
   "id": "8b15685d-8b16-4a12-930b-474991353dbd",
   "metadata": {},
   "outputs": [],
   "source": []
  },
  {
   "cell_type": "code",
   "execution_count": 94,
   "id": "31532fe6-fa9a-4348-9296-fcb1f5598576",
   "metadata": {},
   "outputs": [],
   "source": [
    "dists = ((data.iloc[[0], [1, 2]].values - data.iloc[1:, [1, 2]].values)**2).sum(axis=1)**(1/2)"
   ]
  },
  {
   "cell_type": "code",
   "execution_count": 95,
   "id": "ee0ea156-2708-4a93-93fe-fac297c5962c",
   "metadata": {},
   "outputs": [],
   "source": [
    "dist_grid = ((data.iloc[[0], [3, 4]].values - data.iloc[1:, [3, 4]].values)**2).sum(axis=1)**(1/2)"
   ]
  },
  {
   "cell_type": "code",
   "execution_count": 96,
   "id": "9d33d44c-4ff7-46f9-b81b-9fca9e661ca7",
   "metadata": {},
   "outputs": [
    {
     "data": {
      "text/plain": [
       "mean    179092.288873\n",
       "std     124926.395093\n",
       "min         50.632440\n",
       "25%      83659.753069\n",
       "50%     154873.615802\n",
       "75%     240605.405899\n",
       "max     529213.354645\n",
       "dtype: float64"
      ]
     },
     "execution_count": 96,
     "metadata": {},
     "output_type": "execute_result"
    }
   ],
   "source": [
    "pd.Series(dists).describe().iloc[1:]"
   ]
  },
  {
   "cell_type": "code",
   "execution_count": 97,
   "id": "7b94d051-8ca6-4df2-aaf3-ec34883e60a8",
   "metadata": {},
   "outputs": [
    {
     "data": {
      "text/plain": [
       "mean    179116.726038\n",
       "std     124927.318729\n",
       "min          0.000000\n",
       "25%      83696.176735\n",
       "50%     154898.224651\n",
       "75%     240624.022076\n",
       "max     529251.868206\n",
       "dtype: float64"
      ]
     },
     "execution_count": 97,
     "metadata": {},
     "output_type": "execute_result"
    }
   ],
   "source": [
    "pd.Series(dist_grid).describe().iloc[1:]"
   ]
  },
  {
   "cell_type": "code",
   "execution_count": null,
   "id": "89e92a24-c52b-4b0a-8899-0d84dfae7f62",
   "metadata": {},
   "outputs": [],
   "source": []
  },
  {
   "cell_type": "code",
   "execution_count": null,
   "id": "984f3c13-bd7c-483e-b523-7ca305d844c7",
   "metadata": {},
   "outputs": [],
   "source": []
  },
  {
   "cell_type": "code",
   "execution_count": null,
   "id": "6e27d053-2c7f-4235-81ba-36d4e1a7c42f",
   "metadata": {},
   "outputs": [],
   "source": []
  },
  {
   "cell_type": "code",
   "execution_count": null,
   "id": "6b35e160-6645-4c2c-b86b-55bef2bc9951",
   "metadata": {},
   "outputs": [],
   "source": []
  },
  {
   "cell_type": "code",
   "execution_count": null,
   "id": "f26d1d32-71eb-4467-a866-b20fbcc48ff5",
   "metadata": {},
   "outputs": [],
   "source": []
  },
  {
   "cell_type": "code",
   "execution_count": null,
   "id": "aa6448c7-6e13-417e-9e71-3d44494b20fb",
   "metadata": {},
   "outputs": [],
   "source": []
  },
  {
   "cell_type": "code",
   "execution_count": null,
   "id": "881e0fd2-95b4-4f23-945a-eb176397bc7d",
   "metadata": {},
   "outputs": [],
   "source": []
  }
 ],
 "metadata": {
  "kernelspec": {
   "display_name": "Python 3 (ipykernel)",
   "language": "python",
   "name": "python3"
  },
  "language_info": {
   "codemirror_mode": {
    "name": "ipython",
    "version": 3
   },
   "file_extension": ".py",
   "mimetype": "text/x-python",
   "name": "python",
   "nbconvert_exporter": "python",
   "pygments_lexer": "ipython3",
   "version": "3.12.3"
  }
 },
 "nbformat": 4,
 "nbformat_minor": 5
}
