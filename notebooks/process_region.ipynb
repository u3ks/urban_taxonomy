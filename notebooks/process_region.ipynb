{
 "cells": [
  {
   "cell_type": "code",
   "execution_count": 1,
   "id": "b46c8a5f-40bf-4312-b39e-1f29bbcbb262",
   "metadata": {},
   "outputs": [],
   "source": [
    "import gc\n",
    "import glob\n",
    "\n",
    "import geopandas as gpd\n",
    "import momepy as mm\n",
    "import numpy as np\n",
    "import pandas as pd\n",
    "import shapely\n",
    "from libpysal.graph import Graph, read_parquet\n",
    "import datetime\n",
    "\n",
    "regions_datadir = \"/data/uscuni-ulce/\"\n",
    "data_dir = \"/data/uscuni-ulce/processed_data/\"\n",
    "eubucco_files = glob.glob(regions_datadir + \"eubucco_raw/*\")\n",
    "graph_dir = data_dir + \"neigh_graphs/\"\n",
    "chars_dir = \"/data/uscuni-ulce/processed_data/chars/\""
   ]
  },
  {
   "cell_type": "code",
   "execution_count": null,
   "id": "06df3676-94c7-4477-8abc-cdeb02c813c6",
   "metadata": {},
   "outputs": [],
   "source": []
  },
  {
   "cell_type": "code",
   "execution_count": 2,
   "id": "99654297-9154-4fd1-a7c8-d99bb20d9f5b",
   "metadata": {},
   "outputs": [],
   "source": [
    "## to build a new conda env\n",
    "## conda install -c conda-forge momepy umap-learn fast_hdbscan jupyterlab pyarrow matplotlib lonboard folium mapclassify datashader bokeh holoviews dask\n",
    "# pip install -e . for shapely, momepy, core, geoplanar\n"
   ]
  },
  {
   "cell_type": "code",
   "execution_count": null,
   "id": "7de94bbb-f1e4-4aa0-80cb-59572a22b530",
   "metadata": {},
   "outputs": [],
   "source": []
  },
  {
   "cell_type": "code",
   "execution_count": null,
   "id": "6b137edf-903b-4b37-b928-a04d84c713fc",
   "metadata": {},
   "outputs": [],
   "source": []
  },
  {
   "cell_type": "code",
   "execution_count": 3,
   "id": "075c4a4e-56ad-4d6c-885a-ff44403ea88e",
   "metadata": {},
   "outputs": [],
   "source": [
    "from core.generate_streets import process_all_regions_streets"
   ]
  },
  {
   "cell_type": "code",
   "execution_count": 4,
   "id": "2f977b9c-71a9-40df-823a-b2e98ad8a39c",
   "metadata": {},
   "outputs": [],
   "source": [
    "from core.generate_buildings import process_all_regions_buildings"
   ]
  },
  {
   "cell_type": "code",
   "execution_count": 5,
   "id": "6a56985a-e801-4a06-9f4d-38878e840b7e",
   "metadata": {},
   "outputs": [],
   "source": [
    "from core.generate_elements import process_all_regions_elements"
   ]
  },
  {
   "cell_type": "code",
   "execution_count": 6,
   "id": "d3ac7798-6125-4cea-99bd-cd6ed57d3f98",
   "metadata": {},
   "outputs": [],
   "source": [
    "from core.generate_ngraphs import process_all_regions_graphs"
   ]
  },
  {
   "cell_type": "code",
   "execution_count": 7,
   "id": "108181b9-5521-44a6-85ea-171dbcb5bbeb",
   "metadata": {},
   "outputs": [],
   "source": [
    "from core.generate_chars import process_single_region"
   ]
  },
  {
   "cell_type": "code",
   "execution_count": 8,
   "id": "a084da1a-db92-41c5-9cd7-0c4f1e9996f7",
   "metadata": {},
   "outputs": [],
   "source": [
    "# %%time\n",
    "# process_all_regions_streets()"
   ]
  },
  {
   "cell_type": "code",
   "execution_count": 9,
   "id": "89550a09-e7e3-4ee0-b429-d7e04d526c71",
   "metadata": {},
   "outputs": [],
   "source": [
    "# %%time\n",
    "# process_all_regions_buildings()"
   ]
  },
  {
   "cell_type": "code",
   "execution_count": 10,
   "id": "bbe4d0ac-0514-4e70-9f1e-eb70b28e05a6",
   "metadata": {},
   "outputs": [],
   "source": [
    "# %%time\n",
    "# process_all_regions_elements()"
   ]
  },
  {
   "cell_type": "code",
   "execution_count": 11,
   "id": "ad6345c5-f2de-4c7d-abc5-c1c33ede6c2a",
   "metadata": {},
   "outputs": [],
   "source": [
    "# %%time\n",
    "# process_all_regions_graphs()"
   ]
  },
  {
   "cell_type": "code",
   "execution_count": 12,
   "id": "6af38e44-98ae-4c27-917e-c03123c8b034",
   "metadata": {},
   "outputs": [],
   "source": [
    "# %%time\n",
    "# process_single_region(69300)"
   ]
  },
  {
   "cell_type": "code",
   "execution_count": null,
   "id": "f40f7b79-4030-44bf-9325-2926eab48fa5",
   "metadata": {},
   "outputs": [],
   "source": []
  },
  {
   "cell_type": "code",
   "execution_count": null,
   "id": "3fc1ba8d-9eef-44ca-b50f-6e1a846a7ff6",
   "metadata": {},
   "outputs": [],
   "source": []
  },
  {
   "cell_type": "code",
   "execution_count": 13,
   "id": "33f9312c-921b-4118-ad7b-d9a5c8c4f69d",
   "metadata": {},
   "outputs": [],
   "source": [
    "region_id = 69300"
   ]
  },
  {
   "cell_type": "code",
   "execution_count": 14,
   "id": "ccc4b20d-ceb3-4a1b-8942-fa05d710e296",
   "metadata": {},
   "outputs": [
    {
     "name": "stdout",
     "output_type": "stream",
     "text": [
      "Processing tessellation\n"
     ]
    }
   ],
   "source": [
    "from core.generate_chars import process_enclosure_chars, process_building_chars, process_tessellation_chars, process_street_chars\n",
    "# process_street_chars(69300)\n",
    "# process_enclosure_chars(69300)\n",
    "# process_building_chars(69300)\n",
    "process_tessellation_chars(69300)"
   ]
  },
  {
   "cell_type": "code",
   "execution_count": null,
   "id": "a265aca8-67ca-4777-bd61-80a909a846d1",
   "metadata": {},
   "outputs": [],
   "source": []
  },
  {
   "cell_type": "code",
   "execution_count": null,
   "id": "5c8c86b1-a6bc-424a-ae87-14b0bd676a9b",
   "metadata": {},
   "outputs": [],
   "source": [
    "# tessellation = gpd.read_parquet(\n",
    "#         data_dir + f\"tessellations/tessellation_{69300}.parquet\"\n",
    "#     )\n",
    "\n",
    "# # import lonboard\n",
    "# # # layer = lonboard.PolygonLayer.from_geopandas(tessellation, opacity=0.15)\n",
    "# # # m = lonboard.Map([layer])\n",
    "# # # m"
   ]
  }
 ],
 "metadata": {
  "kernelspec": {
   "display_name": "Python 3 (ipykernel)",
   "language": "python",
   "name": "python3"
  },
  "language_info": {
   "codemirror_mode": {
    "name": "ipython",
    "version": 3
   },
   "file_extension": ".py",
   "mimetype": "text/x-python",
   "name": "python",
   "nbconvert_exporter": "python",
   "pygments_lexer": "ipython3",
   "version": "3.12.4"
  }
 },
 "nbformat": 4,
 "nbformat_minor": 5
}
