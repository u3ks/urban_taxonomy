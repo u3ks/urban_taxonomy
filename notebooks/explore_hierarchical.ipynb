{
 "cells": [
  {
   "cell_type": "code",
   "execution_count": null,
   "id": "27f054dd-c113-4c20-ba97-169b4ffaec11",
   "metadata": {},
   "outputs": [],
   "source": []
  },
  {
   "cell_type": "code",
   "execution_count": 5,
   "id": "55cc01cf-60c2-4919-9a23-3299e09aee78",
   "metadata": {},
   "outputs": [
    {
     "name": "stdout",
     "output_type": "stream",
     "text": [
      "CPU times: user 17 μs, sys: 0 ns, total: 17 μs\n",
      "Wall time: 19.3 μs\n"
     ]
    }
   ],
   "source": [
    "%%time\n",
    "\n",
    "import glob\n",
    "\n",
    "import geopandas as gpd\n",
    "import matplotlib.pyplot as plt\n",
    "import numba\n",
    "import numpy as np\n",
    "import pandas as pd\n",
    "from libpysal.graph import read_parquet\n",
    "from sklearn.preprocessing import PowerTransformer, RobustScaler, StandardScaler\n",
    "\n",
    "from fast_hdbscan.numba_kdtree import kdtree_to_numba\n",
    "from fast_hdbscan.numba_kdtree import parallel_tree_query\n",
    "from sklearn.neighbors import KDTree"
   ]
  },
  {
   "cell_type": "code",
   "execution_count": 6,
   "id": "0c27a7f8-4da5-48b4-acbd-7b505d622f74",
   "metadata": {},
   "outputs": [],
   "source": [
    "region_id = 69300\n",
    "\n",
    "tessellations_dir = '/data/uscuni-ulce/processed_data/tessellations/'\n",
    "chars_dir = \"/data/uscuni-ulce/processed_data/chars/\"\n",
    "graph_dir = \"/data/uscuni-ulce/processed_data/neigh_graphs/\""
   ]
  },
  {
   "cell_type": "code",
   "execution_count": null,
   "id": "d147570c-dace-435b-9621-51b5d865f66f",
   "metadata": {},
   "outputs": [],
   "source": []
  },
  {
   "cell_type": "code",
   "execution_count": 7,
   "id": "2b72f720-8ded-4b47-949f-1092e9ebd693",
   "metadata": {},
   "outputs": [],
   "source": [
    "graph = read_parquet(graph_dir + f\"tessellation_graph_{region_id}_knn1.parquet\")"
   ]
  },
  {
   "cell_type": "code",
   "execution_count": 8,
   "id": "b650aaab-81f2-4d37-8ff1-64b181afd919",
   "metadata": {},
   "outputs": [
    {
     "data": {
      "text/plain": [
       "count    304554.000000\n",
       "mean          6.751085\n",
       "std           2.060782\n",
       "min           1.000000\n",
       "25%           6.000000\n",
       "50%           7.000000\n",
       "75%           8.000000\n",
       "max          82.000000\n",
       "Name: cardinalities, dtype: float64"
      ]
     },
     "execution_count": 8,
     "metadata": {},
     "output_type": "execute_result"
    }
   ],
   "source": [
    "graph.cardinalities.describe()"
   ]
  },
  {
   "cell_type": "code",
   "execution_count": null,
   "id": "a6f1d619-f0e7-41d6-b35b-22e6379d132c",
   "metadata": {},
   "outputs": [],
   "source": []
  },
  {
   "cell_type": "code",
   "execution_count": 9,
   "id": "d89baa9c-25b8-4233-8534-a3dcf13674ca",
   "metadata": {},
   "outputs": [],
   "source": [
    "from core.cluster_validation import print_distance, generate_neigbhourhood_groups"
   ]
  },
  {
   "cell_type": "code",
   "execution_count": null,
   "id": "8f540cb1-5286-4bbc-8b55-df992662be1d",
   "metadata": {},
   "outputs": [],
   "source": []
  },
  {
   "cell_type": "code",
   "execution_count": 10,
   "id": "0527419b-319b-46e8-bf5c-076fd26f7c7e",
   "metadata": {},
   "outputs": [],
   "source": [
    "tessellation = gpd.read_parquet(\n",
    "        tessellations_dir + f\"tessellation_{region_id}.parquet\"\n",
    ")"
   ]
  },
  {
   "cell_type": "code",
   "execution_count": null,
   "id": "08a8256e-ee74-4ad8-9567-2cb294b4b576",
   "metadata": {},
   "outputs": [],
   "source": []
  },
  {
   "cell_type": "code",
   "execution_count": 104,
   "id": "36e8699d-772a-457e-8aab-4840ae479494",
   "metadata": {},
   "outputs": [],
   "source": [
    "X_train = pd.read_parquet(chars_dir + f'primary_chars_{region_id}.parquet')\n",
    "\n",
    "\n",
    "\n",
    "X_train = X_train[X_train.index >= 0]\n",
    "\n",
    "\n",
    "\n",
    "spatial_lag = 2\n",
    "\n",
    "\n",
    "# lag = pd.read_parquet(f'/data/uscuni-ulce/processed_data/context_data/context_chars_{region_id}_lag_{spatial_lag}.parquet')\n",
    "\n",
    "lag = pd.read_parquet(f'/data/uscuni-ulce/processed_data/context_data/unprocessed_context_chars_{region_id}_lag_{spatial_lag}.parquet')\n",
    "\n",
    "\n",
    "\n",
    "# X_train = X_train.join(lag[[c for c in lag.columns if '_median' in c]], how='inner')\n",
    "X_train = X_train.join(lag, how='inner')\n"
   ]
  },
  {
   "cell_type": "code",
   "execution_count": 105,
   "id": "74ee4975-74fb-4131-b3be-63a98259d325",
   "metadata": {},
   "outputs": [],
   "source": [
    "for c in X_train.columns:\n",
    "    X_train[c] = X_train[c].clip(*np.percentile(X_train[c], [25, 75]))"
   ]
  },
  {
   "cell_type": "code",
   "execution_count": 106,
   "id": "be25ae62-906a-45dc-976d-a5d4a1dc5774",
   "metadata": {},
   "outputs": [],
   "source": [
    "vals = StandardScaler().fit_transform(X_train)\n",
    "X_train = pd.DataFrame(vals, columns=X_train.columns, index=X_train.index)\n",
    "\n",
    "vals = np.nan_to_num(X_train)\n",
    "X_train = pd.DataFrame(vals, columns=X_train.columns, index=X_train.index)\n",
    "\n",
    "\n",
    "# X_train = X_train.clip(-10, 10)"
   ]
  },
  {
   "cell_type": "code",
   "execution_count": 107,
   "id": "c5eded4f-112b-40f3-9767-a036c5518c7c",
   "metadata": {},
   "outputs": [
    {
     "data": {
      "text/html": [
       "<div>\n",
       "<style scoped>\n",
       "    .dataframe tbody tr th:only-of-type {\n",
       "        vertical-align: middle;\n",
       "    }\n",
       "\n",
       "    .dataframe tbody tr th {\n",
       "        vertical-align: top;\n",
       "    }\n",
       "\n",
       "    .dataframe thead th {\n",
       "        text-align: right;\n",
       "    }\n",
       "</style>\n",
       "<table border=\"1\" class=\"dataframe\">\n",
       "  <thead>\n",
       "    <tr style=\"text-align: right;\">\n",
       "      <th></th>\n",
       "      <th>sdbAre</th>\n",
       "      <th>sdbPer</th>\n",
       "      <th>sdbCoA</th>\n",
       "      <th>ssbCCo</th>\n",
       "      <th>ssbCor</th>\n",
       "      <th>ssbSqu</th>\n",
       "      <th>ssbERI</th>\n",
       "      <th>ssbElo</th>\n",
       "      <th>ssbCCM</th>\n",
       "      <th>ssbCCD</th>\n",
       "      <th>...</th>\n",
       "      <th>ltkOri_higher</th>\n",
       "      <th>ltkWNB_lower</th>\n",
       "      <th>ltkWNB_median</th>\n",
       "      <th>ltkWNB_higher</th>\n",
       "      <th>likWBB_lower</th>\n",
       "      <th>likWBB_median</th>\n",
       "      <th>likWBB_higher</th>\n",
       "      <th>sdsAre_lower</th>\n",
       "      <th>sdsAre_median</th>\n",
       "      <th>sdsAre_higher</th>\n",
       "    </tr>\n",
       "  </thead>\n",
       "  <tbody>\n",
       "    <tr>\n",
       "      <th>count</th>\n",
       "      <td>2.990640e+05</td>\n",
       "      <td>2.990640e+05</td>\n",
       "      <td>299064.0</td>\n",
       "      <td>2.990640e+05</td>\n",
       "      <td>2.990640e+05</td>\n",
       "      <td>2.990640e+05</td>\n",
       "      <td>2.990640e+05</td>\n",
       "      <td>2.990640e+05</td>\n",
       "      <td>2.990640e+05</td>\n",
       "      <td>2.990640e+05</td>\n",
       "      <td>...</td>\n",
       "      <td>2.990640e+05</td>\n",
       "      <td>2.990640e+05</td>\n",
       "      <td>2.990640e+05</td>\n",
       "      <td>2.990640e+05</td>\n",
       "      <td>2.990640e+05</td>\n",
       "      <td>2.990640e+05</td>\n",
       "      <td>2.990640e+05</td>\n",
       "      <td>2.990640e+05</td>\n",
       "      <td>2.990640e+05</td>\n",
       "      <td>2.990640e+05</td>\n",
       "    </tr>\n",
       "    <tr>\n",
       "      <th>mean</th>\n",
       "      <td>2.138300e-16</td>\n",
       "      <td>9.741143e-17</td>\n",
       "      <td>0.0</td>\n",
       "      <td>-9.537767e-16</td>\n",
       "      <td>-1.547179e-16</td>\n",
       "      <td>-4.789791e-17</td>\n",
       "      <td>-1.548205e-14</td>\n",
       "      <td>-1.486356e-15</td>\n",
       "      <td>-8.420149e-17</td>\n",
       "      <td>8.382135e-17</td>\n",
       "      <td>...</td>\n",
       "      <td>-3.094357e-16</td>\n",
       "      <td>-9.001767e-16</td>\n",
       "      <td>-5.390416e-16</td>\n",
       "      <td>-1.832285e-16</td>\n",
       "      <td>3.124769e-16</td>\n",
       "      <td>-2.995520e-16</td>\n",
       "      <td>-4.827806e-16</td>\n",
       "      <td>2.440513e-16</td>\n",
       "      <td>-4.268997e-16</td>\n",
       "      <td>-2.794045e-16</td>\n",
       "    </tr>\n",
       "    <tr>\n",
       "      <th>std</th>\n",
       "      <td>1.000002e+00</td>\n",
       "      <td>1.000002e+00</td>\n",
       "      <td>0.0</td>\n",
       "      <td>1.000002e+00</td>\n",
       "      <td>1.000002e+00</td>\n",
       "      <td>1.000002e+00</td>\n",
       "      <td>1.000002e+00</td>\n",
       "      <td>1.000002e+00</td>\n",
       "      <td>9.999465e-01</td>\n",
       "      <td>9.999465e-01</td>\n",
       "      <td>...</td>\n",
       "      <td>1.000002e+00</td>\n",
       "      <td>1.000002e+00</td>\n",
       "      <td>1.000002e+00</td>\n",
       "      <td>1.000002e+00</td>\n",
       "      <td>1.000002e+00</td>\n",
       "      <td>1.000002e+00</td>\n",
       "      <td>1.000002e+00</td>\n",
       "      <td>1.000002e+00</td>\n",
       "      <td>1.000002e+00</td>\n",
       "      <td>1.000002e+00</td>\n",
       "    </tr>\n",
       "    <tr>\n",
       "      <th>min</th>\n",
       "      <td>-1.171204e+00</td>\n",
       "      <td>-1.227228e+00</td>\n",
       "      <td>0.0</td>\n",
       "      <td>-1.323301e+00</td>\n",
       "      <td>-9.560473e-01</td>\n",
       "      <td>-1.025796e+00</td>\n",
       "      <td>-1.408986e+00</td>\n",
       "      <td>-1.259402e+00</td>\n",
       "      <td>-1.216599e+00</td>\n",
       "      <td>-5.934344e-01</td>\n",
       "      <td>...</td>\n",
       "      <td>-1.231474e+00</td>\n",
       "      <td>-1.078034e+00</td>\n",
       "      <td>-1.122950e+00</td>\n",
       "      <td>-1.198521e+00</td>\n",
       "      <td>-1.136820e+00</td>\n",
       "      <td>-1.204462e+00</td>\n",
       "      <td>-1.243431e+00</td>\n",
       "      <td>-1.015741e+00</td>\n",
       "      <td>-1.020150e+00</td>\n",
       "      <td>-1.056317e+00</td>\n",
       "    </tr>\n",
       "    <tr>\n",
       "      <th>25%</th>\n",
       "      <td>-1.171200e+00</td>\n",
       "      <td>-1.227222e+00</td>\n",
       "      <td>0.0</td>\n",
       "      <td>-1.323301e+00</td>\n",
       "      <td>-9.560473e-01</td>\n",
       "      <td>-1.025796e+00</td>\n",
       "      <td>-1.408952e+00</td>\n",
       "      <td>-1.259400e+00</td>\n",
       "      <td>-5.121844e-01</td>\n",
       "      <td>-5.881004e-01</td>\n",
       "      <td>...</td>\n",
       "      <td>-1.231474e+00</td>\n",
       "      <td>-1.078034e+00</td>\n",
       "      <td>-1.122950e+00</td>\n",
       "      <td>-1.198521e+00</td>\n",
       "      <td>-1.136820e+00</td>\n",
       "      <td>-1.204462e+00</td>\n",
       "      <td>-1.243431e+00</td>\n",
       "      <td>-1.015741e+00</td>\n",
       "      <td>-1.020150e+00</td>\n",
       "      <td>-1.056317e+00</td>\n",
       "    </tr>\n",
       "    <tr>\n",
       "      <th>50%</th>\n",
       "      <td>-1.021714e-01</td>\n",
       "      <td>-3.136307e-02</td>\n",
       "      <td>0.0</td>\n",
       "      <td>1.841764e-01</td>\n",
       "      <td>1.502397e-01</td>\n",
       "      <td>-3.571189e-01</td>\n",
       "      <td>6.056801e-01</td>\n",
       "      <td>6.597197e-02</td>\n",
       "      <td>-1.797281e-01</td>\n",
       "      <td>-2.977174e-01</td>\n",
       "      <td>...</td>\n",
       "      <td>1.279235e-02</td>\n",
       "      <td>-2.832950e-01</td>\n",
       "      <td>-1.841563e-01</td>\n",
       "      <td>-6.601486e-02</td>\n",
       "      <td>-1.664405e-01</td>\n",
       "      <td>-3.720930e-02</td>\n",
       "      <td>1.411818e-02</td>\n",
       "      <td>-3.715764e-01</td>\n",
       "      <td>-3.691832e-01</td>\n",
       "      <td>-3.181395e-01</td>\n",
       "    </tr>\n",
       "    <tr>\n",
       "      <th>75%</th>\n",
       "      <td>1.317557e+00</td>\n",
       "      <td>1.263988e+00</td>\n",
       "      <td>0.0</td>\n",
       "      <td>1.130701e+00</td>\n",
       "      <td>1.256527e+00</td>\n",
       "      <td>1.425584e+00</td>\n",
       "      <td>9.034640e-01</td>\n",
       "      <td>1.193821e+00</td>\n",
       "      <td>1.684496e-01</td>\n",
       "      <td>2.447843e-01</td>\n",
       "      <td>...</td>\n",
       "      <td>1.214326e+00</td>\n",
       "      <td>1.381869e+00</td>\n",
       "      <td>1.307293e+00</td>\n",
       "      <td>1.265496e+00</td>\n",
       "      <td>1.304499e+00</td>\n",
       "      <td>1.242575e+00</td>\n",
       "      <td>1.225427e+00</td>\n",
       "      <td>1.435341e+00</td>\n",
       "      <td>1.426268e+00</td>\n",
       "      <td>1.389537e+00</td>\n",
       "    </tr>\n",
       "    <tr>\n",
       "      <th>max</th>\n",
       "      <td>1.317569e+00</td>\n",
       "      <td>1.263989e+00</td>\n",
       "      <td>0.0</td>\n",
       "      <td>1.130707e+00</td>\n",
       "      <td>1.256527e+00</td>\n",
       "      <td>1.425639e+00</td>\n",
       "      <td>9.034640e-01</td>\n",
       "      <td>1.193821e+00</td>\n",
       "      <td>4.528512e+01</td>\n",
       "      <td>5.575523e+01</td>\n",
       "      <td>...</td>\n",
       "      <td>1.214326e+00</td>\n",
       "      <td>1.381896e+00</td>\n",
       "      <td>1.307293e+00</td>\n",
       "      <td>1.265496e+00</td>\n",
       "      <td>1.304523e+00</td>\n",
       "      <td>1.242575e+00</td>\n",
       "      <td>1.225427e+00</td>\n",
       "      <td>1.435344e+00</td>\n",
       "      <td>1.426268e+00</td>\n",
       "      <td>1.389561e+00</td>\n",
       "    </tr>\n",
       "  </tbody>\n",
       "</table>\n",
       "<p>8 rows × 248 columns</p>\n",
       "</div>"
      ],
      "text/plain": [
       "             sdbAre        sdbPer    sdbCoA        ssbCCo        ssbCor  \\\n",
       "count  2.990640e+05  2.990640e+05  299064.0  2.990640e+05  2.990640e+05   \n",
       "mean   2.138300e-16  9.741143e-17       0.0 -9.537767e-16 -1.547179e-16   \n",
       "std    1.000002e+00  1.000002e+00       0.0  1.000002e+00  1.000002e+00   \n",
       "min   -1.171204e+00 -1.227228e+00       0.0 -1.323301e+00 -9.560473e-01   \n",
       "25%   -1.171200e+00 -1.227222e+00       0.0 -1.323301e+00 -9.560473e-01   \n",
       "50%   -1.021714e-01 -3.136307e-02       0.0  1.841764e-01  1.502397e-01   \n",
       "75%    1.317557e+00  1.263988e+00       0.0  1.130701e+00  1.256527e+00   \n",
       "max    1.317569e+00  1.263989e+00       0.0  1.130707e+00  1.256527e+00   \n",
       "\n",
       "             ssbSqu        ssbERI        ssbElo        ssbCCM        ssbCCD  \\\n",
       "count  2.990640e+05  2.990640e+05  2.990640e+05  2.990640e+05  2.990640e+05   \n",
       "mean  -4.789791e-17 -1.548205e-14 -1.486356e-15 -8.420149e-17  8.382135e-17   \n",
       "std    1.000002e+00  1.000002e+00  1.000002e+00  9.999465e-01  9.999465e-01   \n",
       "min   -1.025796e+00 -1.408986e+00 -1.259402e+00 -1.216599e+00 -5.934344e-01   \n",
       "25%   -1.025796e+00 -1.408952e+00 -1.259400e+00 -5.121844e-01 -5.881004e-01   \n",
       "50%   -3.571189e-01  6.056801e-01  6.597197e-02 -1.797281e-01 -2.977174e-01   \n",
       "75%    1.425584e+00  9.034640e-01  1.193821e+00  1.684496e-01  2.447843e-01   \n",
       "max    1.425639e+00  9.034640e-01  1.193821e+00  4.528512e+01  5.575523e+01   \n",
       "\n",
       "       ...  ltkOri_higher  ltkWNB_lower  ltkWNB_median  ltkWNB_higher  \\\n",
       "count  ...   2.990640e+05  2.990640e+05   2.990640e+05   2.990640e+05   \n",
       "mean   ...  -3.094357e-16 -9.001767e-16  -5.390416e-16  -1.832285e-16   \n",
       "std    ...   1.000002e+00  1.000002e+00   1.000002e+00   1.000002e+00   \n",
       "min    ...  -1.231474e+00 -1.078034e+00  -1.122950e+00  -1.198521e+00   \n",
       "25%    ...  -1.231474e+00 -1.078034e+00  -1.122950e+00  -1.198521e+00   \n",
       "50%    ...   1.279235e-02 -2.832950e-01  -1.841563e-01  -6.601486e-02   \n",
       "75%    ...   1.214326e+00  1.381869e+00   1.307293e+00   1.265496e+00   \n",
       "max    ...   1.214326e+00  1.381896e+00   1.307293e+00   1.265496e+00   \n",
       "\n",
       "       likWBB_lower  likWBB_median  likWBB_higher  sdsAre_lower  \\\n",
       "count  2.990640e+05   2.990640e+05   2.990640e+05  2.990640e+05   \n",
       "mean   3.124769e-16  -2.995520e-16  -4.827806e-16  2.440513e-16   \n",
       "std    1.000002e+00   1.000002e+00   1.000002e+00  1.000002e+00   \n",
       "min   -1.136820e+00  -1.204462e+00  -1.243431e+00 -1.015741e+00   \n",
       "25%   -1.136820e+00  -1.204462e+00  -1.243431e+00 -1.015741e+00   \n",
       "50%   -1.664405e-01  -3.720930e-02   1.411818e-02 -3.715764e-01   \n",
       "75%    1.304499e+00   1.242575e+00   1.225427e+00  1.435341e+00   \n",
       "max    1.304523e+00   1.242575e+00   1.225427e+00  1.435344e+00   \n",
       "\n",
       "       sdsAre_median  sdsAre_higher  \n",
       "count   2.990640e+05   2.990640e+05  \n",
       "mean   -4.268997e-16  -2.794045e-16  \n",
       "std     1.000002e+00   1.000002e+00  \n",
       "min    -1.020150e+00  -1.056317e+00  \n",
       "25%    -1.020150e+00  -1.056317e+00  \n",
       "50%    -3.691832e-01  -3.181395e-01  \n",
       "75%     1.426268e+00   1.389537e+00  \n",
       "max     1.426268e+00   1.389561e+00  \n",
       "\n",
       "[8 rows x 248 columns]"
      ]
     },
     "execution_count": 107,
     "metadata": {},
     "output_type": "execute_result"
    }
   ],
   "source": [
    "X_train.describe()"
   ]
  },
  {
   "cell_type": "code",
   "execution_count": null,
   "id": "b79a3116-6d66-4bfc-84cc-630dffe51a50",
   "metadata": {},
   "outputs": [],
   "source": []
  },
  {
   "cell_type": "code",
   "execution_count": null,
   "id": "e6641e97-9a5b-4d95-a2cc-8c1915e9f0d1",
   "metadata": {},
   "outputs": [],
   "source": []
  },
  {
   "cell_type": "code",
   "execution_count": null,
   "id": "4018342c-6506-4f57-bacc-4132b939f79f",
   "metadata": {},
   "outputs": [],
   "source": []
  },
  {
   "cell_type": "code",
   "execution_count": null,
   "id": "afe3c5df-3c8b-4295-b618-17c28e24b8d8",
   "metadata": {},
   "outputs": [],
   "source": []
  },
  {
   "cell_type": "code",
   "execution_count": null,
   "id": "b9f3ad69-68e4-4207-bbc1-3d8adf9ab292",
   "metadata": {},
   "outputs": [],
   "source": []
  },
  {
   "cell_type": "code",
   "execution_count": null,
   "id": "68db8a21-9347-4462-a5e9-0456eb288c60",
   "metadata": {},
   "outputs": [],
   "source": []
  },
  {
   "cell_type": "code",
   "execution_count": 108,
   "id": "c1c0fa70-e1f3-46be-a21c-2997c2a0f450",
   "metadata": {},
   "outputs": [],
   "source": [
    "tess_groups = generate_neigbhourhood_groups(tessellation,\n",
    "                                            buffer=200,\n",
    "                                         include_random_sample=True,\n",
    "                                         random_sample_size=1_000)\n",
    "tess_groups = tess_groups[tess_groups.index.isin(X_train.index)]\n",
    "tess_groups_ilocs = (\n",
    "    pd.Series(np.arange(len(X_train)), index=X_train.index)\n",
    "    .loc[tess_groups.index]\n",
    "    .values\n",
    ")\n",
    "\n",
    "def check_score(data, example_clusters):\n",
    "    groups = example_clusters[example_clusters.index.isin(data.index)]\n",
    "    groups_ilocs = (\n",
    "        pd.Series(np.arange(len(data)), index=data.index).loc[groups.index].values\n",
    "    )\n",
    "    return davies_bouldin_score(data.iloc[groups_ilocs], groups.values)"
   ]
  },
  {
   "cell_type": "code",
   "execution_count": 109,
   "id": "66c60148-2cac-42d3-af88-1445d2940a0b",
   "metadata": {},
   "outputs": [],
   "source": [
    "# tessellation.loc[tess_groups.index].explore()"
   ]
  },
  {
   "cell_type": "code",
   "execution_count": 110,
   "id": "b0f45e88-a60c-41ea-940f-e44d4a793982",
   "metadata": {},
   "outputs": [
    {
     "data": {
      "text/html": [
       "<style type=\"text/css\">\n",
       "#T_0f7cc_row0_col0, #T_0f7cc_row1_col1, #T_0f7cc_row2_col2, #T_0f7cc_row3_col3, #T_0f7cc_row4_col4, #T_0f7cc_row5_col5, #T_0f7cc_row6_col6, #T_0f7cc_row7_col7, #T_0f7cc_row8_col8, #T_0f7cc_row9_col9 {\n",
       "  background-color: #f7fcfd;\n",
       "  color: #000000;\n",
       "}\n",
       "#T_0f7cc_row0_col1 {\n",
       "  background-color: #38a367;\n",
       "  color: #f1f1f1;\n",
       "}\n",
       "#T_0f7cc_row0_col2, #T_0f7cc_row3_col2 {\n",
       "  background-color: #2b9452;\n",
       "  color: #f1f1f1;\n",
       "}\n",
       "#T_0f7cc_row0_col3 {\n",
       "  background-color: #0c7735;\n",
       "  color: #f1f1f1;\n",
       "}\n",
       "#T_0f7cc_row0_col4 {\n",
       "  background-color: #40ad75;\n",
       "  color: #f1f1f1;\n",
       "}\n",
       "#T_0f7cc_row0_col5, #T_0f7cc_row1_col5, #T_0f7cc_row2_col5, #T_0f7cc_row3_col5, #T_0f7cc_row4_col5, #T_0f7cc_row5_col2, #T_0f7cc_row6_col5, #T_0f7cc_row7_col9, #T_0f7cc_row8_col5, #T_0f7cc_row9_col5 {\n",
       "  background-color: #00441b;\n",
       "  color: #f1f1f1;\n",
       "}\n",
       "#T_0f7cc_row0_col6 {\n",
       "  background-color: #57ba92;\n",
       "  color: #f1f1f1;\n",
       "}\n",
       "#T_0f7cc_row0_col7 {\n",
       "  background-color: #8ad2be;\n",
       "  color: #000000;\n",
       "}\n",
       "#T_0f7cc_row0_col8 {\n",
       "  background-color: #39a569;\n",
       "  color: #f1f1f1;\n",
       "}\n",
       "#T_0f7cc_row0_col9 {\n",
       "  background-color: #18823d;\n",
       "  color: #f1f1f1;\n",
       "}\n",
       "#T_0f7cc_row1_col0, #T_0f7cc_row9_col0 {\n",
       "  background-color: #2f9858;\n",
       "  color: #f1f1f1;\n",
       "}\n",
       "#T_0f7cc_row1_col2 {\n",
       "  background-color: #2f9a59;\n",
       "  color: #f1f1f1;\n",
       "}\n",
       "#T_0f7cc_row1_col3 {\n",
       "  background-color: #0e7936;\n",
       "  color: #f1f1f1;\n",
       "}\n",
       "#T_0f7cc_row1_col4 {\n",
       "  background-color: #1e8741;\n",
       "  color: #f1f1f1;\n",
       "}\n",
       "#T_0f7cc_row1_col6 {\n",
       "  background-color: #4bb382;\n",
       "  color: #f1f1f1;\n",
       "}\n",
       "#T_0f7cc_row1_col7 {\n",
       "  background-color: #63c0a0;\n",
       "  color: #000000;\n",
       "}\n",
       "#T_0f7cc_row1_col8, #T_0f7cc_row3_col7, #T_0f7cc_row4_col3, #T_0f7cc_row9_col1 {\n",
       "  background-color: #27904c;\n",
       "  color: #f1f1f1;\n",
       "}\n",
       "#T_0f7cc_row1_col9 {\n",
       "  background-color: #026f2e;\n",
       "  color: #f1f1f1;\n",
       "}\n",
       "#T_0f7cc_row2_col0 {\n",
       "  background-color: #47b17e;\n",
       "  color: #f1f1f1;\n",
       "}\n",
       "#T_0f7cc_row2_col1, #T_0f7cc_row2_col3 {\n",
       "  background-color: #55b98f;\n",
       "  color: #f1f1f1;\n",
       "}\n",
       "#T_0f7cc_row2_col4 {\n",
       "  background-color: #85cfbb;\n",
       "  color: #000000;\n",
       "}\n",
       "#T_0f7cc_row2_col6 {\n",
       "  background-color: #7acbb3;\n",
       "  color: #000000;\n",
       "}\n",
       "#T_0f7cc_row2_col7 {\n",
       "  background-color: #4cb484;\n",
       "  color: #f1f1f1;\n",
       "}\n",
       "#T_0f7cc_row2_col8 {\n",
       "  background-color: #c5e9e2;\n",
       "  color: #000000;\n",
       "}\n",
       "#T_0f7cc_row2_col9 {\n",
       "  background-color: #8cd2bf;\n",
       "  color: #000000;\n",
       "}\n",
       "#T_0f7cc_row3_col0 {\n",
       "  background-color: #006227;\n",
       "  color: #f1f1f1;\n",
       "}\n",
       "#T_0f7cc_row3_col1 {\n",
       "  background-color: #087432;\n",
       "  color: #f1f1f1;\n",
       "}\n",
       "#T_0f7cc_row3_col4 {\n",
       "  background-color: #05712f;\n",
       "  color: #f1f1f1;\n",
       "}\n",
       "#T_0f7cc_row3_col6 {\n",
       "  background-color: #127c39;\n",
       "  color: #f1f1f1;\n",
       "}\n",
       "#T_0f7cc_row3_col8 {\n",
       "  background-color: #268f4a;\n",
       "  color: #f1f1f1;\n",
       "}\n",
       "#T_0f7cc_row3_col9 {\n",
       "  background-color: #51b689;\n",
       "  color: #f1f1f1;\n",
       "}\n",
       "#T_0f7cc_row4_col0, #T_0f7cc_row8_col0 {\n",
       "  background-color: #4db585;\n",
       "  color: #f1f1f1;\n",
       "}\n",
       "#T_0f7cc_row4_col1 {\n",
       "  background-color: #35a063;\n",
       "  color: #f1f1f1;\n",
       "}\n",
       "#T_0f7cc_row4_col2 {\n",
       "  background-color: #72c7ad;\n",
       "  color: #000000;\n",
       "}\n",
       "#T_0f7cc_row4_col6 {\n",
       "  background-color: #7dccb5;\n",
       "  color: #000000;\n",
       "}\n",
       "#T_0f7cc_row4_col7 {\n",
       "  background-color: #43af78;\n",
       "  color: #f1f1f1;\n",
       "}\n",
       "#T_0f7cc_row4_col8 {\n",
       "  background-color: #a7ddd1;\n",
       "  color: #000000;\n",
       "}\n",
       "#T_0f7cc_row4_col9 {\n",
       "  background-color: #3eaa70;\n",
       "  color: #f1f1f1;\n",
       "}\n",
       "#T_0f7cc_row5_col0 {\n",
       "  background-color: #097532;\n",
       "  color: #f1f1f1;\n",
       "}\n",
       "#T_0f7cc_row5_col1 {\n",
       "  background-color: #157f3b;\n",
       "  color: #f1f1f1;\n",
       "}\n",
       "#T_0f7cc_row5_col3 {\n",
       "  background-color: #1d8640;\n",
       "  color: #f1f1f1;\n",
       "}\n",
       "#T_0f7cc_row5_col4 {\n",
       "  background-color: #006328;\n",
       "  color: #f1f1f1;\n",
       "}\n",
       "#T_0f7cc_row5_col6 {\n",
       "  background-color: #1c8540;\n",
       "  color: #f1f1f1;\n",
       "}\n",
       "#T_0f7cc_row5_col7, #T_0f7cc_row9_col6 {\n",
       "  background-color: #41ae77;\n",
       "  color: #f1f1f1;\n",
       "}\n",
       "#T_0f7cc_row5_col8 {\n",
       "  background-color: #005221;\n",
       "  color: #f1f1f1;\n",
       "}\n",
       "#T_0f7cc_row5_col9 {\n",
       "  background-color: #005622;\n",
       "  color: #f1f1f1;\n",
       "}\n",
       "#T_0f7cc_row6_col0, #T_0f7cc_row8_col3 {\n",
       "  background-color: #4ab381;\n",
       "  color: #f1f1f1;\n",
       "}\n",
       "#T_0f7cc_row6_col1, #T_0f7cc_row8_col7 {\n",
       "  background-color: #46b17c;\n",
       "  color: #f1f1f1;\n",
       "}\n",
       "#T_0f7cc_row6_col2 {\n",
       "  background-color: #4eb586;\n",
       "  color: #f1f1f1;\n",
       "}\n",
       "#T_0f7cc_row6_col3 {\n",
       "  background-color: #137d39;\n",
       "  color: #f1f1f1;\n",
       "}\n",
       "#T_0f7cc_row6_col4 {\n",
       "  background-color: #61bf9e;\n",
       "  color: #000000;\n",
       "}\n",
       "#T_0f7cc_row6_col7 {\n",
       "  background-color: #5abb95;\n",
       "  color: #f1f1f1;\n",
       "}\n",
       "#T_0f7cc_row6_col8 {\n",
       "  background-color: #54b88e;\n",
       "  color: #f1f1f1;\n",
       "}\n",
       "#T_0f7cc_row6_col9 {\n",
       "  background-color: #208843;\n",
       "  color: #f1f1f1;\n",
       "}\n",
       "#T_0f7cc_row7_col0 {\n",
       "  background-color: #56ba91;\n",
       "  color: #f1f1f1;\n",
       "}\n",
       "#T_0f7cc_row7_col1 {\n",
       "  background-color: #3ca86d;\n",
       "  color: #f1f1f1;\n",
       "}\n",
       "#T_0f7cc_row7_col2 {\n",
       "  background-color: #005723;\n",
       "  color: #f1f1f1;\n",
       "}\n",
       "#T_0f7cc_row7_col3 {\n",
       "  background-color: #006428;\n",
       "  color: #f1f1f1;\n",
       "}\n",
       "#T_0f7cc_row7_col4 {\n",
       "  background-color: #006729;\n",
       "  color: #f1f1f1;\n",
       "}\n",
       "#T_0f7cc_row7_col5 {\n",
       "  background-color: #00451c;\n",
       "  color: #f1f1f1;\n",
       "}\n",
       "#T_0f7cc_row7_col6, #T_0f7cc_row9_col7 {\n",
       "  background-color: #37a266;\n",
       "  color: #f1f1f1;\n",
       "}\n",
       "#T_0f7cc_row7_col8 {\n",
       "  background-color: #005c25;\n",
       "  color: #f1f1f1;\n",
       "}\n",
       "#T_0f7cc_row8_col1, #T_0f7cc_row9_col4 {\n",
       "  background-color: #45b07b;\n",
       "  color: #f1f1f1;\n",
       "}\n",
       "#T_0f7cc_row8_col2 {\n",
       "  background-color: #bfe7de;\n",
       "  color: #000000;\n",
       "}\n",
       "#T_0f7cc_row8_col4 {\n",
       "  background-color: #ade0d4;\n",
       "  color: #000000;\n",
       "}\n",
       "#T_0f7cc_row8_col6 {\n",
       "  background-color: #77c9b0;\n",
       "  color: #000000;\n",
       "}\n",
       "#T_0f7cc_row8_col9 {\n",
       "  background-color: #6fc6aa;\n",
       "  color: #000000;\n",
       "}\n",
       "#T_0f7cc_row9_col2 {\n",
       "  background-color: #82ceb8;\n",
       "  color: #000000;\n",
       "}\n",
       "#T_0f7cc_row9_col3 {\n",
       "  background-color: #74c8ae;\n",
       "  color: #000000;\n",
       "}\n",
       "#T_0f7cc_row9_col8 {\n",
       "  background-color: #6dc5a9;\n",
       "  color: #000000;\n",
       "}\n",
       "</style>\n",
       "<table id=\"T_0f7cc\">\n",
       "  <thead>\n",
       "    <tr>\n",
       "      <th class=\"blank level0\" >&nbsp;</th>\n",
       "      <th id=\"T_0f7cc_level0_col0\" class=\"col_heading level0 col0\" >holyne</th>\n",
       "      <th id=\"T_0f7cc_level0_col1\" class=\"col_heading level0 col1\" >housing estate</th>\n",
       "      <th id=\"T_0f7cc_level0_col2\" class=\"col_heading level0 col2\" >josefov</th>\n",
       "      <th id=\"T_0f7cc_level0_col3\" class=\"col_heading level0 col3\" >karlin</th>\n",
       "      <th id=\"T_0f7cc_level0_col4\" class=\"col_heading level0 col4\" >mala strana</th>\n",
       "      <th id=\"T_0f7cc_level0_col5\" class=\"col_heading level0 col5\" >malesice</th>\n",
       "      <th id=\"T_0f7cc_level0_col6\" class=\"col_heading level0 col6\" >nusle</th>\n",
       "      <th id=\"T_0f7cc_level0_col7\" class=\"col_heading level0 col7\" >random</th>\n",
       "      <th id=\"T_0f7cc_level0_col8\" class=\"col_heading level0 col8\" >stare mesto</th>\n",
       "      <th id=\"T_0f7cc_level0_col9\" class=\"col_heading level0 col9\" >vinohrady</th>\n",
       "    </tr>\n",
       "  </thead>\n",
       "  <tbody>\n",
       "    <tr>\n",
       "      <th id=\"T_0f7cc_level0_row0\" class=\"row_heading level0 row0\" >holyne</th>\n",
       "      <td id=\"T_0f7cc_row0_col0\" class=\"data row0 col0\" >0.000000</td>\n",
       "      <td id=\"T_0f7cc_row0_col1\" class=\"data row0 col1\" >13.660231</td>\n",
       "      <td id=\"T_0f7cc_row0_col2\" class=\"data row0 col2\" >14.729026</td>\n",
       "      <td id=\"T_0f7cc_row0_col3\" class=\"data row0 col3\" >17.117709</td>\n",
       "      <td id=\"T_0f7cc_row0_col4\" class=\"data row0 col4\" >12.920245</td>\n",
       "      <td id=\"T_0f7cc_row0_col5\" class=\"data row0 col5\" >20.600708</td>\n",
       "      <td id=\"T_0f7cc_row0_col6\" class=\"data row0 col6\" >11.314842</td>\n",
       "      <td id=\"T_0f7cc_row0_col7\" class=\"data row0 col7\" >8.464004</td>\n",
       "      <td id=\"T_0f7cc_row0_col8\" class=\"data row0 col8\" >13.579621</td>\n",
       "      <td id=\"T_0f7cc_row0_col9\" class=\"data row0 col9\" >16.209511</td>\n",
       "    </tr>\n",
       "    <tr>\n",
       "      <th id=\"T_0f7cc_level0_row1\" class=\"row_heading level0 row1\" >housing estate</th>\n",
       "      <td id=\"T_0f7cc_row1_col0\" class=\"data row1 col0\" >13.660231</td>\n",
       "      <td id=\"T_0f7cc_row1_col1\" class=\"data row1 col1\" >0.000000</td>\n",
       "      <td id=\"T_0f7cc_row1_col2\" class=\"data row1 col2\" >13.602019</td>\n",
       "      <td id=\"T_0f7cc_row1_col3\" class=\"data row1 col3\" >15.998414</td>\n",
       "      <td id=\"T_0f7cc_row1_col4\" class=\"data row1 col4\" >14.935844</td>\n",
       "      <td id=\"T_0f7cc_row1_col5\" class=\"data row1 col5\" >19.493793</td>\n",
       "      <td id=\"T_0f7cc_row1_col6\" class=\"data row1 col6\" >11.515509</td>\n",
       "      <td id=\"T_0f7cc_row1_col7\" class=\"data row1 col7\" >9.902267</td>\n",
       "      <td id=\"T_0f7cc_row1_col8\" class=\"data row1 col8\" >14.262660</td>\n",
       "      <td id=\"T_0f7cc_row1_col9\" class=\"data row1 col9\" >16.883219</td>\n",
       "    </tr>\n",
       "    <tr>\n",
       "      <th id=\"T_0f7cc_level0_row2\" class=\"row_heading level0 row2\" >josefov</th>\n",
       "      <td id=\"T_0f7cc_row2_col0\" class=\"data row2 col0\" >14.729026</td>\n",
       "      <td id=\"T_0f7cc_row2_col1\" class=\"data row2 col1\" >13.602019</td>\n",
       "      <td id=\"T_0f7cc_row2_col2\" class=\"data row2 col2\" >0.000000</td>\n",
       "      <td id=\"T_0f7cc_row2_col3\" class=\"data row2 col3\" >13.567390</td>\n",
       "      <td id=\"T_0f7cc_row2_col4\" class=\"data row2 col4\" >10.393775</td>\n",
       "      <td id=\"T_0f7cc_row2_col5\" class=\"data row2 col5\" >24.436127</td>\n",
       "      <td id=\"T_0f7cc_row2_col6\" class=\"data row2 col6\" >11.046185</td>\n",
       "      <td id=\"T_0f7cc_row2_col7\" class=\"data row2 col7\" >14.398508</td>\n",
       "      <td id=\"T_0f7cc_row2_col8\" class=\"data row2 col8\" >6.576643</td>\n",
       "      <td id=\"T_0f7cc_row2_col9\" class=\"data row2 col9\" >9.944295</td>\n",
       "    </tr>\n",
       "    <tr>\n",
       "      <th id=\"T_0f7cc_level0_row3\" class=\"row_heading level0 row3\" >karlin</th>\n",
       "      <td id=\"T_0f7cc_row3_col0\" class=\"data row3 col0\" >17.117709</td>\n",
       "      <td id=\"T_0f7cc_row3_col1\" class=\"data row3 col1\" >15.998414</td>\n",
       "      <td id=\"T_0f7cc_row3_col2\" class=\"data row3 col2\" >13.567390</td>\n",
       "      <td id=\"T_0f7cc_row3_col3\" class=\"data row3 col3\" >0.000000</td>\n",
       "      <td id=\"T_0f7cc_row3_col4\" class=\"data row3 col4\" >16.218562</td>\n",
       "      <td id=\"T_0f7cc_row3_col5\" class=\"data row3 col5\" >18.886341</td>\n",
       "      <td id=\"T_0f7cc_row3_col6\" class=\"data row3 col6\" >15.280356</td>\n",
       "      <td id=\"T_0f7cc_row3_col7\" class=\"data row3 col7\" >13.830988</td>\n",
       "      <td id=\"T_0f7cc_row3_col8\" class=\"data row3 col8\" >13.914555</td>\n",
       "      <td id=\"T_0f7cc_row3_col9\" class=\"data row3 col9\" >10.794817</td>\n",
       "    </tr>\n",
       "    <tr>\n",
       "      <th id=\"T_0f7cc_level0_row4\" class=\"row_heading level0 row4\" >mala strana</th>\n",
       "      <td id=\"T_0f7cc_row4_col0\" class=\"data row4 col0\" >12.920245</td>\n",
       "      <td id=\"T_0f7cc_row4_col1\" class=\"data row4 col1\" >14.935844</td>\n",
       "      <td id=\"T_0f7cc_row4_col2\" class=\"data row4 col2\" >10.393775</td>\n",
       "      <td id=\"T_0f7cc_row4_col3\" class=\"data row4 col3\" >16.218562</td>\n",
       "      <td id=\"T_0f7cc_row4_col4\" class=\"data row4 col4\" >0.000000</td>\n",
       "      <td id=\"T_0f7cc_row4_col5\" class=\"data row4 col5\" >22.114176</td>\n",
       "      <td id=\"T_0f7cc_row4_col6\" class=\"data row4 col6\" >9.813651</td>\n",
       "      <td id=\"T_0f7cc_row4_col7\" class=\"data row4 col7\" >13.666840</td>\n",
       "      <td id=\"T_0f7cc_row4_col8\" class=\"data row4 col8\" >7.592299</td>\n",
       "      <td id=\"T_0f7cc_row4_col9\" class=\"data row4 col9\" >14.101026</td>\n",
       "    </tr>\n",
       "    <tr>\n",
       "      <th id=\"T_0f7cc_level0_row5\" class=\"row_heading level0 row5\" >malesice</th>\n",
       "      <td id=\"T_0f7cc_row5_col0\" class=\"data row5 col0\" >20.600708</td>\n",
       "      <td id=\"T_0f7cc_row5_col1\" class=\"data row5 col1\" >19.493793</td>\n",
       "      <td id=\"T_0f7cc_row5_col2\" class=\"data row5 col2\" >24.436127</td>\n",
       "      <td id=\"T_0f7cc_row5_col3\" class=\"data row5 col3\" >18.886341</td>\n",
       "      <td id=\"T_0f7cc_row5_col4\" class=\"data row5 col4\" >22.114176</td>\n",
       "      <td id=\"T_0f7cc_row5_col5\" class=\"data row5 col5\" >0.000000</td>\n",
       "      <td id=\"T_0f7cc_row5_col6\" class=\"data row5 col6\" >18.979956</td>\n",
       "      <td id=\"T_0f7cc_row5_col7\" class=\"data row5 col7\" >15.241626</td>\n",
       "      <td id=\"T_0f7cc_row5_col8\" class=\"data row5 col8\" >23.294010</td>\n",
       "      <td id=\"T_0f7cc_row5_col9\" class=\"data row5 col9\" >23.070371</td>\n",
       "    </tr>\n",
       "    <tr>\n",
       "      <th id=\"T_0f7cc_level0_row6\" class=\"row_heading level0 row6\" >nusle</th>\n",
       "      <td id=\"T_0f7cc_row6_col0\" class=\"data row6 col0\" >11.314842</td>\n",
       "      <td id=\"T_0f7cc_row6_col1\" class=\"data row6 col1\" >11.515509</td>\n",
       "      <td id=\"T_0f7cc_row6_col2\" class=\"data row6 col2\" >11.046185</td>\n",
       "      <td id=\"T_0f7cc_row6_col3\" class=\"data row6 col3\" >15.280356</td>\n",
       "      <td id=\"T_0f7cc_row6_col4\" class=\"data row6 col4\" >9.813651</td>\n",
       "      <td id=\"T_0f7cc_row6_col5\" class=\"data row6 col5\" >18.979956</td>\n",
       "      <td id=\"T_0f7cc_row6_col6\" class=\"data row6 col6\" >0.000000</td>\n",
       "      <td id=\"T_0f7cc_row6_col7\" class=\"data row6 col7\" >10.237869</td>\n",
       "      <td id=\"T_0f7cc_row6_col8\" class=\"data row6 col8\" >10.647553</td>\n",
       "      <td id=\"T_0f7cc_row6_col9\" class=\"data row6 col9\" >14.396936</td>\n",
       "    </tr>\n",
       "    <tr>\n",
       "      <th id=\"T_0f7cc_level0_row7\" class=\"row_heading level0 row7\" >random</th>\n",
       "      <td id=\"T_0f7cc_row7_col0\" class=\"data row7 col0\" >8.464004</td>\n",
       "      <td id=\"T_0f7cc_row7_col1\" class=\"data row7 col1\" >9.902267</td>\n",
       "      <td id=\"T_0f7cc_row7_col2\" class=\"data row7 col2\" >14.398508</td>\n",
       "      <td id=\"T_0f7cc_row7_col3\" class=\"data row7 col3\" >13.830988</td>\n",
       "      <td id=\"T_0f7cc_row7_col4\" class=\"data row7 col4\" >13.666840</td>\n",
       "      <td id=\"T_0f7cc_row7_col5\" class=\"data row7 col5\" >15.241626</td>\n",
       "      <td id=\"T_0f7cc_row7_col6\" class=\"data row7 col6\" >10.237869</td>\n",
       "      <td id=\"T_0f7cc_row7_col7\" class=\"data row7 col7\" >0.000000</td>\n",
       "      <td id=\"T_0f7cc_row7_col8\" class=\"data row7 col8\" >14.159710</td>\n",
       "      <td id=\"T_0f7cc_row7_col9\" class=\"data row7 col9\" >15.338104</td>\n",
       "    </tr>\n",
       "    <tr>\n",
       "      <th id=\"T_0f7cc_level0_row8\" class=\"row_heading level0 row8\" >stare mesto</th>\n",
       "      <td id=\"T_0f7cc_row8_col0\" class=\"data row8 col0\" >13.579621</td>\n",
       "      <td id=\"T_0f7cc_row8_col1\" class=\"data row8 col1\" >14.262660</td>\n",
       "      <td id=\"T_0f7cc_row8_col2\" class=\"data row8 col2\" >6.576643</td>\n",
       "      <td id=\"T_0f7cc_row8_col3\" class=\"data row8 col3\" >13.914555</td>\n",
       "      <td id=\"T_0f7cc_row8_col4\" class=\"data row8 col4\" >7.592299</td>\n",
       "      <td id=\"T_0f7cc_row8_col5\" class=\"data row8 col5\" >23.294010</td>\n",
       "      <td id=\"T_0f7cc_row8_col6\" class=\"data row8 col6\" >10.647553</td>\n",
       "      <td id=\"T_0f7cc_row8_col7\" class=\"data row8 col7\" >14.159710</td>\n",
       "      <td id=\"T_0f7cc_row8_col8\" class=\"data row8 col8\" >0.000000</td>\n",
       "      <td id=\"T_0f7cc_row8_col9\" class=\"data row8 col9\" >11.114330</td>\n",
       "    </tr>\n",
       "    <tr>\n",
       "      <th id=\"T_0f7cc_level0_row9\" class=\"row_heading level0 row9\" >vinohrady</th>\n",
       "      <td id=\"T_0f7cc_row9_col0\" class=\"data row9 col0\" >16.209511</td>\n",
       "      <td id=\"T_0f7cc_row9_col1\" class=\"data row9 col1\" >16.883219</td>\n",
       "      <td id=\"T_0f7cc_row9_col2\" class=\"data row9 col2\" >9.944295</td>\n",
       "      <td id=\"T_0f7cc_row9_col3\" class=\"data row9 col3\" >10.794817</td>\n",
       "      <td id=\"T_0f7cc_row9_col4\" class=\"data row9 col4\" >14.101026</td>\n",
       "      <td id=\"T_0f7cc_row9_col5\" class=\"data row9 col5\" >23.070371</td>\n",
       "      <td id=\"T_0f7cc_row9_col6\" class=\"data row9 col6\" >14.396936</td>\n",
       "      <td id=\"T_0f7cc_row9_col7\" class=\"data row9 col7\" >15.338104</td>\n",
       "      <td id=\"T_0f7cc_row9_col8\" class=\"data row9 col8\" >11.114330</td>\n",
       "      <td id=\"T_0f7cc_row9_col9\" class=\"data row9 col9\" >0.000000</td>\n",
       "    </tr>\n",
       "  </tbody>\n",
       "</table>\n"
      ],
      "text/plain": [
       "<pandas.io.formats.style.Styler at 0x76f5c02ddf10>"
      ]
     },
     "execution_count": 110,
     "metadata": {},
     "output_type": "execute_result"
    }
   ],
   "source": [
    "from core.cluster_validation import print_distance\n",
    "print_distance( pd.DataFrame(X_train.loc[tess_groups.index]).groupby(tess_groups.values).mean(), metric='euclidean')"
   ]
  },
  {
   "cell_type": "code",
   "execution_count": 111,
   "id": "933b8704-3bed-4fab-b949-5e1aec1017eb",
   "metadata": {},
   "outputs": [
    {
     "name": "stdout",
     "output_type": "stream",
     "text": [
      "holyne 16.867323946525687\n",
      "housing estate 14.537036995995132\n",
      "josefov 11.14589249890372\n",
      "karlin 11.17750023551571\n",
      "mala strana 13.412508277525806\n",
      "malesice 13.911323149855836\n",
      "nusle 16.460632309871052\n",
      "random 21.220313802360415\n",
      "stare mesto 11.832032725927709\n",
      "vinohrady 10.202987142069015\n"
     ]
    }
   ],
   "source": [
    "from scipy.spatial.distance import pdist\n",
    "for i, g in X_train.loc[tess_groups.index].groupby(tess_groups.values):\n",
    "    print(i, np.median(pdist(g)))"
   ]
  },
  {
   "cell_type": "code",
   "execution_count": null,
   "id": "b1a2d14d-2e10-460a-b5f6-91b7a7f0070a",
   "metadata": {},
   "outputs": [],
   "source": []
  },
  {
   "cell_type": "code",
   "execution_count": null,
   "id": "9036196f-0532-4c92-aee3-9ce7325f5ec6",
   "metadata": {},
   "outputs": [],
   "source": []
  },
  {
   "cell_type": "code",
   "execution_count": null,
   "id": "36b033c8-e5ec-411c-a237-55fcec08dc5e",
   "metadata": {},
   "outputs": [],
   "source": []
  },
  {
   "cell_type": "code",
   "execution_count": 17,
   "id": "810a8f63-7235-4a04-b96b-2d76a39cd034",
   "metadata": {},
   "outputs": [],
   "source": [
    "# training_data = X_train.loc[tess_groups.index]\n",
    "# tess_groups_ilocs = (\n",
    "#     pd.Series(np.arange(len(training_data)), index=training_data.index)\n",
    "#     .loc[tess_groups.index]\n",
    "#     .values\n",
    "# )\n",
    "# training_data.shape"
   ]
  },
  {
   "cell_type": "code",
   "execution_count": 69,
   "id": "dfd60071-2197-4622-88a4-6cab698c5f53",
   "metadata": {},
   "outputs": [],
   "source": [
    "from sklearn.cluster import AgglomerativeClustering\n",
    "from scipy.cluster.hierarchy import dendrogram\n",
    "from scipy.cluster.hierarchy import fcluster\n",
    "from sklearn.metrics import adjusted_rand_score\n",
    "from sklearn.metrics import davies_bouldin_score\n",
    "from core.cluster_validation import get_linkage_matrix"
   ]
  },
  {
   "cell_type": "code",
   "execution_count": 70,
   "id": "90aac486-be30-4303-ab79-05abc7975ff8",
   "metadata": {},
   "outputs": [],
   "source": [
    "q1 = read_parquet(graph_dir + f\"tessellation_graph_{region_id}_knn1.parquet\")\n",
    "clustering_graph = q1.higher_order(k=3, lower_order=True, diagonal=True).subgraph(X_train.index.values)"
   ]
  },
  {
   "cell_type": "code",
   "execution_count": 71,
   "id": "0de9e06b-024f-4010-a7c8-01797abb2a4e",
   "metadata": {},
   "outputs": [
    {
     "data": {
      "text/plain": [
       "component labels\n",
       "776    60555\n",
       "452    25177\n",
       "754    17243\n",
       "99     15583\n",
       "726    13382\n",
       "       ...  \n",
       "427        1\n",
       "426        1\n",
       "896        1\n",
       "893        1\n",
       "891        1\n",
       "Name: count, Length: 919, dtype: int64"
      ]
     },
     "execution_count": 71,
     "metadata": {},
     "output_type": "execute_result"
    }
   ],
   "source": [
    "graph_labels = q1.subgraph(X_train.index.values).component_labels\n",
    "graph_labels.value_counts()"
   ]
  },
  {
   "cell_type": "code",
   "execution_count": 72,
   "id": "644f3109-b0a9-4930-8ac7-326927d131f9",
   "metadata": {},
   "outputs": [],
   "source": [
    "clustering_graph = clustering_graph.subgraph(graph_labels[graph_labels == 776].index.values)"
   ]
  },
  {
   "cell_type": "code",
   "execution_count": 74,
   "id": "66174554-4025-4ef2-b94e-566f957b76e8",
   "metadata": {},
   "outputs": [],
   "source": [
    "core_ids = clustering_graph.unique_ids\n",
    "clustering_graph = clustering_graph.transform('B').sparse"
   ]
  },
  {
   "cell_type": "code",
   "execution_count": 113,
   "id": "f283e920-dcdc-436f-b4ee-bbfbc4d7bc9e",
   "metadata": {},
   "outputs": [],
   "source": [
    "training_data = X_train[X_train.index.isin(core_ids)]"
   ]
  },
  {
   "cell_type": "code",
   "execution_count": null,
   "id": "185ea153-7ce8-4488-bd56-890b9f21c98f",
   "metadata": {},
   "outputs": [],
   "source": []
  },
  {
   "cell_type": "code",
   "execution_count": null,
   "id": "e5b30ff9-fe24-42e9-b94d-0d4c15c77727",
   "metadata": {},
   "outputs": [],
   "source": []
  },
  {
   "cell_type": "code",
   "execution_count": 114,
   "id": "8848209d-2e6d-4fc0-b89a-d660c149dd6c",
   "metadata": {},
   "outputs": [],
   "source": [
    "to_drop = ['stcSAl',\n",
    " 'stbSAl',\n",
    " 'ltkOri',\n",
    " 'stbOri',\n",
    " 'stcOri',\n",
    " 'stbCeA',\n",
    " 'sdsSWD',\n",
    " 'mtbAli']"
   ]
  },
  {
   "cell_type": "code",
   "execution_count": 115,
   "id": "071c3bf9-f878-4e74-9758-c0504221e98a",
   "metadata": {},
   "outputs": [],
   "source": [
    "training_data = training_data[[c for c in training_data.columns if 'Ori' not in c]]\n",
    "training_data = training_data[[c for c in training_data.columns if 'SAl' not in c]]\n",
    "training_data = training_data[[c for c in training_data.columns if 'CeA' not in c]]\n",
    "training_data = training_data[[c for c in training_data.columns if 'SWD' not in c]]\n",
    "training_data = training_data[[c for c in training_data.columns if 'Ali' not in c]]\n",
    "\n",
    "# training_data = training_data[[c for c in training_data.columns if '_' not in c]]\n"
   ]
  },
  {
   "cell_type": "code",
   "execution_count": null,
   "id": "037b4752-f839-434d-ae12-de0e39f3254e",
   "metadata": {},
   "outputs": [],
   "source": []
  },
  {
   "cell_type": "code",
   "execution_count": 116,
   "id": "e4a45525-224d-4351-95b7-26588ff97054",
   "metadata": {},
   "outputs": [
    {
     "data": {
      "text/plain": [
       "(60555, 216)"
      ]
     },
     "execution_count": 116,
     "metadata": {},
     "output_type": "execute_result"
    }
   ],
   "source": [
    "training_data.shape"
   ]
  },
  {
   "cell_type": "code",
   "execution_count": null,
   "id": "0872c9d9-617d-4b01-a0f8-46c6a164ad43",
   "metadata": {},
   "outputs": [],
   "source": []
  },
  {
   "cell_type": "code",
   "execution_count": 117,
   "id": "da6eb172-d94f-470c-a352-be000444e9ce",
   "metadata": {},
   "outputs": [],
   "source": [
    "# training_data = training_data[[c for c in training_data.columns if '_' not in c]]\n",
    "# training_data.shape"
   ]
  },
  {
   "cell_type": "code",
   "execution_count": null,
   "id": "05703d49-dba9-432b-8d7f-81a52a0d89ff",
   "metadata": {},
   "outputs": [],
   "source": []
  },
  {
   "cell_type": "code",
   "execution_count": 118,
   "id": "b4f8c16c-bb62-4633-bc15-873c65680085",
   "metadata": {},
   "outputs": [
    {
     "name": "stdout",
     "output_type": "stream",
     "text": [
      "CPU times: user 9.7 s, sys: 56.4 ms, total: 9.76 s\n",
      "Wall time: 9.76 s\n"
     ]
    }
   ],
   "source": [
    "%%time\n",
    "clusterer = AgglomerativeClustering(linkage='ward',\n",
    "                                    connectivity=clustering_graph, \n",
    "                                    compute_full_tree=True, compute_distances=True)\n",
    "model = clusterer.fit(training_data)"
   ]
  },
  {
   "cell_type": "code",
   "execution_count": 119,
   "id": "f406f50b-ccf8-4ec6-ab6e-ecacd9024fa1",
   "metadata": {},
   "outputs": [],
   "source": [
    "linkage_matrix = get_linkage_matrix(model)"
   ]
  },
  {
   "cell_type": "code",
   "execution_count": 120,
   "id": "442954ce-e3dd-453b-9990-fef4638c9ffd",
   "metadata": {},
   "outputs": [
    {
     "data": {
      "image/png": "[encoded data removed]",
      "text/plain": [
       "<Figure size 4000x4000 with 1 Axes>"
      ]
     },
     "metadata": {},
     "output_type": "display_data"
    }
   ],
   "source": [
    "fix, ax = plt.subplots(figsize=(40,40))\n",
    "# Plot the corresponding dendrogram\n",
    "_ = dendrogram(linkage_matrix, truncate_mode=\"level\", p=5, ax=ax)"
   ]
  },
  {
   "cell_type": "code",
   "execution_count": 121,
   "id": "1cfc303c-d456-4bce-9255-970689c173c9",
   "metadata": {},
   "outputs": [],
   "source": [
    "from sklearn.metrics import calinski_harabasz_score"
   ]
  },
  {
   "cell_type": "code",
   "execution_count": 122,
   "id": "c0f1c3d0-1712-473b-8475-cc74496aae5b",
   "metadata": {},
   "outputs": [],
   "source": [
    "tess_groups = generate_neigbhourhood_groups(tessellation,\n",
    "                                            buffer=200,\n",
    "                                         include_random_sample=True,\n",
    "                                         random_sample_size=1_000)\n",
    "tess_groups = tess_groups[tess_groups.index.isin(training_data.index)]\n",
    "tess_groups_ilocs = (\n",
    "    pd.Series(np.arange(len(training_data)), index=training_data.index)\n",
    "    .loc[tess_groups.index]\n",
    "    .values\n",
    ")"
   ]
  },
  {
   "cell_type": "code",
   "execution_count": 123,
   "id": "f26d27b8-628f-45ab-8aee-185c2e5177d8",
   "metadata": {},
   "outputs": [
    {
     "name": "stdout",
     "output_type": "stream",
     "text": [
      "25  -  0.18532539362067213 1.7897896246492728 57.8552546425311\n",
      "50  -  0.4135218212165885 2.372771903418472 112.85600914534692\n",
      "75  -  0.5095958136389146 2.854887331792381 171.12727669981163\n",
      "100  -  0.6251957590189688 3.286081697940944 237.24092806195398\n",
      "125  -  0.6708334128206046 3.5266871331636622 296.9606962341265\n",
      "150  -  0.7418950008836395 3.893260503628198 369.84651161272774\n",
      "175  -  0.7449714279566874 4.085250085792686 435.58680499625683\n",
      "200  -  0.7411877559740307 4.323907160507636 513.1184955531836\n",
      "225  -  0.5982612039379498 4.510146387178376 590.2086768132722\n",
      "250  -  0.5963606960155703 4.318301541932595 689.5750667791837\n",
      "275  -  0.5600816247516265 4.374754338040352 869.5436716585085\n",
      "300  -  0.555847023022211 4.537390412103292 973.1658838357064\n",
      "325  -  0.5561581939271845 4.768955546307502 1037.2301761201727\n",
      "350  -  0.5563813450868346 4.896796412742563 1069.86822165338\n",
      "375  -  0.5565672602929245 4.85834981119606 1103.606889615774\n",
      "400  -  0.38375476110838197 5.7103705590823814 1679.831217999252\n",
      "425  -  0.38375476110838197 5.7103705590823814 1679.831217999252\n",
      "450  -  0.38080733175358106 5.831461432308305 1837.617951041597\n",
      "475  -  0.38080733175358106 5.831461432308305 1837.617951041597\n",
      "500  -  0.38080733175358106 5.831461432308305 1837.617951041597\n",
      "525  -  0.2400263596589865 6.332491483291304 2018.995839740687\n",
      "550  -  0.2400263596589865 6.332491483291304 2018.995839740687\n",
      "575  -  0.2400263596589865 6.332491483291304 2018.995839740687\n"
     ]
    }
   ],
   "source": [
    "for t in range(25, 600, 25):\n",
    "    r = fcluster(linkage_matrix, t=t, criterion='distance')\n",
    "    # r = pd.Series(r, index=X_train.index)\n",
    "    # # ssplits = graph.describe(r, statistics=['nunique'])['nunique']\n",
    "    print(t, ' - ', \n",
    "          adjusted_rand_score(tess_groups.values, r[tess_groups_ilocs]),\n",
    "          # (ssplits > 1).sum() / ssplits.shape[0],\n",
    "          davies_bouldin_score(training_data, r),\n",
    "          calinski_harabasz_score(training_data, r)\n",
    "         )"
   ]
  },
  {
   "cell_type": "code",
   "execution_count": null,
   "id": "3fa9782d-53ca-4f41-9efe-a90ddc4fafdf",
   "metadata": {},
   "outputs": [],
   "source": []
  },
  {
   "cell_type": "code",
   "execution_count": 99,
   "id": "7980bb91-f65a-4c5e-9872-d3db8fe15ffe",
   "metadata": {},
   "outputs": [],
   "source": [
    "clusters = fcluster(linkage_matrix, t=200, criterion='distance')"
   ]
  },
  {
   "cell_type": "code",
   "execution_count": null,
   "id": "b2139127-55d2-4fae-95cf-b76e614cdb94",
   "metadata": {},
   "outputs": [],
   "source": []
  },
  {
   "cell_type": "code",
   "execution_count": null,
   "id": "d32d6d94-ca5f-4811-9657-94d968dc4f49",
   "metadata": {},
   "outputs": [],
   "source": []
  },
  {
   "cell_type": "code",
   "execution_count": 100,
   "id": "8eccffeb-a185-4c49-8e17-11e2cf6adaab",
   "metadata": {},
   "outputs": [],
   "source": [
    "plotting = tessellation.loc[training_data.index].reset_index()"
   ]
  },
  {
   "cell_type": "code",
   "execution_count": null,
   "id": "e03cadcf-7b97-4728-8532-e8ca3262247f",
   "metadata": {},
   "outputs": [],
   "source": []
  },
  {
   "cell_type": "code",
   "execution_count": 34,
   "id": "f29f4b98-effa-431c-9d91-c0a372034d72",
   "metadata": {},
   "outputs": [
    {
     "name": "stderr",
     "output_type": "stream",
     "text": [
      "/home/krasen/miniconda3/envs/urban_taxonomy/lib/python3.12/site-packages/lonboard/_geoarrow/ops/reproject.py:97: UserWarning: Input being reprojected to EPSG:4326 CRS\n",
      "  warnings.warn(\"Input being reprojected to EPSG:4326 CRS\")\n"
     ]
    },
    {
     "name": "stdout",
     "output_type": "stream",
     "text": [
      "CPU times: user 1.18 s, sys: 74.1 ms, total: 1.25 s\n",
      "Wall time: 1.25 s\n"
     ]
    }
   ],
   "source": [
    "%%time\n",
    "import lonboard\n",
    "# plotting = tessellation[tessellation.index.isin(X_train.index)].copy()\n",
    "layer = lonboard.PolygonLayer.from_geopandas(plotting, opacity=.08)"
   ]
  },
  {
   "cell_type": "code",
   "execution_count": 35,
   "id": "b05c20be-dbd5-4dd9-aff0-a013c206cd1a",
   "metadata": {},
   "outputs": [],
   "source": [
    "from sidecar import Sidecar\n",
    "sc = Sidecar(title='Clusters')\n",
    "m = lonboard.Map(layer, basemap_style=lonboard.basemap.CartoBasemap.Positron)\n",
    "with sc:\n",
    "    display(m)"
   ]
  },
  {
   "cell_type": "code",
   "execution_count": 36,
   "id": "fee4023b-700f-4129-a87a-6860401f5044",
   "metadata": {},
   "outputs": [],
   "source": [
    "from core.cluster_validation import get_color"
   ]
  },
  {
   "cell_type": "code",
   "execution_count": null,
   "id": "9e0ca7f3-f14d-4cc5-8368-c078af1319ea",
   "metadata": {},
   "outputs": [],
   "source": []
  },
  {
   "cell_type": "code",
   "execution_count": 127,
   "id": "a75a2b4c-7dff-48fa-b2a2-1581b3e2869e",
   "metadata": {},
   "outputs": [],
   "source": [
    "clusters = fcluster(linkage_matrix, t=100, criterion='distance')"
   ]
  },
  {
   "cell_type": "code",
   "execution_count": 128,
   "id": "4e55548d-7978-4751-a9c6-9a28b21e3bb4",
   "metadata": {},
   "outputs": [
    {
     "data": {
      "text/plain": [
       "(array([  1,   2,   3,   4,   5,   6,   7,   8,   9,  10,  11,  12,  13,\n",
       "         14,  15,  16,  17,  18,  19,  20,  21,  22,  23,  24,  25,  26,\n",
       "         27,  28,  29,  30,  31,  32,  33,  34,  35,  36,  37,  38,  39,\n",
       "         40,  41,  42,  43,  44,  45,  46,  47,  48,  49,  50,  51,  52,\n",
       "         53,  54,  55,  56,  57,  58,  59,  60,  61,  62,  63,  64,  65,\n",
       "         66,  67,  68,  69,  70,  71,  72,  73,  74,  75,  76,  77,  78,\n",
       "         79,  80,  81,  82,  83,  84,  85,  86,  87,  88,  89,  90,  91,\n",
       "         92,  93,  94,  95,  96,  97,  98,  99, 100, 101, 102, 103, 104,\n",
       "        105, 106, 107, 108, 109, 110, 111, 112, 113, 114, 115, 116, 117,\n",
       "        118, 119, 120, 121, 122, 123, 124, 125, 126, 127, 128, 129, 130,\n",
       "        131, 132, 133, 134, 135, 136, 137, 138, 139, 140, 141, 142, 143,\n",
       "        144, 145, 146, 147, 148, 149, 150, 151, 152, 153, 154, 155, 156,\n",
       "        157, 158, 159, 160, 161, 162, 163, 164, 165, 166, 167, 168, 169,\n",
       "        170, 171, 172, 173, 174, 175, 176, 177, 178, 179, 180, 181, 182,\n",
       "        183, 184, 185, 186, 187, 188, 189, 190, 191, 192, 193, 194, 195,\n",
       "        196, 197, 198, 199, 200, 201, 202, 203, 204, 205, 206, 207, 208,\n",
       "        209, 210, 211, 212, 213, 214, 215, 216, 217, 218, 219, 220, 221,\n",
       "        222, 223, 224, 225, 226, 227, 228, 229, 230, 231, 232, 233, 234,\n",
       "        235, 236, 237, 238, 239, 240, 241, 242, 243, 244, 245, 246, 247,\n",
       "        248, 249, 250, 251, 252], dtype=int32),\n",
       " array([ 146,  133,  145,  129,  308,  845,  195,  184,  186,  189,  276,\n",
       "         175,  312,  110,  166,  205,  319,  311,  208,  218,  216,  173,\n",
       "         232,  301,   92,  119,  112,  368,  196,   56,  160,  261,  161,\n",
       "         294,  196,  227,  160,  194,  104,  596,  202,  150,  305,  204,\n",
       "         208,  195,  146,  121,  188,   71,  172,  462,  264,  325,  178,\n",
       "         283,   40,  117,  448,  177,  312,  140,  128,  281,  143,  220,\n",
       "         181,  120,  176,  312,  294,  207,  155,  213,  224,  104,  307,\n",
       "         200,  291,  112,  292,  415,  323,  176,  108,   76,  418,  578,\n",
       "         202,  141,  114,   80,  167,  108,  211,  454,  344,   42,   80,\n",
       "         321,  373,  172,  122,  263,  280,  129,  111,  122,  331,  164,\n",
       "         126,   56,  152,  265,  176,  222,  208,  183,  260,  129,  193,\n",
       "         233,   44,  263,  266,  142,  192,  110,  191,  781,  284, 2118,\n",
       "         793,  185,  354,  116,  122,  219,  303,   94,  676, 1087,  322,\n",
       "          97,  490,  515,  224,  145,  202,  529, 1510,  321,  249,  285,\n",
       "         415,  307,  293,  239,  568,   88,  281,  272,  175,   84,   78,\n",
       "          90,  331,  195,   67,  260,  197,  176,  495,  153,  100,   44,\n",
       "          94,  164,  158,  199,  249,   26,  235,  191,  125,  201,   41,\n",
       "          59,  689,   84,  267,  209,  143,   69,   54,  206,  326,  264,\n",
       "         298,  322,  105,  295,  249,  165,  162,  335,  135,  556,  136,\n",
       "         551,  136,   65,  405,  142,   64,  159,  109,  221,  416,  131,\n",
       "         149,  177,  249,  293,   60,  190,  464,  298,  277,   69,   83,\n",
       "          72,  225,  446,  110,  116,  486,  322,  122,  184,  237,  199,\n",
       "         168,  372,  297,  213,  132,  134,  165,  102,  217,  306]))"
      ]
     },
     "execution_count": 128,
     "metadata": {},
     "output_type": "execute_result"
    }
   ],
   "source": [
    "np.unique(clusters, return_counts=True)"
   ]
  },
  {
   "cell_type": "code",
   "execution_count": 129,
   "id": "961f94c0-f15b-45f9-95a1-a9ef0a953fa4",
   "metadata": {},
   "outputs": [],
   "source": [
    "layer.get_fill_color = get_color(clusters)"
   ]
  },
  {
   "cell_type": "code",
   "execution_count": null,
   "id": "5f15698a-c3fa-41dd-813b-674260f344fc",
   "metadata": {},
   "outputs": [],
   "source": []
  },
  {
   "cell_type": "code",
   "execution_count": null,
   "id": "71346b78-0433-44d3-80e3-12026a039376",
   "metadata": {},
   "outputs": [],
   "source": [
    "from core.cluster_validation import get_feature_importance\n",
    "from core.utils import used_keys"
   ]
  },
  {
   "cell_type": "code",
   "execution_count": 69,
   "id": "6d8860fb-400e-4a47-b7fb-03dc87f297e2",
   "metadata": {},
   "outputs": [],
   "source": [
    "clusters_subset = [11597, 11615, 17742]\n",
    "clusters_subset = np.where(np.isin(clusters, clusters[clusters_subset]))"
   ]
  },
  {
   "cell_type": "code",
   "execution_count": 70,
   "id": "0d28e68d-f339-4b1a-9016-be114fd64e29",
   "metadata": {},
   "outputs": [
    {
     "name": "stderr",
     "output_type": "stream",
     "text": [
      "[Parallel(n_jobs=-1)]: Using backend ThreadingBackend with 20 concurrent workers.\n",
      "[Parallel(n_jobs=-1)]: Done   4 out of  10 | elapsed:    0.0s remaining:    0.0s\n",
      "[Parallel(n_jobs=-1)]: Done  10 out of  10 | elapsed:    0.0s finished\n",
      "[Parallel(n_jobs=-1)]: Using backend ThreadingBackend with 20 concurrent workers.\n",
      "[Parallel(n_jobs=-1)]: Done   4 out of  10 | elapsed:    0.0s remaining:    0.0s\n",
      "[Parallel(n_jobs=-1)]: Done  10 out of  10 | elapsed:    0.0s finished\n",
      "[Parallel(n_jobs=-1)]: Using backend ThreadingBackend with 20 concurrent workers.\n",
      "[Parallel(n_jobs=-1)]: Done   4 out of  10 | elapsed:    0.0s remaining:    0.0s\n",
      "[Parallel(n_jobs=-1)]: Done  10 out of  10 | elapsed:    0.0s finished\n"
     ]
    }
   ],
   "source": [
    "imps = get_feature_importance(training_data.iloc[clusters_subset], clusters[clusters_subset])"
   ]
  },
  {
   "cell_type": "code",
   "execution_count": 72,
   "id": "bf8ce8b9-93cc-4b54-87fe-244a7c346f1c",
   "metadata": {},
   "outputs": [
    {
     "data": {
      "text/html": [
       "<div>\n",
       "<style scoped>\n",
       "    .dataframe tbody tr th:only-of-type {\n",
       "        vertical-align: middle;\n",
       "    }\n",
       "\n",
       "    .dataframe tbody tr th {\n",
       "        vertical-align: top;\n",
       "    }\n",
       "\n",
       "    .dataframe thead th {\n",
       "        text-align: right;\n",
       "    }\n",
       "</style>\n",
       "<table border=\"1\" class=\"dataframe\">\n",
       "  <thead>\n",
       "    <tr style=\"text-align: right;\">\n",
       "      <th></th>\n",
       "      <th>cluster_48</th>\n",
       "      <th>cluster_66</th>\n",
       "      <th>cluster_69</th>\n",
       "    </tr>\n",
       "  </thead>\n",
       "  <tbody>\n",
       "    <tr>\n",
       "      <th>0</th>\n",
       "      <td>linWID_higher</td>\n",
       "      <td>lcdMes_higher</td>\n",
       "      <td>ssbCCD_lower</td>\n",
       "    </tr>\n",
       "    <tr>\n",
       "      <th>1</th>\n",
       "      <td>ldsMSL_lower</td>\n",
       "      <td>linPDE</td>\n",
       "      <td>ltkOri_lower</td>\n",
       "    </tr>\n",
       "    <tr>\n",
       "      <th>2</th>\n",
       "      <td>lddNDe</td>\n",
       "      <td>linP3W_higher</td>\n",
       "      <td>ssbSqu_lower</td>\n",
       "    </tr>\n",
       "    <tr>\n",
       "      <th>3</th>\n",
       "      <td>ltkOri_lower</td>\n",
       "      <td>mtbAli_median</td>\n",
       "      <td>lcdMes_median</td>\n",
       "    </tr>\n",
       "    <tr>\n",
       "      <th>4</th>\n",
       "      <td>ldsMSL</td>\n",
       "      <td>lskCWA_lower</td>\n",
       "      <td>linWID_higher</td>\n",
       "    </tr>\n",
       "    <tr>\n",
       "      <th>5</th>\n",
       "      <td>ldsMSL_median</td>\n",
       "      <td>lskERI_median</td>\n",
       "      <td>sicCAR_lower</td>\n",
       "    </tr>\n",
       "    <tr>\n",
       "      <th>6</th>\n",
       "      <td>midRea_median</td>\n",
       "      <td>ltkWNB_median</td>\n",
       "      <td>lskCWA_lower</td>\n",
       "    </tr>\n",
       "    <tr>\n",
       "      <th>7</th>\n",
       "      <td>ldkAre_higher</td>\n",
       "      <td>linWID_lower</td>\n",
       "      <td>stcOri_lower</td>\n",
       "    </tr>\n",
       "    <tr>\n",
       "      <th>8</th>\n",
       "      <td>lskCCo_lower</td>\n",
       "      <td>mtbNDi_higher</td>\n",
       "      <td>ssbSqu_median</td>\n",
       "    </tr>\n",
       "    <tr>\n",
       "      <th>9</th>\n",
       "      <td>ssbCCD_lower</td>\n",
       "      <td>linPDE_lower</td>\n",
       "      <td>sdcLAL_median</td>\n",
       "    </tr>\n",
       "    <tr>\n",
       "      <th>10</th>\n",
       "      <td>ssbERI_median</td>\n",
       "      <td>ltkOri_lower</td>\n",
       "      <td>ldsAre_median</td>\n",
       "    </tr>\n",
       "  </tbody>\n",
       "</table>\n",
       "</div>"
      ],
      "text/plain": [
       "       cluster_48     cluster_66     cluster_69\n",
       "0   linWID_higher  lcdMes_higher   ssbCCD_lower\n",
       "1    ldsMSL_lower         linPDE   ltkOri_lower\n",
       "2          lddNDe  linP3W_higher   ssbSqu_lower\n",
       "3    ltkOri_lower  mtbAli_median  lcdMes_median\n",
       "4          ldsMSL   lskCWA_lower  linWID_higher\n",
       "5   ldsMSL_median  lskERI_median   sicCAR_lower\n",
       "6   midRea_median  ltkWNB_median   lskCWA_lower\n",
       "7   ldkAre_higher   linWID_lower   stcOri_lower\n",
       "8    lskCCo_lower  mtbNDi_higher  ssbSqu_median\n",
       "9    ssbCCD_lower   linPDE_lower  sdcLAL_median\n",
       "10  ssbERI_median   ltkOri_lower  ldsAre_median"
      ]
     },
     "execution_count": 72,
     "metadata": {},
     "output_type": "execute_result"
    }
   ],
   "source": [
    "imps.loc[:10, [c for c in imps.columns if '_vals' not in c]]"
   ]
  },
  {
   "cell_type": "code",
   "execution_count": 77,
   "id": "fb80f949-43c9-456b-b4ad-b5b4a9959faa",
   "metadata": {},
   "outputs": [
    {
     "data": {
      "text/plain": [
       "'orientation of enclosure'"
      ]
     },
     "execution_count": 77,
     "metadata": {},
     "output_type": "execute_result"
    }
   ],
   "source": [
    "used_keys['ltkOri']"
   ]
  },
  {
   "cell_type": "code",
   "execution_count": null,
   "id": "9d6116ca-2828-4e44-a02c-ae262c74e428",
   "metadata": {},
   "outputs": [],
   "source": []
  },
  {
   "cell_type": "code",
   "execution_count": 112,
   "id": "eee39b96-26c5-4be0-a581-a554e797530a",
   "metadata": {},
   "outputs": [
    {
     "name": "stderr",
     "output_type": "stream",
     "text": [
      "[Parallel(n_jobs=-1)]: Using backend ThreadingBackend with 20 concurrent workers.\n",
      "[Parallel(n_jobs=-1)]: Done   4 out of  10 | elapsed:    0.2s remaining:    0.3s\n",
      "[Parallel(n_jobs=-1)]: Done  10 out of  10 | elapsed:    0.3s finished\n",
      "[Parallel(n_jobs=-1)]: Using backend ThreadingBackend with 20 concurrent workers.\n",
      "[Parallel(n_jobs=-1)]: Done   4 out of  10 | elapsed:    0.2s remaining:    0.3s\n",
      "[Parallel(n_jobs=-1)]: Done  10 out of  10 | elapsed:    0.3s finished\n",
      "[Parallel(n_jobs=-1)]: Using backend ThreadingBackend with 20 concurrent workers.\n",
      "[Parallel(n_jobs=-1)]: Done   4 out of  10 | elapsed:    0.2s remaining:    0.3s\n",
      "[Parallel(n_jobs=-1)]: Done  10 out of  10 | elapsed:    0.3s finished\n",
      "[Parallel(n_jobs=-1)]: Using backend ThreadingBackend with 20 concurrent workers.\n",
      "[Parallel(n_jobs=-1)]: Done   4 out of  10 | elapsed:    0.2s remaining:    0.3s\n",
      "[Parallel(n_jobs=-1)]: Done  10 out of  10 | elapsed:    0.2s finished\n",
      "[Parallel(n_jobs=-1)]: Using backend ThreadingBackend with 20 concurrent workers.\n",
      "[Parallel(n_jobs=-1)]: Done   4 out of  10 | elapsed:    0.1s remaining:    0.1s\n",
      "[Parallel(n_jobs=-1)]: Done  10 out of  10 | elapsed:    0.2s finished\n",
      "[Parallel(n_jobs=-1)]: Using backend ThreadingBackend with 20 concurrent workers.\n",
      "[Parallel(n_jobs=-1)]: Done   4 out of  10 | elapsed:    0.1s remaining:    0.2s\n",
      "[Parallel(n_jobs=-1)]: Done  10 out of  10 | elapsed:    0.2s finished\n",
      "[Parallel(n_jobs=-1)]: Using backend ThreadingBackend with 20 concurrent workers.\n",
      "[Parallel(n_jobs=-1)]: Done   4 out of  10 | elapsed:    0.2s remaining:    0.3s\n",
      "[Parallel(n_jobs=-1)]: Done  10 out of  10 | elapsed:    0.3s finished\n"
     ]
    }
   ],
   "source": [
    "imps = get_feature_importance(training_data, clusters)"
   ]
  },
  {
   "cell_type": "code",
   "execution_count": 119,
   "id": "4c135008-6c31-4a81-aef9-d9073043440c",
   "metadata": {},
   "outputs": [
    {
     "data": {
      "text/html": [
       "<div>\n",
       "<style scoped>\n",
       "    .dataframe tbody tr th:only-of-type {\n",
       "        vertical-align: middle;\n",
       "    }\n",
       "\n",
       "    .dataframe tbody tr th {\n",
       "        vertical-align: top;\n",
       "    }\n",
       "\n",
       "    .dataframe thead th {\n",
       "        text-align: right;\n",
       "    }\n",
       "</style>\n",
       "<table border=\"1\" class=\"dataframe\">\n",
       "  <thead>\n",
       "    <tr style=\"text-align: right;\">\n",
       "      <th></th>\n",
       "      <th>cluster_1</th>\n",
       "      <th>cluster_2</th>\n",
       "      <th>cluster_3</th>\n",
       "      <th>cluster_4</th>\n",
       "      <th>cluster_5</th>\n",
       "      <th>cluster_6</th>\n",
       "      <th>cluster_7</th>\n",
       "    </tr>\n",
       "  </thead>\n",
       "  <tbody>\n",
       "    <tr>\n",
       "      <th>0</th>\n",
       "      <td>ldkPer</td>\n",
       "      <td>lcdMes</td>\n",
       "      <td>libNCo</td>\n",
       "      <td>lskCWA</td>\n",
       "      <td>ldsAre</td>\n",
       "      <td>ltkWNB</td>\n",
       "      <td>likWBB</td>\n",
       "    </tr>\n",
       "    <tr>\n",
       "      <th>1</th>\n",
       "      <td>ltkWNB</td>\n",
       "      <td>likWBB</td>\n",
       "      <td>likWBB</td>\n",
       "      <td>likWBB</td>\n",
       "      <td>midAre</td>\n",
       "      <td>ldkPer</td>\n",
       "      <td>lcdMes</td>\n",
       "    </tr>\n",
       "    <tr>\n",
       "      <th>2</th>\n",
       "      <td>lskCCo</td>\n",
       "      <td>ltkWNB</td>\n",
       "      <td>sdsSPO</td>\n",
       "      <td>ltkWNB</td>\n",
       "      <td>ltkOri</td>\n",
       "      <td>lskCCo</td>\n",
       "      <td>ltkWNB</td>\n",
       "    </tr>\n",
       "    <tr>\n",
       "      <th>3</th>\n",
       "      <td>ltkOri</td>\n",
       "      <td>lskERI</td>\n",
       "      <td>ldbPWL</td>\n",
       "      <td>lskCCo</td>\n",
       "      <td>linP4W</td>\n",
       "      <td>lskCWA</td>\n",
       "      <td>linWID</td>\n",
       "    </tr>\n",
       "    <tr>\n",
       "      <th>4</th>\n",
       "      <td>lskCWA</td>\n",
       "      <td>lskCWA</td>\n",
       "      <td>ltcBuA</td>\n",
       "      <td>ldkAre</td>\n",
       "      <td>sdsSPO</td>\n",
       "      <td>ltkOri</td>\n",
       "      <td>ltkOri</td>\n",
       "    </tr>\n",
       "    <tr>\n",
       "      <th>5</th>\n",
       "      <td>ldkAre</td>\n",
       "      <td>ldkAre</td>\n",
       "      <td>sicCAR</td>\n",
       "      <td>lskERI</td>\n",
       "      <td>ldsMSL</td>\n",
       "      <td>likWBB</td>\n",
       "      <td>lskCWA</td>\n",
       "    </tr>\n",
       "    <tr>\n",
       "      <th>6</th>\n",
       "      <td>likWBB</td>\n",
       "      <td>linP4W</td>\n",
       "      <td>mtbSWR</td>\n",
       "      <td>ldsAre</td>\n",
       "      <td>lddNDe</td>\n",
       "      <td>ldkAre</td>\n",
       "      <td>ldkAre</td>\n",
       "    </tr>\n",
       "    <tr>\n",
       "      <th>7</th>\n",
       "      <td>lcdMes</td>\n",
       "      <td>ldkPer</td>\n",
       "      <td>ssbSqu</td>\n",
       "      <td>lddNDe</td>\n",
       "      <td>lcdMes</td>\n",
       "      <td>lskERI</td>\n",
       "      <td>lddNDe</td>\n",
       "    </tr>\n",
       "    <tr>\n",
       "      <th>8</th>\n",
       "      <td>lskERI</td>\n",
       "      <td>ltkOri</td>\n",
       "      <td>lskERI</td>\n",
       "      <td>midRea</td>\n",
       "      <td>ldkPer</td>\n",
       "      <td>linP3W</td>\n",
       "      <td>linP3W</td>\n",
       "    </tr>\n",
       "    <tr>\n",
       "      <th>9</th>\n",
       "      <td>linP4W</td>\n",
       "      <td>linPDE</td>\n",
       "      <td>sdbPer</td>\n",
       "      <td>linPDE</td>\n",
       "      <td>likWBB</td>\n",
       "      <td>ldsAre</td>\n",
       "      <td>lcnClo</td>\n",
       "    </tr>\n",
       "    <tr>\n",
       "      <th>10</th>\n",
       "      <td>lddNDe</td>\n",
       "      <td>linWID</td>\n",
       "      <td>linWID</td>\n",
       "      <td>lcdMes</td>\n",
       "      <td>lcnClo</td>\n",
       "      <td>ldsMSL</td>\n",
       "      <td>linP4W</td>\n",
       "    </tr>\n",
       "  </tbody>\n",
       "</table>\n",
       "</div>"
      ],
      "text/plain": [
       "   cluster_1 cluster_2 cluster_3 cluster_4 cluster_5 cluster_6 cluster_7\n",
       "0     ldkPer    lcdMes    libNCo    lskCWA    ldsAre    ltkWNB    likWBB\n",
       "1     ltkWNB    likWBB    likWBB    likWBB    midAre    ldkPer    lcdMes\n",
       "2     lskCCo    ltkWNB    sdsSPO    ltkWNB    ltkOri    lskCCo    ltkWNB\n",
       "3     ltkOri    lskERI    ldbPWL    lskCCo    linP4W    lskCWA    linWID\n",
       "4     lskCWA    lskCWA    ltcBuA    ldkAre    sdsSPO    ltkOri    ltkOri\n",
       "5     ldkAre    ldkAre    sicCAR    lskERI    ldsMSL    likWBB    lskCWA\n",
       "6     likWBB    linP4W    mtbSWR    ldsAre    lddNDe    ldkAre    ldkAre\n",
       "7     lcdMes    ldkPer    ssbSqu    lddNDe    lcdMes    lskERI    lddNDe\n",
       "8     lskERI    ltkOri    lskERI    midRea    ldkPer    linP3W    linP3W\n",
       "9     linP4W    linPDE    sdbPer    linPDE    likWBB    ldsAre    lcnClo\n",
       "10    lddNDe    linWID    linWID    lcdMes    lcnClo    ldsMSL    linP4W"
      ]
     },
     "execution_count": 119,
     "metadata": {},
     "output_type": "execute_result"
    }
   ],
   "source": [
    "imps.loc[:10, [c for c in imps.columns if '_vals' not in c]]"
   ]
  },
  {
   "cell_type": "code",
   "execution_count": 122,
   "id": "b3e2d707-034b-48be-a3f7-f8bebbd14a0f",
   "metadata": {},
   "outputs": [
    {
     "data": {
      "text/plain": [
       "'local meshedness of street network'"
      ]
     },
     "execution_count": 122,
     "metadata": {},
     "output_type": "execute_result"
    }
   ],
   "source": [
    "used_keys['lcdMes']"
   ]
  },
  {
   "cell_type": "code",
   "execution_count": null,
   "id": "e93cd730-4d6f-494f-9117-c2bdcf3ac210",
   "metadata": {},
   "outputs": [],
   "source": []
  },
  {
   "cell_type": "code",
   "execution_count": null,
   "id": "eb14824c-db39-472a-bbbc-a4d893f5fe42",
   "metadata": {},
   "outputs": [],
   "source": [
    "imps[[c for c in imps.columns if '_vals' in c]].cumsum(axis=1)"
   ]
  },
  {
   "cell_type": "code",
   "execution_count": null,
   "id": "d005c80f-b861-46cb-8a43-5910bb858c5a",
   "metadata": {},
   "outputs": [],
   "source": []
  },
  {
   "cell_type": "code",
   "execution_count": 96,
   "id": "21392a66-dcda-453d-b9be-b1f9ee6015ef",
   "metadata": {},
   "outputs": [],
   "source": [
    "josefov_joins = []\n",
    "\n",
    "josefov_joins.append(np.isin(linkage_matrix[:, 0], \n",
    "                             tess_groups_ilocs[tess_groups == 'josefov']))\n",
    "josefov_joins.append(np.isin(linkage_matrix[:, 1], \n",
    "                             tess_groups_ilocs[tess_groups == 'josefov']))\n"
   ]
  },
  {
   "cell_type": "code",
   "execution_count": 97,
   "id": "14469f0c-4f78-40f0-abd4-77fd9975b2c9",
   "metadata": {},
   "outputs": [],
   "source": [
    "indxs = linkage_matrix[josefov_joins[0] | josefov_joins[1]]\n",
    "indxs = np.union1d(indxs[:, 0], indxs[:, 1])\n",
    "indxs = indxs[indxs <= X_train.shape[0]]"
   ]
  },
  {
   "cell_type": "code",
   "execution_count": null,
   "id": "54863167-d4e0-4562-85c8-6851dc05a1f8",
   "metadata": {},
   "outputs": [],
   "source": []
  },
  {
   "cell_type": "code",
   "execution_count": 150,
   "id": "0d5a7a7d-75da-43ed-b22a-fa5a1eb59b60",
   "metadata": {},
   "outputs": [
    {
     "data": {
      "text/plain": [
       "(64349,)"
      ]
     },
     "execution_count": 150,
     "metadata": {},
     "output_type": "execute_result"
    }
   ],
   "source": [
    "indxs = linkage_matrix[linkage_matrix[:, 2] <= 2]\n",
    "indxs = np.union1d(indxs[:, 0], indxs[:, 1])\n",
    "indxs = indxs[indxs < X_train.shape[0]]\n",
    "indxs.shape"
   ]
  },
  {
   "cell_type": "code",
   "execution_count": null,
   "id": "310c222c-00ec-4ef1-8a0f-886df8364014",
   "metadata": {},
   "outputs": [],
   "source": []
  },
  {
   "cell_type": "code",
   "execution_count": 151,
   "id": "86becb8b-dc9c-456e-a20c-36eb51ece788",
   "metadata": {},
   "outputs": [],
   "source": [
    "plotting = tessellation.loc[X_train.iloc[indxs].index]"
   ]
  },
  {
   "cell_type": "code",
   "execution_count": null,
   "id": "4bab627c-e715-402f-896e-17b0fb61f903",
   "metadata": {},
   "outputs": [],
   "source": []
  },
  {
   "cell_type": "code",
   "execution_count": null,
   "id": "fa888c90-3403-44ce-8827-7e4ba84d7f1c",
   "metadata": {},
   "outputs": [],
   "source": []
  },
  {
   "cell_type": "code",
   "execution_count": 42,
   "id": "b19f7491-1fcb-46d9-947a-685179486a1a",
   "metadata": {},
   "outputs": [],
   "source": [
    "cluster_means = training_data.groupby(clusters).mean()"
   ]
  },
  {
   "cell_type": "code",
   "execution_count": 68,
   "id": "9944fca0-b07b-4a30-915f-49bef2180d89",
   "metadata": {},
   "outputs": [
    {
     "data": {
      "text/plain": [
       "libNCo           6.284668\n",
       "libNCo_median    5.846288\n",
       "libNCo_higher    4.233946\n",
       "linPDE_higher    3.014914\n",
       "linPDE           2.122206\n",
       "                   ...   \n",
       "lcnClo          -1.414220\n",
       "linWID_lower    -1.422183\n",
       "linP3W          -1.489277\n",
       "lcnClo_lower    -1.702326\n",
       "linP3W_lower    -2.339139\n",
       "Length: 248, dtype: float64"
      ]
     },
     "execution_count": 68,
     "metadata": {},
     "output_type": "execute_result"
    }
   ],
   "source": [
    "c1 = 6\n",
    "c2 = 10\n",
    "\n",
    "(cluster_means.loc[c1] - cluster_means.loc[c2]).sort_values(ascending=False)"
   ]
  },
  {
   "cell_type": "code",
   "execution_count": null,
   "id": "dabe2bac-ba6d-498a-91c2-763fc47787e2",
   "metadata": {},
   "outputs": [],
   "source": []
  },
  {
   "cell_type": "code",
   "execution_count": 72,
   "id": "b41b8ddc-b723-424d-9d52-1eefad87d9d4",
   "metadata": {},
   "outputs": [
    {
     "data": {
      "text/plain": [
       "'number of courtyards within adjacent buildings'"
      ]
     },
     "execution_count": 72,
     "metadata": {},
     "output_type": "execute_result"
    }
   ],
   "source": [
    "from core.utils import used_keys\n",
    "used_keys['libNCo']"
   ]
  },
  {
   "cell_type": "code",
   "execution_count": null,
   "id": "e91e770f-7792-45bd-ab1b-9d3be57a9a46",
   "metadata": {},
   "outputs": [],
   "source": []
  },
  {
   "cell_type": "code",
   "execution_count": 169,
   "id": "c0338ef7-0e1d-4fff-a3c0-6eeb7deb78be",
   "metadata": {},
   "outputs": [],
   "source": [
    "bgraph = read_parquet(graph_dir + f\"building_graph_{region_id}_knn1.parquet\")"
   ]
  },
  {
   "cell_type": "code",
   "execution_count": null,
   "id": "abab3092-9f9c-489a-a821-4e6f3f3a20ad",
   "metadata": {},
   "outputs": [],
   "source": []
  },
  {
   "cell_type": "code",
   "execution_count": 170,
   "id": "582afdc3-004b-4fdc-af07-3efa3923f29a",
   "metadata": {},
   "outputs": [],
   "source": [
    "buildings_dir = '/data/uscuni-ulce/processed_data/buildings/'\n",
    "\n",
    "buildings = gpd.read_parquet(\n",
    "        buildings_dir + f\"buildings_{region_id}.parquet\"\n",
    "\n",
    ")"
   ]
  },
  {
   "cell_type": "code",
   "execution_count": 178,
   "id": "5dd9b3a3-6288-4d75-9f22-c7b5e3735dc2",
   "metadata": {},
   "outputs": [
    {
     "data": {
      "text/html": [
       "<div>\n",
       "<style scoped>\n",
       "    .dataframe tbody tr th:only-of-type {\n",
       "        vertical-align: middle;\n",
       "    }\n",
       "\n",
       "    .dataframe tbody tr th {\n",
       "        vertical-align: top;\n",
       "    }\n",
       "\n",
       "    .dataframe thead th {\n",
       "        text-align: right;\n",
       "    }\n",
       "</style>\n",
       "<table border=\"1\" class=\"dataframe\">\n",
       "  <thead>\n",
       "    <tr style=\"text-align: right;\">\n",
       "      <th></th>\n",
       "      <th>index</th>\n",
       "      <th>id</th>\n",
       "      <th>geometry</th>\n",
       "    </tr>\n",
       "  </thead>\n",
       "  <tbody>\n",
       "    <tr>\n",
       "      <th>0</th>\n",
       "      <td>0</td>\n",
       "      <td>v0.1-CZE.12.2_1-35164</td>\n",
       "      <td>POLYGON ((4614847.626 2975218.938, 4614848.235...</td>\n",
       "    </tr>\n",
       "    <tr>\n",
       "      <th>1</th>\n",
       "      <td>1</td>\n",
       "      <td>v0.1-CZE.12.2_1-35123</td>\n",
       "      <td>POLYGON ((4615276.357 2976034.184, 4615282.866...</td>\n",
       "    </tr>\n",
       "    <tr>\n",
       "      <th>2</th>\n",
       "      <td>2</td>\n",
       "      <td>v0.1-CZE.12.2_1-35159</td>\n",
       "      <td>POLYGON ((4615315.503 2975986.2, 4615322.056 2...</td>\n",
       "    </tr>\n",
       "    <tr>\n",
       "      <th>3</th>\n",
       "      <td>3</td>\n",
       "      <td>v0.1-CZE.12.2_1-35166</td>\n",
       "      <td>POLYGON ((4615222.339 2976016.91, 4615224.582 ...</td>\n",
       "    </tr>\n",
       "    <tr>\n",
       "      <th>4</th>\n",
       "      <td>4</td>\n",
       "      <td>v0.1-CZE.12.2_1-35228</td>\n",
       "      <td>POLYGON ((4615300.348 2975924.258, 4615301.6 2...</td>\n",
       "    </tr>\n",
       "    <tr>\n",
       "      <th>...</th>\n",
       "      <td>...</td>\n",
       "      <td>...</td>\n",
       "      <td>...</td>\n",
       "    </tr>\n",
       "    <tr>\n",
       "      <th>299059</th>\n",
       "      <td>299060</td>\n",
       "      <td>v0.1-CZE.13.3_1-13696</td>\n",
       "      <td>POLYGON ((4618611.169 3033535.197, 4618623.01 ...</td>\n",
       "    </tr>\n",
       "    <tr>\n",
       "      <th>299060</th>\n",
       "      <td>299061</td>\n",
       "      <td>v0.1-CZE.13.3_1-13674</td>\n",
       "      <td>POLYGON ((4618611.989 3033568.153, 4618617.119...</td>\n",
       "    </tr>\n",
       "    <tr>\n",
       "      <th>299061</th>\n",
       "      <td>299062</td>\n",
       "      <td>v0.1-CZE.13.3_1-13591</td>\n",
       "      <td>POLYGON ((4618614.831 3033550.704, 4618628.289...</td>\n",
       "    </tr>\n",
       "    <tr>\n",
       "      <th>299062</th>\n",
       "      <td>299063</td>\n",
       "      <td>v0.1-CZE.13.3_1-13328</td>\n",
       "      <td>POLYGON ((4618625.628 3033512.926, 4618625.634...</td>\n",
       "    </tr>\n",
       "    <tr>\n",
       "      <th>299063</th>\n",
       "      <td>299064</td>\n",
       "      <td>v0.1-CZE.13.3_1-13274</td>\n",
       "      <td>POLYGON ((4618626.778 3033536.657, 4618639.273...</td>\n",
       "    </tr>\n",
       "  </tbody>\n",
       "</table>\n",
       "<p>299064 rows × 3 columns</p>\n",
       "</div>"
      ],
      "text/plain": [
       "         index                     id  \\\n",
       "0            0  v0.1-CZE.12.2_1-35164   \n",
       "1            1  v0.1-CZE.12.2_1-35123   \n",
       "2            2  v0.1-CZE.12.2_1-35159   \n",
       "3            3  v0.1-CZE.12.2_1-35166   \n",
       "4            4  v0.1-CZE.12.2_1-35228   \n",
       "...        ...                    ...   \n",
       "299059  299060  v0.1-CZE.13.3_1-13696   \n",
       "299060  299061  v0.1-CZE.13.3_1-13674   \n",
       "299061  299062  v0.1-CZE.13.3_1-13591   \n",
       "299062  299063  v0.1-CZE.13.3_1-13328   \n",
       "299063  299064  v0.1-CZE.13.3_1-13274   \n",
       "\n",
       "                                                 geometry  \n",
       "0       POLYGON ((4614847.626 2975218.938, 4614848.235...  \n",
       "1       POLYGON ((4615276.357 2976034.184, 4615282.866...  \n",
       "2       POLYGON ((4615315.503 2975986.2, 4615322.056 2...  \n",
       "3       POLYGON ((4615222.339 2976016.91, 4615224.582 ...  \n",
       "4       POLYGON ((4615300.348 2975924.258, 4615301.6 2...  \n",
       "...                                                   ...  \n",
       "299059  POLYGON ((4618611.169 3033535.197, 4618623.01 ...  \n",
       "299060  POLYGON ((4618611.989 3033568.153, 4618617.119...  \n",
       "299061  POLYGON ((4618614.831 3033550.704, 4618628.289...  \n",
       "299062  POLYGON ((4618625.628 3033512.926, 4618625.634...  \n",
       "299063  POLYGON ((4618626.778 3033536.657, 4618639.273...  \n",
       "\n",
       "[299064 rows x 3 columns]"
      ]
     },
     "execution_count": 178,
     "metadata": {},
     "output_type": "execute_result"
    }
   ],
   "source": [
    "buildings"
   ]
  },
  {
   "cell_type": "code",
   "execution_count": 181,
   "id": "db4cfe8e-981b-46e8-b5f8-77921796b24d",
   "metadata": {},
   "outputs": [],
   "source": [
    "buildings = buildings.join(X_train, how='inner').drop(['index', 'id'], axis=1)"
   ]
  },
  {
   "cell_type": "code",
   "execution_count": 185,
   "id": "a31ba1cc-2215-4a75-aa41-0f231a088767",
   "metadata": {},
   "outputs": [],
   "source": [
    "r = buildings.dissolve(bgraph.component_labels, aggfunc='mean')"
   ]
  },
  {
   "cell_type": "code",
   "execution_count": null,
   "id": "510d60c7-1246-4443-bcf5-035443758834",
   "metadata": {},
   "outputs": [],
   "source": []
  },
  {
   "cell_type": "code",
   "execution_count": null,
   "id": "b7c4e037-1f60-4f45-a9fd-0c2c424b7dec",
   "metadata": {},
   "outputs": [],
   "source": []
  },
  {
   "cell_type": "code",
   "execution_count": 189,
   "id": "64abb917-335d-4470-917a-481a25ec52da",
   "metadata": {},
   "outputs": [],
   "source": [
    "plotting = r"
   ]
  },
  {
   "cell_type": "code",
   "execution_count": null,
   "id": "bf263880-e575-4fbe-9681-10f3b18b6367",
   "metadata": {},
   "outputs": [],
   "source": []
  },
  {
   "cell_type": "code",
   "execution_count": 190,
   "id": "83b9116b-b1ae-45b3-b3bc-729a6508fdb9",
   "metadata": {},
   "outputs": [
    {
     "name": "stderr",
     "output_type": "stream",
     "text": [
      "/home/krasen/miniconda3/envs/urban_taxonomy/lib/python3.12/site-packages/lonboard/_geoarrow/ops/reproject.py:97: UserWarning: Input being reprojected to EPSG:4326 CRS\n",
      "  warnings.warn(\"Input being reprojected to EPSG:4326 CRS\")\n"
     ]
    },
    {
     "name": "stdout",
     "output_type": "stream",
     "text": [
      "CPU times: user 1.65 s, sys: 178 ms, total: 1.83 s\n",
      "Wall time: 1.82 s\n"
     ]
    }
   ],
   "source": [
    "%%time\n",
    "import lonboard\n",
    "# plotting = tessellation[tessellation.index.isin(X_train.index)].copy()\n",
    "layer = lonboard.PolygonLayer.from_geopandas(plotting, opacity=.08)"
   ]
  },
  {
   "cell_type": "code",
   "execution_count": 191,
   "id": "d14ee3bb-7c15-4321-9b96-0347856be753",
   "metadata": {},
   "outputs": [],
   "source": [
    "from sidecar import Sidecar\n",
    "sc = Sidecar(title='Clusters')\n",
    "m = lonboard.Map(layer, basemap_style=lonboard.basemap.CartoBasemap.Positron)\n",
    "with sc:\n",
    "    display(m)"
   ]
  },
  {
   "cell_type": "code",
   "execution_count": null,
   "id": "fbdc7563-5157-4182-88c3-19cddba1459f",
   "metadata": {},
   "outputs": [],
   "source": []
  }
 ],
 "metadata": {
  "kernelspec": {
   "display_name": "Python 3 (ipykernel)",
   "language": "python",
   "name": "python3"
  },
  "language_info": {
   "codemirror_mode": {
    "name": "ipython",
    "version": 3
   },
   "file_extension": ".py",
   "mimetype": "text/x-python",
   "name": "python",
   "nbconvert_exporter": "python",
   "pygments_lexer": "ipython3",
   "version": "3.12.4"
  }
 },
 "nbformat": 4,
 "nbformat_minor": 5
}
