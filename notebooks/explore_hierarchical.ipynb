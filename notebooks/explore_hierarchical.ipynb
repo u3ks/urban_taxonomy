{
 "cells": [
  {
   "cell_type": "code",
   "execution_count": null,
   "id": "27f054dd-c113-4c20-ba97-169b4ffaec11",
   "metadata": {},
   "outputs": [],
   "source": []
  },
  {
   "cell_type": "code",
   "execution_count": 1,
   "id": "55cc01cf-60c2-4919-9a23-3299e09aee78",
   "metadata": {},
   "outputs": [
    {
     "name": "stdout",
     "output_type": "stream",
     "text": [
      "CPU times: user 11.2 s, sys: 435 ms, total: 11.6 s\n",
      "Wall time: 9.26 s\n"
     ]
    }
   ],
   "source": [
    "%%time\n",
    "\n",
    "import glob\n",
    "\n",
    "import geopandas as gpd\n",
    "import matplotlib.pyplot as plt\n",
    "import numba\n",
    "import numpy as np\n",
    "import pandas as pd\n",
    "from libpysal.graph import read_parquet\n",
    "from sklearn.preprocessing import PowerTransformer, RobustScaler, StandardScaler\n",
    "\n",
    "from fast_hdbscan.numba_kdtree import kdtree_to_numba\n",
    "from fast_hdbscan.numba_kdtree import parallel_tree_query\n",
    "from sklearn.neighbors import KDTree"
   ]
  },
  {
   "cell_type": "code",
   "execution_count": 2,
   "id": "0c27a7f8-4da5-48b4-acbd-7b505d622f74",
   "metadata": {},
   "outputs": [],
   "source": [
    "region_id = 69300\n",
    "\n",
    "tessellations_dir = '/data/uscuni-ulce/processed_data/tessellations/'\n",
    "chars_dir = \"/data/uscuni-ulce/processed_data/chars/\"\n",
    "graph_dir = \"/data/uscuni-ulce/processed_data/neigh_graphs/\""
   ]
  },
  {
   "cell_type": "code",
   "execution_count": null,
   "id": "d147570c-dace-435b-9621-51b5d865f66f",
   "metadata": {},
   "outputs": [],
   "source": []
  },
  {
   "cell_type": "code",
   "execution_count": 3,
   "id": "2b72f720-8ded-4b47-949f-1092e9ebd693",
   "metadata": {},
   "outputs": [],
   "source": [
    "graph = read_parquet(graph_dir + f\"tessellation_graph_{region_id}_knn1.parquet\")"
   ]
  },
  {
   "cell_type": "code",
   "execution_count": 4,
   "id": "b650aaab-81f2-4d37-8ff1-64b181afd919",
   "metadata": {},
   "outputs": [
    {
     "data": {
      "text/plain": [
       "count    304554.000000\n",
       "mean          6.751085\n",
       "std           2.060782\n",
       "min           1.000000\n",
       "25%           6.000000\n",
       "50%           7.000000\n",
       "75%           8.000000\n",
       "max          82.000000\n",
       "Name: cardinalities, dtype: float64"
      ]
     },
     "execution_count": 4,
     "metadata": {},
     "output_type": "execute_result"
    }
   ],
   "source": [
    "graph.cardinalities.describe()"
   ]
  },
  {
   "cell_type": "code",
   "execution_count": null,
   "id": "a6f1d619-f0e7-41d6-b35b-22e6379d132c",
   "metadata": {},
   "outputs": [],
   "source": []
  },
  {
   "cell_type": "code",
   "execution_count": 5,
   "id": "d89baa9c-25b8-4233-8534-a3dcf13674ca",
   "metadata": {},
   "outputs": [],
   "source": [
    "from core.cluster_validation import print_distance, generate_neigbhourhood_groups"
   ]
  },
  {
   "cell_type": "code",
   "execution_count": null,
   "id": "8f540cb1-5286-4bbc-8b55-df992662be1d",
   "metadata": {},
   "outputs": [],
   "source": []
  },
  {
   "cell_type": "code",
   "execution_count": 6,
   "id": "0527419b-319b-46e8-bf5c-076fd26f7c7e",
   "metadata": {},
   "outputs": [],
   "source": [
    "tessellation = gpd.read_parquet(\n",
    "        tessellations_dir + f\"tessellation_{region_id}.parquet\"\n",
    ")"
   ]
  },
  {
   "cell_type": "code",
   "execution_count": null,
   "id": "08a8256e-ee74-4ad8-9567-2cb294b4b576",
   "metadata": {},
   "outputs": [],
   "source": []
  },
  {
   "cell_type": "code",
   "execution_count": 7,
   "id": "36e8699d-772a-457e-8aab-4840ae479494",
   "metadata": {},
   "outputs": [],
   "source": [
    "X_train = pd.read_parquet(chars_dir + f'primary_chars_{region_id}.parquet')\n",
    "\n",
    "\n",
    "\n",
    "X_train = X_train[X_train.index >= 0]\n",
    "\n",
    "\n",
    "\n",
    "spatial_lag = 3\n",
    "\n",
    "\n",
    "# lag = pd.read_parquet(f'/data/uscuni-ulce/processed_data/context_data/context_chars_{region_id}_lag_{spatial_lag}.parquet')\n",
    "\n",
    "lag = pd.read_parquet(f'/data/uscuni-ulce/processed_data/context_data/unprocessed_context_chars_{region_id}_lag_{spatial_lag}.parquet')\n",
    "\n",
    "\n",
    "\n",
    "# X_train = X_train.join(lag[[c for c in lag.columns if '_median' in c]], how='inner')\n",
    "X_train = X_train.join(lag, how='inner')\n"
   ]
  },
  {
   "cell_type": "code",
   "execution_count": 8,
   "id": "be25ae62-906a-45dc-976d-a5d4a1dc5774",
   "metadata": {},
   "outputs": [],
   "source": [
    "vals = StandardScaler().fit_transform(X_train)\n",
    "X_train = pd.DataFrame(vals, columns=X_train.columns, index=X_train.index)\n",
    "\n",
    "vals = np.nan_to_num(X_train)\n",
    "X_train = pd.DataFrame(vals, columns=X_train.columns, index=X_train.index)\n",
    "\n",
    "\n",
    "# X_train = X_train.clip(-10, 10)"
   ]
  },
  {
   "cell_type": "code",
   "execution_count": 9,
   "id": "c5eded4f-112b-40f3-9767-a036c5518c7c",
   "metadata": {},
   "outputs": [
    {
     "data": {
      "text/plain": [
       "(299064, 248)"
      ]
     },
     "execution_count": 9,
     "metadata": {},
     "output_type": "execute_result"
    }
   ],
   "source": [
    "X_train.shape"
   ]
  },
  {
   "cell_type": "code",
   "execution_count": null,
   "id": "b79a3116-6d66-4bfc-84cc-630dffe51a50",
   "metadata": {},
   "outputs": [],
   "source": []
  },
  {
   "cell_type": "code",
   "execution_count": null,
   "id": "b9f3ad69-68e4-4207-bbc1-3d8adf9ab292",
   "metadata": {},
   "outputs": [],
   "source": []
  },
  {
   "cell_type": "code",
   "execution_count": null,
   "id": "68db8a21-9347-4462-a5e9-0456eb288c60",
   "metadata": {},
   "outputs": [],
   "source": []
  },
  {
   "cell_type": "code",
   "execution_count": 10,
   "id": "c1c0fa70-e1f3-46be-a21c-2997c2a0f450",
   "metadata": {},
   "outputs": [],
   "source": [
    "tess_groups = generate_neigbhourhood_groups(tessellation, \n",
    "                                         include_random_sample=True,\n",
    "                                         random_sample_size=1_000)\n",
    "tess_groups = tess_groups[tess_groups.index.isin(X_train.index)]\n",
    "tess_groups_ilocs = (\n",
    "    pd.Series(np.arange(len(X_train)), index=X_train.index)\n",
    "    .loc[tess_groups.index]\n",
    "    .values\n",
    ")\n",
    "\n",
    "def check_score(data, example_clusters):\n",
    "    groups = example_clusters[example_clusters.index.isin(data.index)]\n",
    "    groups_ilocs = (\n",
    "        pd.Series(np.arange(len(data)), index=data.index).loc[groups.index].values\n",
    "    )\n",
    "    return davies_bouldin_score(data.iloc[groups_ilocs], groups.values)"
   ]
  },
  {
   "cell_type": "code",
   "execution_count": 11,
   "id": "66c60148-2cac-42d3-af88-1445d2940a0b",
   "metadata": {},
   "outputs": [],
   "source": [
    "# tessellation.loc[tess_groups.index].explore()"
   ]
  },
  {
   "cell_type": "code",
   "execution_count": 12,
   "id": "b0f45e88-a60c-41ea-940f-e44d4a793982",
   "metadata": {},
   "outputs": [
    {
     "data": {
      "text/html": [
       "<style type=\"text/css\">\n",
       "#T_7c7d4_row0_col0, #T_7c7d4_row1_col1, #T_7c7d4_row2_col2, #T_7c7d4_row3_col3, #T_7c7d4_row4_col4, #T_7c7d4_row5_col5, #T_7c7d4_row6_col6, #T_7c7d4_row7_col7, #T_7c7d4_row8_col8, #T_7c7d4_row9_col9 {\n",
       "  background-color: #f7fcfd;\n",
       "  color: #000000;\n",
       "}\n",
       "#T_7c7d4_row0_col1 {\n",
       "  background-color: #e3f4f8;\n",
       "  color: #000000;\n",
       "}\n",
       "#T_7c7d4_row0_col2 {\n",
       "  background-color: #4bb382;\n",
       "  color: #f1f1f1;\n",
       "}\n",
       "#T_7c7d4_row0_col3 {\n",
       "  background-color: #4cb484;\n",
       "  color: #f1f1f1;\n",
       "}\n",
       "#T_7c7d4_row0_col4, #T_7c7d4_row1_col4, #T_7c7d4_row2_col5, #T_7c7d4_row3_col5, #T_7c7d4_row4_col5, #T_7c7d4_row5_col4, #T_7c7d4_row6_col4, #T_7c7d4_row7_col4, #T_7c7d4_row8_col5, #T_7c7d4_row9_col5 {\n",
       "  background-color: #00441b;\n",
       "  color: #f1f1f1;\n",
       "}\n",
       "#T_7c7d4_row0_col5 {\n",
       "  background-color: #3eaa70;\n",
       "  color: #f1f1f1;\n",
       "}\n",
       "#T_7c7d4_row0_col6, #T_7c7d4_row2_col8, #T_7c7d4_row2_col9 {\n",
       "  background-color: #d8f0ef;\n",
       "  color: #000000;\n",
       "}\n",
       "#T_7c7d4_row0_col7, #T_7c7d4_row7_col0 {\n",
       "  background-color: #eef8fb;\n",
       "  color: #000000;\n",
       "}\n",
       "#T_7c7d4_row0_col8, #T_7c7d4_row5_col8 {\n",
       "  background-color: #004c1e;\n",
       "  color: #f1f1f1;\n",
       "}\n",
       "#T_7c7d4_row0_col9, #T_7c7d4_row4_col9 {\n",
       "  background-color: #43af78;\n",
       "  color: #f1f1f1;\n",
       "}\n",
       "#T_7c7d4_row1_col0 {\n",
       "  background-color: #e3f4f7;\n",
       "  color: #000000;\n",
       "}\n",
       "#T_7c7d4_row1_col2 {\n",
       "  background-color: #8cd2bf;\n",
       "  color: #000000;\n",
       "}\n",
       "#T_7c7d4_row1_col3 {\n",
       "  background-color: #92d5c4;\n",
       "  color: #000000;\n",
       "}\n",
       "#T_7c7d4_row1_col5 {\n",
       "  background-color: #40ad75;\n",
       "  color: #f1f1f1;\n",
       "}\n",
       "#T_7c7d4_row1_col6 {\n",
       "  background-color: #ecf8fb;\n",
       "  color: #000000;\n",
       "}\n",
       "#T_7c7d4_row1_col7, #T_7c7d4_row7_col1 {\n",
       "  background-color: #f0f9fb;\n",
       "  color: #000000;\n",
       "}\n",
       "#T_7c7d4_row1_col8 {\n",
       "  background-color: #0a7633;\n",
       "  color: #f1f1f1;\n",
       "}\n",
       "#T_7c7d4_row1_col9, #T_7c7d4_row3_col6 {\n",
       "  background-color: #94d6c5;\n",
       "  color: #000000;\n",
       "}\n",
       "#T_7c7d4_row2_col0 {\n",
       "  background-color: #5bbc96;\n",
       "  color: #f1f1f1;\n",
       "}\n",
       "#T_7c7d4_row2_col1, #T_7c7d4_row6_col9 {\n",
       "  background-color: #a0dbcd;\n",
       "  color: #000000;\n",
       "}\n",
       "#T_7c7d4_row2_col3 {\n",
       "  background-color: #d1eee9;\n",
       "  color: #000000;\n",
       "}\n",
       "#T_7c7d4_row2_col4 {\n",
       "  background-color: #68c3a6;\n",
       "  color: #000000;\n",
       "}\n",
       "#T_7c7d4_row2_col6 {\n",
       "  background-color: #d2eeeb;\n",
       "  color: #000000;\n",
       "}\n",
       "#T_7c7d4_row2_col7, #T_7c7d4_row8_col6 {\n",
       "  background-color: #7ccbb4;\n",
       "  color: #000000;\n",
       "}\n",
       "#T_7c7d4_row3_col0 {\n",
       "  background-color: #258d48;\n",
       "  color: #f1f1f1;\n",
       "}\n",
       "#T_7c7d4_row3_col1, #T_7c7d4_row7_col9 {\n",
       "  background-color: #6dc5a9;\n",
       "  color: #000000;\n",
       "}\n",
       "#T_7c7d4_row3_col2 {\n",
       "  background-color: #b0e1d6;\n",
       "  color: #000000;\n",
       "}\n",
       "#T_7c7d4_row3_col4 {\n",
       "  background-color: #147e3a;\n",
       "  color: #f1f1f1;\n",
       "}\n",
       "#T_7c7d4_row3_col7 {\n",
       "  background-color: #5cbd98;\n",
       "  color: #f1f1f1;\n",
       "}\n",
       "#T_7c7d4_row3_col8 {\n",
       "  background-color: #70c6ac;\n",
       "  color: #000000;\n",
       "}\n",
       "#T_7c7d4_row3_col9, #T_7c7d4_row8_col4 {\n",
       "  background-color: #def2f4;\n",
       "  color: #000000;\n",
       "}\n",
       "#T_7c7d4_row4_col0 {\n",
       "  background-color: #309b5b;\n",
       "  color: #f1f1f1;\n",
       "}\n",
       "#T_7c7d4_row4_col1 {\n",
       "  background-color: #35a063;\n",
       "  color: #f1f1f1;\n",
       "}\n",
       "#T_7c7d4_row4_col2, #T_7c7d4_row9_col1 {\n",
       "  background-color: #98d8c9;\n",
       "  color: #000000;\n",
       "}\n",
       "#T_7c7d4_row4_col3, #T_7c7d4_row5_col0 {\n",
       "  background-color: #7fcdb6;\n",
       "  color: #000000;\n",
       "}\n",
       "#T_7c7d4_row4_col6 {\n",
       "  background-color: #56ba91;\n",
       "  color: #f1f1f1;\n",
       "}\n",
       "#T_7c7d4_row4_col7 {\n",
       "  background-color: #36a164;\n",
       "  color: #f1f1f1;\n",
       "}\n",
       "#T_7c7d4_row4_col8 {\n",
       "  background-color: #dff3f4;\n",
       "  color: #000000;\n",
       "}\n",
       "#T_7c7d4_row5_col1 {\n",
       "  background-color: #87d0bc;\n",
       "  color: #000000;\n",
       "}\n",
       "#T_7c7d4_row5_col2 {\n",
       "  background-color: #1f8742;\n",
       "  color: #f1f1f1;\n",
       "}\n",
       "#T_7c7d4_row5_col3 {\n",
       "  background-color: #57ba92;\n",
       "  color: #f1f1f1;\n",
       "}\n",
       "#T_7c7d4_row5_col6 {\n",
       "  background-color: #77c9b0;\n",
       "  color: #000000;\n",
       "}\n",
       "#T_7c7d4_row5_col7 {\n",
       "  background-color: #b4e2d8;\n",
       "  color: #000000;\n",
       "}\n",
       "#T_7c7d4_row5_col9 {\n",
       "  background-color: #2f9a59;\n",
       "  color: #f1f1f1;\n",
       "}\n",
       "#T_7c7d4_row6_col0 {\n",
       "  background-color: #ceede8;\n",
       "  color: #000000;\n",
       "}\n",
       "#T_7c7d4_row6_col1 {\n",
       "  background-color: #eaf7fa;\n",
       "  color: #000000;\n",
       "}\n",
       "#T_7c7d4_row6_col2 {\n",
       "  background-color: #b5e3d9;\n",
       "  color: #000000;\n",
       "}\n",
       "#T_7c7d4_row6_col3 {\n",
       "  background-color: #95d6c6;\n",
       "  color: #000000;\n",
       "}\n",
       "#T_7c7d4_row6_col5 {\n",
       "  background-color: #0c7735;\n",
       "  color: #f1f1f1;\n",
       "}\n",
       "#T_7c7d4_row6_col7, #T_7c7d4_row8_col2 {\n",
       "  background-color: #e0f3f5;\n",
       "  color: #000000;\n",
       "}\n",
       "#T_7c7d4_row6_col8 {\n",
       "  background-color: #18823d;\n",
       "  color: #f1f1f1;\n",
       "}\n",
       "#T_7c7d4_row7_col2 {\n",
       "  background-color: #64c1a2;\n",
       "  color: #000000;\n",
       "}\n",
       "#T_7c7d4_row7_col3 {\n",
       "  background-color: #80cdb7;\n",
       "  color: #000000;\n",
       "}\n",
       "#T_7c7d4_row7_col5, #T_7c7d4_row9_col7 {\n",
       "  background-color: #75c9af;\n",
       "  color: #000000;\n",
       "}\n",
       "#T_7c7d4_row7_col6, #T_7c7d4_row9_col3 {\n",
       "  background-color: #e5f5f9;\n",
       "  color: #000000;\n",
       "}\n",
       "#T_7c7d4_row7_col8 {\n",
       "  background-color: #006227;\n",
       "  color: #f1f1f1;\n",
       "}\n",
       "#T_7c7d4_row8_col0 {\n",
       "  background-color: #319c5c;\n",
       "  color: #f1f1f1;\n",
       "}\n",
       "#T_7c7d4_row8_col1 {\n",
       "  background-color: #4fb688;\n",
       "  color: #f1f1f1;\n",
       "}\n",
       "#T_7c7d4_row8_col3 {\n",
       "  background-color: #c5e9e2;\n",
       "  color: #000000;\n",
       "}\n",
       "#T_7c7d4_row8_col7 {\n",
       "  background-color: #41ae77;\n",
       "  color: #f1f1f1;\n",
       "}\n",
       "#T_7c7d4_row8_col9 {\n",
       "  background-color: #9cd9ca;\n",
       "  color: #000000;\n",
       "}\n",
       "#T_7c7d4_row9_col0 {\n",
       "  background-color: #44af79;\n",
       "  color: #f1f1f1;\n",
       "}\n",
       "#T_7c7d4_row9_col2 {\n",
       "  background-color: #d4efec;\n",
       "  color: #000000;\n",
       "}\n",
       "#T_7c7d4_row9_col4 {\n",
       "  background-color: #00682a;\n",
       "  color: #f1f1f1;\n",
       "}\n",
       "#T_7c7d4_row9_col6 {\n",
       "  background-color: #bfe7de;\n",
       "  color: #000000;\n",
       "}\n",
       "#T_7c7d4_row9_col8 {\n",
       "  background-color: #60bf9c;\n",
       "  color: #000000;\n",
       "}\n",
       "</style>\n",
       "<table id=\"T_7c7d4\">\n",
       "  <thead>\n",
       "    <tr>\n",
       "      <th class=\"blank level0\" >&nbsp;</th>\n",
       "      <th id=\"T_7c7d4_level0_col0\" class=\"col_heading level0 col0\" >holyne</th>\n",
       "      <th id=\"T_7c7d4_level0_col1\" class=\"col_heading level0 col1\" >housing estate</th>\n",
       "      <th id=\"T_7c7d4_level0_col2\" class=\"col_heading level0 col2\" >josefov</th>\n",
       "      <th id=\"T_7c7d4_level0_col3\" class=\"col_heading level0 col3\" >karlin</th>\n",
       "      <th id=\"T_7c7d4_level0_col4\" class=\"col_heading level0 col4\" >mala strana</th>\n",
       "      <th id=\"T_7c7d4_level0_col5\" class=\"col_heading level0 col5\" >malesice</th>\n",
       "      <th id=\"T_7c7d4_level0_col6\" class=\"col_heading level0 col6\" >nusle</th>\n",
       "      <th id=\"T_7c7d4_level0_col7\" class=\"col_heading level0 col7\" >random</th>\n",
       "      <th id=\"T_7c7d4_level0_col8\" class=\"col_heading level0 col8\" >stare mesto</th>\n",
       "      <th id=\"T_7c7d4_level0_col9\" class=\"col_heading level0 col9\" >vinohrady</th>\n",
       "    </tr>\n",
       "  </thead>\n",
       "  <tbody>\n",
       "    <tr>\n",
       "      <th id=\"T_7c7d4_level0_row0\" class=\"row_heading level0 row0\" >holyne</th>\n",
       "      <td id=\"T_7c7d4_row0_col0\" class=\"data row0 col0\" >0.000000</td>\n",
       "      <td id=\"T_7c7d4_row0_col1\" class=\"data row0 col1\" >104.049453</td>\n",
       "      <td id=\"T_7c7d4_row0_col2\" class=\"data row0 col2\" >461.013514</td>\n",
       "      <td id=\"T_7c7d4_row0_col3\" class=\"data row0 col3\" >456.767054</td>\n",
       "      <td id=\"T_7c7d4_row0_col4\" class=\"data row0 col4\" >779.024517</td>\n",
       "      <td id=\"T_7c7d4_row0_col5\" class=\"data row0 col5\" >496.183067</td>\n",
       "      <td id=\"T_7c7d4_row0_col6\" class=\"data row0 col6\" >148.985827</td>\n",
       "      <td id=\"T_7c7d4_row0_col7\" class=\"data row0 col7\" >48.718056</td>\n",
       "      <td id=\"T_7c7d4_row0_col8\" class=\"data row0 col8\" >758.131087</td>\n",
       "      <td id=\"T_7c7d4_row0_col9\" class=\"data row0 col9\" >482.364005</td>\n",
       "    </tr>\n",
       "    <tr>\n",
       "      <th id=\"T_7c7d4_level0_row1\" class=\"row_heading level0 row1\" >housing estate</th>\n",
       "      <td id=\"T_7c7d4_row1_col0\" class=\"data row1 col0\" >104.049453</td>\n",
       "      <td id=\"T_7c7d4_row1_col1\" class=\"data row1 col1\" >0.000000</td>\n",
       "      <td id=\"T_7c7d4_row1_col2\" class=\"data row1 col2\" >307.741319</td>\n",
       "      <td id=\"T_7c7d4_row1_col3\" class=\"data row1 col3\" >298.064276</td>\n",
       "      <td id=\"T_7c7d4_row1_col4\" class=\"data row1 col4\" >755.867743</td>\n",
       "      <td id=\"T_7c7d4_row1_col5\" class=\"data row1 col5\" >473.573734</td>\n",
       "      <td id=\"T_7c7d4_row1_col6\" class=\"data row1 col6\" >56.576285</td>\n",
       "      <td id=\"T_7c7d4_row1_col7\" class=\"data row1 col7\" >40.119697</td>\n",
       "      <td id=\"T_7c7d4_row1_col8\" class=\"data row1 col8\" >634.561400</td>\n",
       "      <td id=\"T_7c7d4_row1_col9\" class=\"data row1 col9\" >295.044087</td>\n",
       "    </tr>\n",
       "    <tr>\n",
       "      <th id=\"T_7c7d4_level0_row2\" class=\"row_heading level0 row2\" >josefov</th>\n",
       "      <td id=\"T_7c7d4_row2_col0\" class=\"data row2 col0\" >461.013514</td>\n",
       "      <td id=\"T_7c7d4_row2_col1\" class=\"data row2 col1\" >307.741319</td>\n",
       "      <td id=\"T_7c7d4_row2_col2\" class=\"data row2 col2\" >0.000000</td>\n",
       "      <td id=\"T_7c7d4_row2_col3\" class=\"data row2 col3\" >197.265970</td>\n",
       "      <td id=\"T_7c7d4_row2_col4\" class=\"data row2 col4\" >425.769345</td>\n",
       "      <td id=\"T_7c7d4_row2_col5\" class=\"data row2 col5\" >859.154292</td>\n",
       "      <td id=\"T_7c7d4_row2_col6\" class=\"data row2 col6\" >189.511414</td>\n",
       "      <td id=\"T_7c7d4_row2_col7\" class=\"data row2 col7\" >382.883530</td>\n",
       "      <td id=\"T_7c7d4_row2_col8\" class=\"data row2 col8\" >166.927295</td>\n",
       "      <td id=\"T_7c7d4_row2_col9\" class=\"data row2 col9\" >167.663552</td>\n",
       "    </tr>\n",
       "    <tr>\n",
       "      <th id=\"T_7c7d4_level0_row3\" class=\"row_heading level0 row3\" >karlin</th>\n",
       "      <td id=\"T_7c7d4_row3_col0\" class=\"data row3 col0\" >456.767054</td>\n",
       "      <td id=\"T_7c7d4_row3_col1\" class=\"data row3 col1\" >298.064276</td>\n",
       "      <td id=\"T_7c7d4_row3_col2\" class=\"data row3 col2\" >197.265970</td>\n",
       "      <td id=\"T_7c7d4_row3_col3\" class=\"data row3 col3\" >0.000000</td>\n",
       "      <td id=\"T_7c7d4_row3_col4\" class=\"data row3 col4\" >495.149852</td>\n",
       "      <td id=\"T_7c7d4_row3_col5\" class=\"data row3 col5\" >617.761042</td>\n",
       "      <td id=\"T_7c7d4_row3_col6\" class=\"data row3 col6\" >239.237763</td>\n",
       "      <td id=\"T_7c7d4_row3_col7\" class=\"data row3 col7\" >330.149432</td>\n",
       "      <td id=\"T_7c7d4_row3_col8\" class=\"data row3 col8\" >294.199349</td>\n",
       "      <td id=\"T_7c7d4_row3_col9\" class=\"data row3 col9\" >100.278084</td>\n",
       "    </tr>\n",
       "    <tr>\n",
       "      <th id=\"T_7c7d4_level0_row4\" class=\"row_heading level0 row4\" >mala strana</th>\n",
       "      <td id=\"T_7c7d4_row4_col0\" class=\"data row4 col0\" >779.024517</td>\n",
       "      <td id=\"T_7c7d4_row4_col1\" class=\"data row4 col1\" >755.867743</td>\n",
       "      <td id=\"T_7c7d4_row4_col2\" class=\"data row4 col2\" >425.769345</td>\n",
       "      <td id=\"T_7c7d4_row4_col3\" class=\"data row4 col3\" >495.149852</td>\n",
       "      <td id=\"T_7c7d4_row4_col4\" class=\"data row4 col4\" >0.000000</td>\n",
       "      <td id=\"T_7c7d4_row4_col5\" class=\"data row4 col5\" >1124.441104</td>\n",
       "      <td id=\"T_7c7d4_row4_col6\" class=\"data row4 col6\" >621.477656</td>\n",
       "      <td id=\"T_7c7d4_row4_col7\" class=\"data row4 col7\" >754.878358</td>\n",
       "      <td id=\"T_7c7d4_row4_col8\" class=\"data row4 col8\" >176.810827</td>\n",
       "      <td id=\"T_7c7d4_row4_col9\" class=\"data row4 col9\" >696.270181</td>\n",
       "    </tr>\n",
       "    <tr>\n",
       "      <th id=\"T_7c7d4_level0_row5\" class=\"row_heading level0 row5\" >malesice</th>\n",
       "      <td id=\"T_7c7d4_row5_col0\" class=\"data row5 col0\" >496.183067</td>\n",
       "      <td id=\"T_7c7d4_row5_col1\" class=\"data row5 col1\" >473.573734</td>\n",
       "      <td id=\"T_7c7d4_row5_col2\" class=\"data row5 col2\" >859.154292</td>\n",
       "      <td id=\"T_7c7d4_row5_col3\" class=\"data row5 col3\" >617.761042</td>\n",
       "      <td id=\"T_7c7d4_row5_col4\" class=\"data row5 col4\" >1124.441104</td>\n",
       "      <td id=\"T_7c7d4_row5_col5\" class=\"data row5 col5\" >0.000000</td>\n",
       "      <td id=\"T_7c7d4_row5_col6\" class=\"data row5 col6\" >514.949155</td>\n",
       "      <td id=\"T_7c7d4_row5_col7\" class=\"data row5 col7\" >348.382329</td>\n",
       "      <td id=\"T_7c7d4_row5_col8\" class=\"data row5 col8\" >1097.666442</td>\n",
       "      <td id=\"T_7c7d4_row5_col9\" class=\"data row5 col9\" >782.540852</td>\n",
       "    </tr>\n",
       "    <tr>\n",
       "      <th id=\"T_7c7d4_level0_row6\" class=\"row_heading level0 row6\" >nusle</th>\n",
       "      <td id=\"T_7c7d4_row6_col0\" class=\"data row6 col0\" >148.985827</td>\n",
       "      <td id=\"T_7c7d4_row6_col1\" class=\"data row6 col1\" >56.576285</td>\n",
       "      <td id=\"T_7c7d4_row6_col2\" class=\"data row6 col2\" >189.511414</td>\n",
       "      <td id=\"T_7c7d4_row6_col3\" class=\"data row6 col3\" >239.237763</td>\n",
       "      <td id=\"T_7c7d4_row6_col4\" class=\"data row6 col4\" >621.477656</td>\n",
       "      <td id=\"T_7c7d4_row6_col5\" class=\"data row6 col5\" >514.949155</td>\n",
       "      <td id=\"T_7c7d4_row6_col6\" class=\"data row6 col6\" >0.000000</td>\n",
       "      <td id=\"T_7c7d4_row6_col7\" class=\"data row6 col7\" >93.555314</td>\n",
       "      <td id=\"T_7c7d4_row6_col8\" class=\"data row6 col8\" >488.944932</td>\n",
       "      <td id=\"T_7c7d4_row6_col9\" class=\"data row6 col9\" >221.731384</td>\n",
       "    </tr>\n",
       "    <tr>\n",
       "      <th id=\"T_7c7d4_level0_row7\" class=\"row_heading level0 row7\" >random</th>\n",
       "      <td id=\"T_7c7d4_row7_col0\" class=\"data row7 col0\" >48.718056</td>\n",
       "      <td id=\"T_7c7d4_row7_col1\" class=\"data row7 col1\" >40.119697</td>\n",
       "      <td id=\"T_7c7d4_row7_col2\" class=\"data row7 col2\" >382.883530</td>\n",
       "      <td id=\"T_7c7d4_row7_col3\" class=\"data row7 col3\" >330.149432</td>\n",
       "      <td id=\"T_7c7d4_row7_col4\" class=\"data row7 col4\" >754.878358</td>\n",
       "      <td id=\"T_7c7d4_row7_col5\" class=\"data row7 col5\" >348.382329</td>\n",
       "      <td id=\"T_7c7d4_row7_col6\" class=\"data row7 col6\" >93.555314</td>\n",
       "      <td id=\"T_7c7d4_row7_col7\" class=\"data row7 col7\" >0.000000</td>\n",
       "      <td id=\"T_7c7d4_row7_col8\" class=\"data row7 col8\" >684.315028</td>\n",
       "      <td id=\"T_7c7d4_row7_col9\" class=\"data row7 col9\" >362.995575</td>\n",
       "    </tr>\n",
       "    <tr>\n",
       "      <th id=\"T_7c7d4_level0_row8\" class=\"row_heading level0 row8\" >stare mesto</th>\n",
       "      <td id=\"T_7c7d4_row8_col0\" class=\"data row8 col0\" >758.131087</td>\n",
       "      <td id=\"T_7c7d4_row8_col1\" class=\"data row8 col1\" >634.561400</td>\n",
       "      <td id=\"T_7c7d4_row8_col2\" class=\"data row8 col2\" >166.927295</td>\n",
       "      <td id=\"T_7c7d4_row8_col3\" class=\"data row8 col3\" >294.199349</td>\n",
       "      <td id=\"T_7c7d4_row8_col4\" class=\"data row8 col4\" >176.810827</td>\n",
       "      <td id=\"T_7c7d4_row8_col5\" class=\"data row8 col5\" >1097.666442</td>\n",
       "      <td id=\"T_7c7d4_row8_col6\" class=\"data row8 col6\" >488.944932</td>\n",
       "      <td id=\"T_7c7d4_row8_col7\" class=\"data row8 col7\" >684.315028</td>\n",
       "      <td id=\"T_7c7d4_row8_col8\" class=\"data row8 col8\" >0.000000</td>\n",
       "      <td id=\"T_7c7d4_row8_col9\" class=\"data row8 col9\" >406.986590</td>\n",
       "    </tr>\n",
       "    <tr>\n",
       "      <th id=\"T_7c7d4_level0_row9\" class=\"row_heading level0 row9\" >vinohrady</th>\n",
       "      <td id=\"T_7c7d4_row9_col0\" class=\"data row9 col0\" >482.364005</td>\n",
       "      <td id=\"T_7c7d4_row9_col1\" class=\"data row9 col1\" >295.044087</td>\n",
       "      <td id=\"T_7c7d4_row9_col2\" class=\"data row9 col2\" >167.663552</td>\n",
       "      <td id=\"T_7c7d4_row9_col3\" class=\"data row9 col3\" >100.278084</td>\n",
       "      <td id=\"T_7c7d4_row9_col4\" class=\"data row9 col4\" >696.270181</td>\n",
       "      <td id=\"T_7c7d4_row9_col5\" class=\"data row9 col5\" >782.540852</td>\n",
       "      <td id=\"T_7c7d4_row9_col6\" class=\"data row9 col6\" >221.731384</td>\n",
       "      <td id=\"T_7c7d4_row9_col7\" class=\"data row9 col7\" >362.995575</td>\n",
       "      <td id=\"T_7c7d4_row9_col8\" class=\"data row9 col8\" >406.986590</td>\n",
       "      <td id=\"T_7c7d4_row9_col9\" class=\"data row9 col9\" >0.000000</td>\n",
       "    </tr>\n",
       "  </tbody>\n",
       "</table>\n"
      ],
      "text/plain": [
       "<pandas.io.formats.style.Styler at 0x72b8eab10b60>"
      ]
     },
     "execution_count": 12,
     "metadata": {},
     "output_type": "execute_result"
    }
   ],
   "source": [
    "from core.cluster_validation import print_distance\n",
    "print_distance( pd.DataFrame(X_train.loc[tess_groups.index]).groupby(tess_groups.values).mean(), metric='sqeuclidean')"
   ]
  },
  {
   "cell_type": "code",
   "execution_count": null,
   "id": "9036196f-0532-4c92-aee3-9ce7325f5ec6",
   "metadata": {},
   "outputs": [],
   "source": []
  },
  {
   "cell_type": "code",
   "execution_count": null,
   "id": "36b033c8-e5ec-411c-a237-55fcec08dc5e",
   "metadata": {},
   "outputs": [],
   "source": []
  },
  {
   "cell_type": "code",
   "execution_count": 20,
   "id": "810a8f63-7235-4a04-b96b-2d76a39cd034",
   "metadata": {},
   "outputs": [
    {
     "data": {
      "text/plain": [
       "(4841, 248)"
      ]
     },
     "execution_count": 20,
     "metadata": {},
     "output_type": "execute_result"
    }
   ],
   "source": [
    "training_data = X_train.loc[tess_groups.index]\n",
    "tess_groups_ilocs = (\n",
    "    pd.Series(np.arange(len(training_data)), index=training_data.index)\n",
    "    .loc[tess_groups.index]\n",
    "    .values\n",
    ")\n",
    "training_data.shape"
   ]
  },
  {
   "cell_type": "code",
   "execution_count": null,
   "id": "e5b30ff9-fe24-42e9-b94d-0d4c15c77727",
   "metadata": {},
   "outputs": [],
   "source": []
  },
  {
   "cell_type": "code",
   "execution_count": 15,
   "id": "05703d49-dba9-432b-8d7f-81a52a0d89ff",
   "metadata": {},
   "outputs": [],
   "source": [
    "from sklearn.cluster import AgglomerativeClustering\n",
    "from scipy.cluster.hierarchy import dendrogram\n",
    "from scipy.cluster.hierarchy import fcluster\n",
    "from sklearn.metrics import adjusted_rand_score\n",
    "from sklearn.metrics import davies_bouldin_score\n",
    "from core.cluster_validation import get_linkage_matrix\n",
    "\n",
    "q1 = read_parquet(graph_dir + f\"tessellation_graph_{region_id}_knn1.parquet\")\n",
    "clustering_graph = q1.subgraph(training_data.index.values).transform('B').sparse"
   ]
  },
  {
   "cell_type": "code",
   "execution_count": 104,
   "id": "b4f8c16c-bb62-4633-bc15-873c65680085",
   "metadata": {},
   "outputs": [
    {
     "name": "stdout",
     "output_type": "stream",
     "text": [
      "CPU times: user 761 ms, sys: 32 ms, total: 793 ms\n",
      "Wall time: 792 ms\n"
     ]
    }
   ],
   "source": [
    "%%time\n",
    "clusterer = AgglomerativeClustering(linkage='average',\n",
    "                                    # connectivity=clustering_graph, \n",
    "                                    compute_full_tree=True, compute_distances=True)\n",
    "model = clusterer.fit(training_data)"
   ]
  },
  {
   "cell_type": "code",
   "execution_count": 105,
   "id": "f406f50b-ccf8-4ec6-ab6e-ecacd9024fa1",
   "metadata": {},
   "outputs": [],
   "source": [
    "linkage_matrix = get_linkage_matrix(model)"
   ]
  },
  {
   "cell_type": "code",
   "execution_count": 106,
   "id": "442954ce-e3dd-453b-9990-fef4638c9ffd",
   "metadata": {},
   "outputs": [
    {
     "data": {
      "image/png": "[encoded data removed]",
      "text/plain": [
       "<Figure size 4000x4000 with 1 Axes>"
      ]
     },
     "metadata": {},
     "output_type": "display_data"
    }
   ],
   "source": [
    "fix, ax = plt.subplots(figsize=(40,40))\n",
    "# Plot the corresponding dendrogram\n",
    "_ = dendrogram(linkage_matrix, truncate_mode=\"level\", p=5, ax=ax)"
   ]
  },
  {
   "cell_type": "code",
   "execution_count": 107,
   "id": "1cfc303c-d456-4bce-9255-970689c173c9",
   "metadata": {},
   "outputs": [],
   "source": [
    "from sklearn.metrics import calinski_harabasz_score"
   ]
  },
  {
   "cell_type": "code",
   "execution_count": 109,
   "id": "f26d27b8-628f-45ab-8aee-185c2e5177d8",
   "metadata": {},
   "outputs": [
    {
     "name": "stdout",
     "output_type": "stream",
     "text": [
      "1  -  0.00010642653992738356 0.027534678947829183 2213.3012877852334\n",
      "11  -  0.1561496271647697 0.7397340557730401 33.02733700281318\n",
      "21  -  0.3251670438384045 0.9774721471921197 62.986189233900284\n",
      "31  -  0.004013781707679775 0.780966189280579 36.90555989764084\n",
      "41  -  0.005072272167362836 0.78363872599991 80.29993931965701\n",
      "51  -  0.0021995169190760213 0.5306995455762624 101.7700160103781\n",
      "61  -  -0.00019873354444187866 0.5643685828672603 27.539173534837765\n",
      "71  -  -5.351939626586854e-05 0.1823668808847758 33.683796623901735\n",
      "81  -  -5.351939626586854e-05 0.1823668808847758 33.683796623901735\n",
      "91  -  -5.351939626586854e-05 0.1823668808847758 33.683796623901735\n",
      "101  -  1.935153274422666e-05 0.13596180275426278 46.70892313131309\n",
      "111  -  1.935153274422666e-05 0.13596180275426278 46.70892313131309\n",
      "121  -  1.935153274422666e-05 0.13596180275426278 46.70892313131309\n",
      "131  -  1.935153274422666e-05 0.13596180275426278 46.70892313131309\n"
     ]
    },
    {
     "ename": "ValueError",
     "evalue": "Number of labels is 1. Valid values are 2 to n_samples - 1 (inclusive)",
     "output_type": "error",
     "traceback": [
      "\u001b[0;31m---------------------------------------------------------------------------\u001b[0m",
      "\u001b[0;31mValueError\u001b[0m                                Traceback (most recent call last)",
      "Cell \u001b[0;32mIn[109], line 8\u001b[0m\n\u001b[1;32m      2\u001b[0m r \u001b[38;5;241m=\u001b[39m fcluster(linkage_matrix, t\u001b[38;5;241m=\u001b[39mt, criterion\u001b[38;5;241m=\u001b[39m\u001b[38;5;124m'\u001b[39m\u001b[38;5;124mdistance\u001b[39m\u001b[38;5;124m'\u001b[39m)\n\u001b[1;32m      3\u001b[0m \u001b[38;5;66;03m# r = pd.Series(r, index=X_train.index)\u001b[39;00m\n\u001b[1;32m      4\u001b[0m \u001b[38;5;66;03m# # ssplits = graph.describe(r, statistics=['nunique'])['nunique']\u001b[39;00m\n\u001b[1;32m      5\u001b[0m \u001b[38;5;28mprint\u001b[39m(t, \u001b[38;5;124m'\u001b[39m\u001b[38;5;124m - \u001b[39m\u001b[38;5;124m'\u001b[39m, \n\u001b[1;32m      6\u001b[0m       adjusted_rand_score(tess_groups\u001b[38;5;241m.\u001b[39mvalues, r[tess_groups_ilocs]),\n\u001b[1;32m      7\u001b[0m       \u001b[38;5;66;03m# (ssplits > 1).sum() / ssplits.shape[0],\u001b[39;00m\n\u001b[0;32m----> 8\u001b[0m       \u001b[43mdavies_bouldin_score\u001b[49m\u001b[43m(\u001b[49m\u001b[43mtraining_data\u001b[49m\u001b[43m,\u001b[49m\u001b[43m \u001b[49m\u001b[43mr\u001b[49m\u001b[43m)\u001b[49m,\n\u001b[1;32m      9\u001b[0m       calinski_harabasz_score(training_data, r)\n\u001b[1;32m     10\u001b[0m      )\n",
      "File \u001b[0;32m~/miniconda3/envs/urban_taxonomy/lib/python3.12/site-packages/sklearn/utils/_param_validation.py:213\u001b[0m, in \u001b[0;36mvalidate_params.<locals>.decorator.<locals>.wrapper\u001b[0;34m(*args, **kwargs)\u001b[0m\n\u001b[1;32m    207\u001b[0m \u001b[38;5;28;01mtry\u001b[39;00m:\n\u001b[1;32m    208\u001b[0m     \u001b[38;5;28;01mwith\u001b[39;00m config_context(\n\u001b[1;32m    209\u001b[0m         skip_parameter_validation\u001b[38;5;241m=\u001b[39m(\n\u001b[1;32m    210\u001b[0m             prefer_skip_nested_validation \u001b[38;5;129;01mor\u001b[39;00m global_skip_validation\n\u001b[1;32m    211\u001b[0m         )\n\u001b[1;32m    212\u001b[0m     ):\n\u001b[0;32m--> 213\u001b[0m         \u001b[38;5;28;01mreturn\u001b[39;00m \u001b[43mfunc\u001b[49m\u001b[43m(\u001b[49m\u001b[38;5;241;43m*\u001b[39;49m\u001b[43margs\u001b[49m\u001b[43m,\u001b[49m\u001b[43m \u001b[49m\u001b[38;5;241;43m*\u001b[39;49m\u001b[38;5;241;43m*\u001b[39;49m\u001b[43mkwargs\u001b[49m\u001b[43m)\u001b[49m\n\u001b[1;32m    214\u001b[0m \u001b[38;5;28;01mexcept\u001b[39;00m InvalidParameterError \u001b[38;5;28;01mas\u001b[39;00m e:\n\u001b[1;32m    215\u001b[0m     \u001b[38;5;66;03m# When the function is just a wrapper around an estimator, we allow\u001b[39;00m\n\u001b[1;32m    216\u001b[0m     \u001b[38;5;66;03m# the function to delegate validation to the estimator, but we replace\u001b[39;00m\n\u001b[1;32m    217\u001b[0m     \u001b[38;5;66;03m# the name of the estimator by the name of the function in the error\u001b[39;00m\n\u001b[1;32m    218\u001b[0m     \u001b[38;5;66;03m# message to avoid confusion.\u001b[39;00m\n\u001b[1;32m    219\u001b[0m     msg \u001b[38;5;241m=\u001b[39m re\u001b[38;5;241m.\u001b[39msub(\n\u001b[1;32m    220\u001b[0m         \u001b[38;5;124mr\u001b[39m\u001b[38;5;124m\"\u001b[39m\u001b[38;5;124mparameter of \u001b[39m\u001b[38;5;124m\\\u001b[39m\u001b[38;5;124mw+ must be\u001b[39m\u001b[38;5;124m\"\u001b[39m,\n\u001b[1;32m    221\u001b[0m         \u001b[38;5;124mf\u001b[39m\u001b[38;5;124m\"\u001b[39m\u001b[38;5;124mparameter of \u001b[39m\u001b[38;5;132;01m{\u001b[39;00mfunc\u001b[38;5;241m.\u001b[39m\u001b[38;5;18m__qualname__\u001b[39m\u001b[38;5;132;01m}\u001b[39;00m\u001b[38;5;124m must be\u001b[39m\u001b[38;5;124m\"\u001b[39m,\n\u001b[1;32m    222\u001b[0m         \u001b[38;5;28mstr\u001b[39m(e),\n\u001b[1;32m    223\u001b[0m     )\n",
      "File \u001b[0;32m~/miniconda3/envs/urban_taxonomy/lib/python3.12/site-packages/sklearn/metrics/cluster/_unsupervised.py:448\u001b[0m, in \u001b[0;36mdavies_bouldin_score\u001b[0;34m(X, labels)\u001b[0m\n\u001b[1;32m    446\u001b[0m n_samples, _ \u001b[38;5;241m=\u001b[39m X\u001b[38;5;241m.\u001b[39mshape\n\u001b[1;32m    447\u001b[0m n_labels \u001b[38;5;241m=\u001b[39m \u001b[38;5;28mlen\u001b[39m(le\u001b[38;5;241m.\u001b[39mclasses_)\n\u001b[0;32m--> 448\u001b[0m \u001b[43mcheck_number_of_labels\u001b[49m\u001b[43m(\u001b[49m\u001b[43mn_labels\u001b[49m\u001b[43m,\u001b[49m\u001b[43m \u001b[49m\u001b[43mn_samples\u001b[49m\u001b[43m)\u001b[49m\n\u001b[1;32m    450\u001b[0m intra_dists \u001b[38;5;241m=\u001b[39m np\u001b[38;5;241m.\u001b[39mzeros(n_labels)\n\u001b[1;32m    451\u001b[0m centroids \u001b[38;5;241m=\u001b[39m np\u001b[38;5;241m.\u001b[39mzeros((n_labels, \u001b[38;5;28mlen\u001b[39m(X[\u001b[38;5;241m0\u001b[39m])), dtype\u001b[38;5;241m=\u001b[39m\u001b[38;5;28mfloat\u001b[39m)\n",
      "File \u001b[0;32m~/miniconda3/envs/urban_taxonomy/lib/python3.12/site-packages/sklearn/metrics/cluster/_unsupervised.py:38\u001b[0m, in \u001b[0;36mcheck_number_of_labels\u001b[0;34m(n_labels, n_samples)\u001b[0m\n\u001b[1;32m     27\u001b[0m \u001b[38;5;250m\u001b[39m\u001b[38;5;124;03m\"\"\"Check that number of labels are valid.\u001b[39;00m\n\u001b[1;32m     28\u001b[0m \n\u001b[1;32m     29\u001b[0m \u001b[38;5;124;03mParameters\u001b[39;00m\n\u001b[0;32m   (...)\u001b[0m\n\u001b[1;32m     35\u001b[0m \u001b[38;5;124;03m    Number of samples.\u001b[39;00m\n\u001b[1;32m     36\u001b[0m \u001b[38;5;124;03m\"\"\"\u001b[39;00m\n\u001b[1;32m     37\u001b[0m \u001b[38;5;28;01mif\u001b[39;00m \u001b[38;5;129;01mnot\u001b[39;00m \u001b[38;5;241m1\u001b[39m \u001b[38;5;241m<\u001b[39m n_labels \u001b[38;5;241m<\u001b[39m n_samples:\n\u001b[0;32m---> 38\u001b[0m     \u001b[38;5;28;01mraise\u001b[39;00m \u001b[38;5;167;01mValueError\u001b[39;00m(\n\u001b[1;32m     39\u001b[0m         \u001b[38;5;124m\"\u001b[39m\u001b[38;5;124mNumber of labels is \u001b[39m\u001b[38;5;132;01m%d\u001b[39;00m\u001b[38;5;124m. Valid values are 2 to n_samples - 1 (inclusive)\u001b[39m\u001b[38;5;124m\"\u001b[39m\n\u001b[1;32m     40\u001b[0m         \u001b[38;5;241m%\u001b[39m n_labels\n\u001b[1;32m     41\u001b[0m     )\n",
      "\u001b[0;31mValueError\u001b[0m: Number of labels is 1. Valid values are 2 to n_samples - 1 (inclusive)"
     ]
    }
   ],
   "source": [
    "for t in range(1, 200, 10):\n",
    "    r = fcluster(linkage_matrix, t=t, criterion='distance')\n",
    "    # r = pd.Series(r, index=X_train.index)\n",
    "    # # ssplits = graph.describe(r, statistics=['nunique'])['nunique']\n",
    "    print(t, ' - ', \n",
    "          adjusted_rand_score(tess_groups.values, r[tess_groups_ilocs]),\n",
    "          # (ssplits > 1).sum() / ssplits.shape[0],\n",
    "          davies_bouldin_score(training_data, r),\n",
    "          calinski_harabasz_score(training_data, r)\n",
    "         )"
   ]
  },
  {
   "cell_type": "code",
   "execution_count": null,
   "id": "3fa9782d-53ca-4f41-9efe-a90ddc4fafdf",
   "metadata": {},
   "outputs": [],
   "source": []
  },
  {
   "cell_type": "code",
   "execution_count": 112,
   "id": "7980bb91-f65a-4c5e-9872-d3db8fe15ffe",
   "metadata": {},
   "outputs": [],
   "source": [
    "clusters = fcluster(linkage_matrix, t=20, criterion='distance')"
   ]
  },
  {
   "cell_type": "code",
   "execution_count": 114,
   "id": "b2139127-55d2-4fae-95cf-b76e614cdb94",
   "metadata": {},
   "outputs": [],
   "source": [
    "# plotting = tessellation.loc[training_data.index]\n",
    "# plotting['label'] = clusters\n",
    "# plotting.explore(column='label', categorical=True)"
   ]
  },
  {
   "cell_type": "code",
   "execution_count": null,
   "id": "54863167-d4e0-4562-85c8-6851dc05a1f8",
   "metadata": {},
   "outputs": [],
   "source": []
  },
  {
   "cell_type": "code",
   "execution_count": 42,
   "id": "b19f7491-1fcb-46d9-947a-685179486a1a",
   "metadata": {},
   "outputs": [],
   "source": [
    "cluster_means = training_data.groupby(clusters).mean()"
   ]
  },
  {
   "cell_type": "code",
   "execution_count": 68,
   "id": "9944fca0-b07b-4a30-915f-49bef2180d89",
   "metadata": {},
   "outputs": [
    {
     "data": {
      "text/plain": [
       "libNCo           6.284668\n",
       "libNCo_median    5.846288\n",
       "libNCo_higher    4.233946\n",
       "linPDE_higher    3.014914\n",
       "linPDE           2.122206\n",
       "                   ...   \n",
       "lcnClo          -1.414220\n",
       "linWID_lower    -1.422183\n",
       "linP3W          -1.489277\n",
       "lcnClo_lower    -1.702326\n",
       "linP3W_lower    -2.339139\n",
       "Length: 248, dtype: float64"
      ]
     },
     "execution_count": 68,
     "metadata": {},
     "output_type": "execute_result"
    }
   ],
   "source": [
    "c1 = 6\n",
    "c2 = 10\n",
    "\n",
    "(cluster_means.loc[c1] - cluster_means.loc[c2]).sort_values(ascending=False)"
   ]
  },
  {
   "cell_type": "code",
   "execution_count": null,
   "id": "dabe2bac-ba6d-498a-91c2-763fc47787e2",
   "metadata": {},
   "outputs": [],
   "source": []
  },
  {
   "cell_type": "code",
   "execution_count": 72,
   "id": "b41b8ddc-b723-424d-9d52-1eefad87d9d4",
   "metadata": {},
   "outputs": [
    {
     "data": {
      "text/plain": [
       "'number of courtyards within adjacent buildings'"
      ]
     },
     "execution_count": 72,
     "metadata": {},
     "output_type": "execute_result"
    }
   ],
   "source": [
    "from core.utils import used_keys\n",
    "used_keys['libNCo']"
   ]
  },
  {
   "cell_type": "code",
   "execution_count": null,
   "id": "e91e770f-7792-45bd-ab1b-9d3be57a9a46",
   "metadata": {},
   "outputs": [],
   "source": []
  }
 ],
 "metadata": {
  "kernelspec": {
   "display_name": "Python 3 (ipykernel)",
   "language": "python",
   "name": "python3"
  },
  "language_info": {
   "codemirror_mode": {
    "name": "ipython",
    "version": 3
   },
   "file_extension": ".py",
   "mimetype": "text/x-python",
   "name": "python",
   "nbconvert_exporter": "python",
   "pygments_lexer": "ipython3",
   "version": "3.12.4"
  }
 },
 "nbformat": 4,
 "nbformat_minor": 5
}
