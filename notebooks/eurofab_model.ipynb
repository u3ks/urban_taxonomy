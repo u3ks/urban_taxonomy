{
 "cells": [
  {
   "cell_type": "code",
   "execution_count": null,
   "id": "bf622fbc-f507-45a6-b110-759da02ea8d7",
   "metadata": {},
   "outputs": [],
   "source": []
  },
  {
   "cell_type": "code",
   "execution_count": 1,
   "id": "51533fb7-1ff2-4a11-a1d0-e7be19d18287",
   "metadata": {},
   "outputs": [],
   "source": [
    "import glob\n",
    "\n",
    "import geopandas as gpd\n",
    "import matplotlib.pyplot as plt\n",
    "import numba\n",
    "import numpy as np\n",
    "import pandas as pd\n",
    "from libpysal.graph import read_parquet\n",
    "from sklearn.preprocessing import PowerTransformer, RobustScaler, StandardScaler\n",
    "from sklearn.ensemble import RandomForestClassifier\n"
   ]
  },
  {
   "cell_type": "code",
   "execution_count": 2,
   "id": "10276120-b9bc-4955-b89d-97878a723eb4",
   "metadata": {},
   "outputs": [],
   "source": [
    "from core.cluster_validation import generate_validation_groups, colored_crosstab\n",
    "from core.utils import used_keys"
   ]
  },
  {
   "cell_type": "code",
   "execution_count": 3,
   "id": "47e656ef-5246-42d4-a6ea-42dfa16a4823",
   "metadata": {},
   "outputs": [],
   "source": [
    "from palettable.colorbrewer.qualitative import Set3_12\n",
    "from sklearn.metrics import davies_bouldin_score"
   ]
  },
  {
   "cell_type": "code",
   "execution_count": null,
   "id": "96360b9d-228b-442d-b8b9-356d61b89b46",
   "metadata": {},
   "outputs": [],
   "source": []
  },
  {
   "cell_type": "code",
   "execution_count": 4,
   "id": "87e4cfcf-e970-41a1-814e-02835e4247e4",
   "metadata": {},
   "outputs": [],
   "source": [
    "region_id = 4182\n",
    "\n",
    "tessellations_dir = graph_dir = '../data/ms_buildings/'\n",
    "chars_dir = '../data/ms_buildings/chars/'"
   ]
  },
  {
   "cell_type": "code",
   "execution_count": null,
   "id": "11a6fdc5-3d88-4132-8537-043ed9202970",
   "metadata": {},
   "outputs": [],
   "source": []
  },
  {
   "cell_type": "code",
   "execution_count": 5,
   "id": "4a6c8127-83f1-4553-b146-3d1e187481a6",
   "metadata": {},
   "outputs": [],
   "source": [
    "primary = pd.read_parquet(chars_dir + f'primary_chars_{region_id}.parquet')"
   ]
  },
  {
   "cell_type": "code",
   "execution_count": 6,
   "id": "6e45edc2-5cac-43c3-b4f3-837a958da6ce",
   "metadata": {},
   "outputs": [],
   "source": [
    "tessellation = gpd.read_parquet(\n",
    "        tessellations_dir + f\"tessellation_{region_id}.parquet\"\n",
    ")"
   ]
  },
  {
   "cell_type": "code",
   "execution_count": null,
   "id": "df392f39-0c0d-49fa-911f-a6af65b1b634",
   "metadata": {},
   "outputs": [],
   "source": []
  },
  {
   "cell_type": "markdown",
   "id": "d0ece61d-894b-477a-9dc1-f286bd101a98",
   "metadata": {},
   "source": [
    "### Generate context"
   ]
  },
  {
   "cell_type": "code",
   "execution_count": null,
   "id": "3c045bb2-14e2-4f93-808f-f91c23d0deb5",
   "metadata": {},
   "outputs": [],
   "source": []
  },
  {
   "cell_type": "code",
   "execution_count": 7,
   "id": "d73c6e9a-0d4f-4654-995e-f4b3c57508d7",
   "metadata": {},
   "outputs": [],
   "source": [
    "@numba.njit(parallel=True)\n",
    "def numba_limit_range(rows, cols, partial_vals, output_vals):\n",
    "    # print(partial_vals)\n",
    "    ngroups = int(rows[-1]) + 1\n",
    "    nrows = rows.shape[0]\n",
    "    result = np.empty((ngroups, partial_vals.shape[1] * output_vals))\n",
    "\n",
    "    istart = 0\n",
    "    for g in range(ngroups):\n",
    "        # # find focal start\n",
    "        # istart = 0\n",
    "        # while istart < nrows and rows[istart] != g:\n",
    "        #     istart += 1\n",
    "\n",
    "        # find neighbors\n",
    "        iend = istart + 1\n",
    "        while iend < nrows and rows[iend - 1] == rows[iend]:\n",
    "            iend += 1\n",
    "\n",
    "        ## for every column apply iqr and percentiles\n",
    "        for c in numba.prange(partial_vals.shape[1]):\n",
    "            col_vals = partial_vals[cols[istart:iend], c]\n",
    "            res_index = output_vals * c\n",
    "\n",
    "            if np.isnan(col_vals).all():\n",
    "                result[g, res_index] = np.nan\n",
    "                result[g, res_index + 1] = np.nan\n",
    "                result[g, res_index + 2] = np.nan\n",
    "                continue\n",
    "\n",
    "            lower, med, higher = np.nanpercentile(col_vals, (15, 50, 85))\n",
    "            result[g, res_index] = lower\n",
    "            result[g, res_index + 1] = med\n",
    "            result[g, res_index + 2] = higher\n",
    "\n",
    "        # # go to next group\n",
    "        istart = iend\n",
    "    return result"
   ]
  },
  {
   "cell_type": "code",
   "execution_count": 8,
   "id": "7fc7c264-c199-43c8-b6c5-18f97f18949e",
   "metadata": {},
   "outputs": [],
   "source": [
    "def parallel_higher_order_context(df, graph, k, n_splits, output_vals):\n",
    "    A = graph.transform(\"B\").sparse\n",
    "    ids = graph.unique_ids.values\n",
    "    rows = np.arange(A.shape[0])\n",
    "    values = df.values\n",
    "\n",
    "    final_result = pd.DataFrame(\n",
    "        np.empty((values.shape[0], values.shape[1] * output_vals)), index=ids\n",
    "    )\n",
    "\n",
    "    for source in np.array_split(rows, n_splits):\n",
    "        Q = A[source, :].copy()\n",
    "        for _ in range(1, k):\n",
    "            next_step = Q @ A\n",
    "            Q += next_step\n",
    "\n",
    "        sparray = Q.tocoo(copy=False)\n",
    "        sorter = sparray.row.argsort()\n",
    "        unique_tail = np.unique(sparray.col)\n",
    "        partial_vals = values[unique_tail, :]\n",
    "\n",
    "        cols_dict = pd.Series(np.arange(len(unique_tail)), index=unique_tail)\n",
    "        columns_to_pass = cols_dict.loc[sparray.col].values\n",
    "        rows_to_pass = sparray.row[sorter]\n",
    "\n",
    "        partial_res = numba_limit_range(\n",
    "            rows_to_pass, columns_to_pass, partial_vals, output_vals\n",
    "        )\n",
    "\n",
    "        final_result.iloc[source, :] = partial_res\n",
    "\n",
    "    return final_result"
   ]
  },
  {
   "cell_type": "code",
   "execution_count": null,
   "id": "2ce65bd3-60cb-4462-b398-3c26dad1c046",
   "metadata": {},
   "outputs": [],
   "source": []
  },
  {
   "cell_type": "code",
   "execution_count": null,
   "id": "cc01a42f-48cd-44d2-9def-715bec5689d2",
   "metadata": {},
   "outputs": [],
   "source": []
  },
  {
   "cell_type": "code",
   "execution_count": 9,
   "id": "46625766-981b-439c-b582-b6f91dd62655",
   "metadata": {},
   "outputs": [],
   "source": [
    "graph = read_parquet(graph_dir + f\"tessellation_graph_{region_id}_knn1.parquet\")"
   ]
  },
  {
   "cell_type": "code",
   "execution_count": null,
   "id": "ae3a92ec-a559-4469-9523-c7ce8c4e6887",
   "metadata": {},
   "outputs": [],
   "source": []
  },
  {
   "cell_type": "code",
   "execution_count": null,
   "id": "46a50a6c-07f3-49f2-a1b6-e97693b488fe",
   "metadata": {},
   "outputs": [],
   "source": []
  },
  {
   "cell_type": "code",
   "execution_count": 10,
   "id": "b3d06cb9-80f0-4350-afc7-5f5026763338",
   "metadata": {},
   "outputs": [],
   "source": [
    "## Discard disconnected components and focus on a single component only.\n",
    "## doesnt make a big difference."
   ]
  },
  {
   "cell_type": "code",
   "execution_count": 11,
   "id": "6841a925-c1fe-4390-9297-fb2bdd235e2e",
   "metadata": {},
   "outputs": [
    {
     "data": {
      "text/plain": [
       "component labels\n",
       "26     111187\n",
       "134     11517\n",
       "68       9874\n",
       "95       7773\n",
       "2        4436\n",
       "        ...  \n",
       "846         1\n",
       "847         1\n",
       "834         1\n",
       "832         1\n",
       "836         1\n",
       "Name: count, Length: 858, dtype: int64"
      ]
     },
     "execution_count": 11,
     "metadata": {},
     "output_type": "execute_result"
    }
   ],
   "source": [
    "graph.component_labels.value_counts()"
   ]
  },
  {
   "cell_type": "code",
   "execution_count": null,
   "id": "bdb4246e-2332-4324-8f29-67b3ebfc8a32",
   "metadata": {},
   "outputs": [],
   "source": []
  },
  {
   "cell_type": "code",
   "execution_count": 12,
   "id": "d93bb532-4afb-426a-a2c4-7237dd9ec1ec",
   "metadata": {},
   "outputs": [],
   "source": [
    "data = primary\n",
    "data_graph = graph"
   ]
  },
  {
   "cell_type": "code",
   "execution_count": null,
   "id": "d21bde52-fbd9-4910-a1e7-6948a9a5249f",
   "metadata": {},
   "outputs": [],
   "source": []
  },
  {
   "cell_type": "code",
   "execution_count": 13,
   "id": "a3524771-2c6d-4732-b6a2-85e8b2771736",
   "metadata": {},
   "outputs": [
    {
     "name": "stdout",
     "output_type": "stream",
     "text": [
      "CPU times: user 2min 39s, sys: 8.85 s, total: 2min 48s\n",
      "Wall time: 18.9 s\n"
     ]
    }
   ],
   "source": [
    "%%time\n",
    "context = parallel_higher_order_context(\n",
    "    data, data_graph, k=5, n_splits=10, output_vals=3\n",
    ")"
   ]
  },
  {
   "cell_type": "code",
   "execution_count": 14,
   "id": "3098fba4-fd6d-40da-bfc1-5fd5522bbe3d",
   "metadata": {},
   "outputs": [],
   "source": [
    "context.columns = np.concatenate(\n",
    "    [(c + \"_lower\", c + \"_median\", c + \"_higher\") for c in primary.columns]\n",
    ")"
   ]
  },
  {
   "cell_type": "code",
   "execution_count": null,
   "id": "83a1025c-0080-4730-86dd-27a73cde8346",
   "metadata": {},
   "outputs": [],
   "source": []
  },
  {
   "cell_type": "code",
   "execution_count": null,
   "id": "98ad76e2-7e6b-4a3d-9822-b7580920f089",
   "metadata": {},
   "outputs": [],
   "source": []
  },
  {
   "cell_type": "code",
   "execution_count": null,
   "id": "078b065a-a7c0-4b1a-ae6a-4a356f83ca16",
   "metadata": {},
   "outputs": [],
   "source": []
  },
  {
   "cell_type": "code",
   "execution_count": null,
   "id": "b26a1208-c715-47f4-817d-dae7416b80a9",
   "metadata": {},
   "outputs": [],
   "source": []
  },
  {
   "cell_type": "code",
   "execution_count": 15,
   "id": "015a4a12-7bff-4d7b-8561-5688580a7d9f",
   "metadata": {},
   "outputs": [],
   "source": [
    "# X = context"
   ]
  },
  {
   "cell_type": "code",
   "execution_count": 16,
   "id": "0fdde1c0-5bb9-4270-a420-27f9970bae9d",
   "metadata": {},
   "outputs": [],
   "source": [
    "# higher = graph.higher_order(k=3, lower_order=True, diagonal=True)\n",
    "# r = higher.describe(primary['sdbAre'], statistics=['median'])['median']\n",
    "# from pandas.testing import assert_series_equal\n",
    "# assert_series_equal(context['sdbAre_median'], r, check_names=False)\n",
    "\n",
    "# r.duplicated().sum()"
   ]
  },
  {
   "cell_type": "code",
   "execution_count": null,
   "id": "fdb17f86-a53a-4be0-8e4c-b461aa96e3ee",
   "metadata": {},
   "outputs": [],
   "source": []
  },
  {
   "cell_type": "markdown",
   "id": "7aee0f2a-71c7-4642-b147-b7793e6c4e3d",
   "metadata": {},
   "source": [
    "### Data preprocessing"
   ]
  },
  {
   "cell_type": "code",
   "execution_count": null,
   "id": "1a0f1f5b-4d16-44f2-aa8e-da27a228b1ff",
   "metadata": {},
   "outputs": [],
   "source": []
  },
  {
   "cell_type": "code",
   "execution_count": null,
   "id": "633c0c19-cf95-46a6-bfba-99891e256b42",
   "metadata": {},
   "outputs": [],
   "source": []
  },
  {
   "cell_type": "code",
   "execution_count": 17,
   "id": "86472a42-23a5-4a88-8f1a-e4e4a8e4c5d7",
   "metadata": {},
   "outputs": [],
   "source": [
    "tess_groups = generate_validation_groups(tessellation, include_random_sample=True)\n",
    "\n",
    "def check_score(data, example_clusters):\n",
    "    groups = example_clusters[example_clusters.index.isin(data.index)]\n",
    "    groups_ilocs = (\n",
    "        pd.Series(np.arange(len(data)), index=data.index).loc[groups.index].values\n",
    "    )\n",
    "    return davies_bouldin_score(data.iloc[groups_ilocs], groups.values)"
   ]
  },
  {
   "cell_type": "code",
   "execution_count": null,
   "id": "f9fa03ed-f8db-44d5-920a-018bed46ff9b",
   "metadata": {},
   "outputs": [],
   "source": []
  },
  {
   "cell_type": "code",
   "execution_count": 18,
   "id": "64d452a2-a9bf-44ae-b28b-6d9a3119e5c9",
   "metadata": {},
   "outputs": [
    {
     "data": {
      "text/plain": [
       "np.float64(7.112594696785641)"
      ]
     },
     "execution_count": 18,
     "metadata": {},
     "output_type": "execute_result"
    }
   ],
   "source": [
    "## no spatial lag\n",
    "X = np.nan_to_num(StandardScaler().fit_transform(data))\n",
    "X = pd.DataFrame(X, columns=data.columns, index=data.index)\n",
    "check_score(X, tess_groups)"
   ]
  },
  {
   "cell_type": "code",
   "execution_count": 19,
   "id": "ce7a83dd-7228-4917-a887-7e294bb961da",
   "metadata": {},
   "outputs": [
    {
     "data": {
      "text/plain": [
       "np.float64(23.302472243546216)"
      ]
     },
     "execution_count": 19,
     "metadata": {},
     "output_type": "execute_result"
    }
   ],
   "source": [
    "## no spatial lag\n",
    "X = np.nan_to_num(RobustScaler().fit_transform(data))\n",
    "X = pd.DataFrame(X, columns=data.columns, index=data.index)\n",
    "check_score(X, tess_groups)"
   ]
  },
  {
   "cell_type": "code",
   "execution_count": 20,
   "id": "01ce9180-c434-432a-8856-9d2a09a0c4c5",
   "metadata": {},
   "outputs": [
    {
     "data": {
      "text/plain": [
       "np.float64(7.082113961203566)"
      ]
     },
     "execution_count": 20,
     "metadata": {},
     "output_type": "execute_result"
    }
   ],
   "source": [
    "## no spatial lag\n",
    "X = np.nan_to_num(PowerTransformer().fit_transform(data))\n",
    "X = pd.DataFrame(X, columns=data.columns, index=data.index)\n",
    "check_score(X, tess_groups)"
   ]
  },
  {
   "cell_type": "code",
   "execution_count": null,
   "id": "4c22746d-ddeb-4bc9-a05b-26ec1d757660",
   "metadata": {},
   "outputs": [],
   "source": []
  },
  {
   "cell_type": "code",
   "execution_count": null,
   "id": "4ce36c8a-2296-489c-9013-33160f52959e",
   "metadata": {},
   "outputs": [],
   "source": []
  },
  {
   "cell_type": "code",
   "execution_count": null,
   "id": "958bdba0-683c-4bd7-ab6a-12f35191cd76",
   "metadata": {},
   "outputs": [],
   "source": []
  },
  {
   "cell_type": "code",
   "execution_count": null,
   "id": "db6fc737-6c23-461a-877e-848f2b6c78e2",
   "metadata": {},
   "outputs": [],
   "source": []
  },
  {
   "cell_type": "code",
   "execution_count": 21,
   "id": "1b41ed97-e829-4069-9e47-26ff542558ed",
   "metadata": {},
   "outputs": [],
   "source": [
    "### only medians"
   ]
  },
  {
   "cell_type": "code",
   "execution_count": 22,
   "id": "f6c046d1-0bf0-4f7f-a704-c139de784663",
   "metadata": {},
   "outputs": [
    {
     "data": {
      "text/plain": [
       "np.float64(3.459891607868656)"
      ]
     },
     "execution_count": 22,
     "metadata": {},
     "output_type": "execute_result"
    }
   ],
   "source": [
    "X = np.nan_to_num(\n",
    "    StandardScaler().fit_transform(\n",
    "        context.loc[:, context.columns.str.endswith(\"_median\")]\n",
    "    )\n",
    ")\n",
    "X = pd.DataFrame(\n",
    "    X,\n",
    "    columns=context.loc[:, context.columns.str.endswith(\"_median\")].columns,\n",
    "    index=context.loc[:, context.columns.str.endswith(\"_median\")].index,\n",
    ")\n",
    "check_score(X, tess_groups)"
   ]
  },
  {
   "cell_type": "code",
   "execution_count": 23,
   "id": "65752f55-1ae1-4420-879b-2088cbb3efaa",
   "metadata": {},
   "outputs": [
    {
     "data": {
      "text/plain": [
       "np.float64(5.116880011427646)"
      ]
     },
     "execution_count": 23,
     "metadata": {},
     "output_type": "execute_result"
    }
   ],
   "source": [
    "X = np.nan_to_num(\n",
    "    RobustScaler().fit_transform(\n",
    "        context.loc[:, context.columns.str.endswith(\"_median\")]\n",
    "    )\n",
    ")\n",
    "X = pd.DataFrame(\n",
    "    X,\n",
    "    columns=context.loc[:, context.columns.str.endswith(\"_median\")].columns,\n",
    "    index=context.loc[:, context.columns.str.endswith(\"_median\")].index,\n",
    ")\n",
    "check_score(X, tess_groups)"
   ]
  },
  {
   "cell_type": "code",
   "execution_count": 24,
   "id": "6ae311b7-b161-46f6-adf8-af696c3350af",
   "metadata": {},
   "outputs": [
    {
     "name": "stderr",
     "output_type": "stream",
     "text": [
      "/home/krasen/miniconda3/envs/urban_taxonomy/lib/python3.12/site-packages/numpy/_core/_methods.py:188: RuntimeWarning: overflow encountered in multiply\n",
      "  x = um.multiply(x, x, out=x)\n",
      "/home/krasen/miniconda3/envs/urban_taxonomy/lib/python3.12/site-packages/numpy/_core/_methods.py:199: RuntimeWarning: overflow encountered in reduce\n",
      "  ret = umr_sum(x, axis, dtype, out, keepdims=keepdims, where=where)\n"
     ]
    },
    {
     "data": {
      "text/plain": [
       "np.float64(3.21157342596039)"
      ]
     },
     "execution_count": 24,
     "metadata": {},
     "output_type": "execute_result"
    }
   ],
   "source": [
    "X = np.nan_to_num(\n",
    "    PowerTransformer().fit_transform(\n",
    "        context.loc[:, context.columns.str.endswith(\"_median\")] + 1\n",
    "    )\n",
    ")\n",
    "X = pd.DataFrame(\n",
    "    X,\n",
    "    columns=context.loc[:, context.columns.str.endswith(\"_median\")].columns,\n",
    "    index=context.loc[:, context.columns.str.endswith(\"_median\")].index,\n",
    ")\n",
    "check_score(X, tess_groups)"
   ]
  },
  {
   "cell_type": "code",
   "execution_count": 25,
   "id": "5f5e971b-d235-4080-9bf3-a960bb9e05d7",
   "metadata": {},
   "outputs": [
    {
     "data": {
      "text/plain": [
       "np.float64(3.438079745593143)"
      ]
     },
     "execution_count": 25,
     "metadata": {},
     "output_type": "execute_result"
    }
   ],
   "source": [
    "## clip medians to -10, 10 standard deviations\n",
    "X = np.nan_to_num(\n",
    "    StandardScaler().fit_transform(\n",
    "        context.loc[:, context.columns.str.endswith(\"_median\")]\n",
    "    )\n",
    ")\n",
    "X = pd.DataFrame(\n",
    "    X,\n",
    "    columns=context.loc[:, context.columns.str.endswith(\"_median\")].columns,\n",
    "    index=context.loc[:, context.columns.str.endswith(\"_median\")].index,\n",
    ")\n",
    "X = X.clip(-10, 10)\n",
    "check_score(X, tess_groups)"
   ]
  },
  {
   "cell_type": "code",
   "execution_count": null,
   "id": "c7b7ad0d-7387-41f2-86fa-3013ff4afd7c",
   "metadata": {},
   "outputs": [],
   "source": []
  },
  {
   "cell_type": "code",
   "execution_count": 26,
   "id": "5f29d05e-47f4-46c7-a4bc-ee78085e4e17",
   "metadata": {},
   "outputs": [],
   "source": [
    "# all features with lag"
   ]
  },
  {
   "cell_type": "code",
   "execution_count": 27,
   "id": "356142ff-1b6b-42db-82d6-edfeb275cbaf",
   "metadata": {},
   "outputs": [
    {
     "data": {
      "text/plain": [
       "np.float64(5.145511219685344)"
      ]
     },
     "execution_count": 27,
     "metadata": {},
     "output_type": "execute_result"
    }
   ],
   "source": [
    "# no standardisation\n",
    "X = np.nan_to_num(context)\n",
    "X = pd.DataFrame(X, columns=context.columns, index=context.index)\n",
    "check_score(X, tess_groups)"
   ]
  },
  {
   "cell_type": "code",
   "execution_count": null,
   "id": "32d43411-38de-481c-9400-df0c503dc1de",
   "metadata": {},
   "outputs": [],
   "source": []
  },
  {
   "cell_type": "code",
   "execution_count": 28,
   "id": "395d5a90-52d0-44d7-bd43-3d73f330db40",
   "metadata": {},
   "outputs": [
    {
     "data": {
      "text/plain": [
       "np.float64(3.198138805724251)"
      ]
     },
     "execution_count": 28,
     "metadata": {},
     "output_type": "execute_result"
    }
   ],
   "source": [
    "X = np.nan_to_num(StandardScaler().fit_transform(context))\n",
    "X = pd.DataFrame(X, columns=context.columns, index=context.index)\n",
    "check_score(X, tess_groups)"
   ]
  },
  {
   "cell_type": "code",
   "execution_count": null,
   "id": "4f82c37c-c92d-4b11-980b-dfbc31325ec7",
   "metadata": {},
   "outputs": [],
   "source": []
  },
  {
   "cell_type": "code",
   "execution_count": 29,
   "id": "bd8fb4c0-1eb4-492d-a025-4ef8a4bade31",
   "metadata": {},
   "outputs": [
    {
     "data": {
      "text/plain": [
       "np.float64(4.639601177762417)"
      ]
     },
     "execution_count": 29,
     "metadata": {},
     "output_type": "execute_result"
    }
   ],
   "source": [
    "X = np.nan_to_num(RobustScaler().fit_transform(context))\n",
    "X = pd.DataFrame(X, columns=context.columns, index=context.index)\n",
    "check_score(X, tess_groups)"
   ]
  },
  {
   "cell_type": "code",
   "execution_count": null,
   "id": "a60b3606-013b-4a0d-88c0-91e83d4cf3f4",
   "metadata": {},
   "outputs": [],
   "source": []
  },
  {
   "cell_type": "code",
   "execution_count": 30,
   "id": "7e4686dc-8daa-4eb6-be0a-df5097eb3fbd",
   "metadata": {},
   "outputs": [
    {
     "name": "stderr",
     "output_type": "stream",
     "text": [
      "/home/krasen/miniconda3/envs/urban_taxonomy/lib/python3.12/site-packages/numpy/_core/_methods.py:188: RuntimeWarning: overflow encountered in multiply\n",
      "  x = um.multiply(x, x, out=x)\n",
      "/home/krasen/miniconda3/envs/urban_taxonomy/lib/python3.12/site-packages/numpy/_core/_methods.py:199: RuntimeWarning: overflow encountered in reduce\n",
      "  ret = umr_sum(x, axis, dtype, out, keepdims=keepdims, where=where)\n"
     ]
    },
    {
     "data": {
      "text/plain": [
       "np.float64(3.027264749191601)"
      ]
     },
     "execution_count": 30,
     "metadata": {},
     "output_type": "execute_result"
    }
   ],
   "source": [
    "X = np.nan_to_num(PowerTransformer().fit_transform(context + 1))\n",
    "X = pd.DataFrame(X, columns=context.columns, index=context.index)\n",
    "check_score(X, tess_groups)"
   ]
  },
  {
   "cell_type": "code",
   "execution_count": null,
   "id": "d133f474-1fcd-4fc7-9936-100939ba8fc8",
   "metadata": {},
   "outputs": [],
   "source": []
  },
  {
   "cell_type": "code",
   "execution_count": 31,
   "id": "2b68342d-ce43-445f-9ba1-b16fc7a27034",
   "metadata": {},
   "outputs": [
    {
     "data": {
      "text/plain": [
       "np.float64(3.1589526898388787)"
      ]
     },
     "execution_count": 31,
     "metadata": {},
     "output_type": "execute_result"
    }
   ],
   "source": [
    "## clip to -10, 10 standard deviations\n",
    "X = np.nan_to_num(StandardScaler().fit_transform(context))\n",
    "X = pd.DataFrame(X, columns=context.columns, index=context.index)\n",
    "X = X.clip(-10, 10)\n",
    "check_score(X, tess_groups)"
   ]
  },
  {
   "cell_type": "code",
   "execution_count": null,
   "id": "ff9025f7-378b-453e-974c-6090eb56f0b2",
   "metadata": {},
   "outputs": [],
   "source": []
  },
  {
   "cell_type": "code",
   "execution_count": null,
   "id": "9513cab6-87cd-44d9-9a23-91e2d57e7c3d",
   "metadata": {},
   "outputs": [],
   "source": []
  },
  {
   "cell_type": "code",
   "execution_count": 32,
   "id": "a80f0787-8800-45da-8ea8-8ac4b00835cf",
   "metadata": {},
   "outputs": [
    {
     "data": {
      "text/plain": [
       "count    236756.000000\n",
       "mean         27.213086\n",
       "std          14.468199\n",
       "min           5.908614\n",
       "25%          19.676008\n",
       "50%          24.270812\n",
       "75%          31.087876\n",
       "max        1037.875053\n",
       "Name: sdbAre_lower, dtype: float64"
      ]
     },
     "execution_count": 32,
     "metadata": {},
     "output_type": "execute_result"
    }
   ],
   "source": [
    "context[\"sdbAre_lower\"].describe()"
   ]
  },
  {
   "cell_type": "code",
   "execution_count": 33,
   "id": "7106dd96-06ea-4282-a9a7-40e00e218110",
   "metadata": {},
   "outputs": [],
   "source": [
    "desc = X.describe()"
   ]
  },
  {
   "cell_type": "code",
   "execution_count": 34,
   "id": "ac9bada9-ae99-4fd9-909a-37ef8a7aff6c",
   "metadata": {},
   "outputs": [
    {
     "data": {
      "text/html": [
       "<div>\n",
       "<style scoped>\n",
       "    .dataframe tbody tr th:only-of-type {\n",
       "        vertical-align: middle;\n",
       "    }\n",
       "\n",
       "    .dataframe tbody tr th {\n",
       "        vertical-align: top;\n",
       "    }\n",
       "\n",
       "    .dataframe thead th {\n",
       "        text-align: right;\n",
       "    }\n",
       "</style>\n",
       "<table border=\"1\" class=\"dataframe\">\n",
       "  <thead>\n",
       "    <tr style=\"text-align: right;\">\n",
       "      <th></th>\n",
       "      <th>sdbAre_lower</th>\n",
       "      <th>sdbAre_median</th>\n",
       "      <th>sdbAre_higher</th>\n",
       "      <th>sdbPer_lower</th>\n",
       "      <th>sdbPer_median</th>\n",
       "      <th>sdbPer_higher</th>\n",
       "      <th>sdbCoA_lower</th>\n",
       "      <th>sdbCoA_median</th>\n",
       "      <th>sdbCoA_higher</th>\n",
       "      <th>ssbCCo_lower</th>\n",
       "      <th>...</th>\n",
       "      <th>ltkOri_higher</th>\n",
       "      <th>ltkWNB_lower</th>\n",
       "      <th>ltkWNB_median</th>\n",
       "      <th>ltkWNB_higher</th>\n",
       "      <th>likWBB_lower</th>\n",
       "      <th>likWBB_median</th>\n",
       "      <th>likWBB_higher</th>\n",
       "      <th>sdsAre_lower</th>\n",
       "      <th>sdsAre_median</th>\n",
       "      <th>sdsAre_higher</th>\n",
       "    </tr>\n",
       "  </thead>\n",
       "  <tbody>\n",
       "    <tr>\n",
       "      <th>25%</th>\n",
       "      <td>-0.520942</td>\n",
       "      <td>-0.431746</td>\n",
       "      <td>-0.373578</td>\n",
       "      <td>-0.561952</td>\n",
       "      <td>-0.410962</td>\n",
       "      <td>-0.531033</td>\n",
       "      <td>0.0</td>\n",
       "      <td>0.0</td>\n",
       "      <td>-0.004596</td>\n",
       "      <td>-0.619178</td>\n",
       "      <td>...</td>\n",
       "      <td>-0.688914</td>\n",
       "      <td>-0.645029</td>\n",
       "      <td>-0.801672</td>\n",
       "      <td>-0.742833</td>\n",
       "      <td>-0.760993</td>\n",
       "      <td>-0.807698</td>\n",
       "      <td>-0.606880</td>\n",
       "      <td>-0.149453</td>\n",
       "      <td>-0.229245</td>\n",
       "      <td>-0.353549</td>\n",
       "    </tr>\n",
       "    <tr>\n",
       "      <th>50%</th>\n",
       "      <td>-0.203362</td>\n",
       "      <td>-0.143242</td>\n",
       "      <td>-0.297249</td>\n",
       "      <td>-0.169460</td>\n",
       "      <td>-0.102208</td>\n",
       "      <td>-0.330175</td>\n",
       "      <td>0.0</td>\n",
       "      <td>0.0</td>\n",
       "      <td>-0.004596</td>\n",
       "      <td>0.014440</td>\n",
       "      <td>...</td>\n",
       "      <td>0.109981</td>\n",
       "      <td>-0.276748</td>\n",
       "      <td>-0.272126</td>\n",
       "      <td>-0.046437</td>\n",
       "      <td>-0.185844</td>\n",
       "      <td>0.016807</td>\n",
       "      <td>0.041999</td>\n",
       "      <td>-0.138394</td>\n",
       "      <td>-0.194665</td>\n",
       "      <td>-0.265291</td>\n",
       "    </tr>\n",
       "    <tr>\n",
       "      <th>75%</th>\n",
       "      <td>0.267815</td>\n",
       "      <td>0.173251</td>\n",
       "      <td>-0.017278</td>\n",
       "      <td>0.354888</td>\n",
       "      <td>0.246271</td>\n",
       "      <td>0.165545</td>\n",
       "      <td>0.0</td>\n",
       "      <td>0.0</td>\n",
       "      <td>-0.004596</td>\n",
       "      <td>0.683554</td>\n",
       "      <td>...</td>\n",
       "      <td>0.837620</td>\n",
       "      <td>0.338989</td>\n",
       "      <td>0.637532</td>\n",
       "      <td>0.607426</td>\n",
       "      <td>0.638015</td>\n",
       "      <td>0.715494</td>\n",
       "      <td>0.490802</td>\n",
       "      <td>-0.108027</td>\n",
       "      <td>-0.099264</td>\n",
       "      <td>-0.039171</td>\n",
       "    </tr>\n",
       "    <tr>\n",
       "      <th>max</th>\n",
       "      <td>10.000000</td>\n",
       "      <td>10.000000</td>\n",
       "      <td>10.000000</td>\n",
       "      <td>10.000000</td>\n",
       "      <td>10.000000</td>\n",
       "      <td>10.000000</td>\n",
       "      <td>0.0</td>\n",
       "      <td>0.0</td>\n",
       "      <td>10.000000</td>\n",
       "      <td>3.548744</td>\n",
       "      <td>...</td>\n",
       "      <td>1.551723</td>\n",
       "      <td>7.676100</td>\n",
       "      <td>7.761571</td>\n",
       "      <td>10.000000</td>\n",
       "      <td>6.697600</td>\n",
       "      <td>6.949751</td>\n",
       "      <td>9.038265</td>\n",
       "      <td>10.000000</td>\n",
       "      <td>10.000000</td>\n",
       "      <td>10.000000</td>\n",
       "    </tr>\n",
       "  </tbody>\n",
       "</table>\n",
       "<p>4 rows × 186 columns</p>\n",
       "</div>"
      ],
      "text/plain": [
       "     sdbAre_lower  sdbAre_median  sdbAre_higher  sdbPer_lower  sdbPer_median  \\\n",
       "25%     -0.520942      -0.431746      -0.373578     -0.561952      -0.410962   \n",
       "50%     -0.203362      -0.143242      -0.297249     -0.169460      -0.102208   \n",
       "75%      0.267815       0.173251      -0.017278      0.354888       0.246271   \n",
       "max     10.000000      10.000000      10.000000     10.000000      10.000000   \n",
       "\n",
       "     sdbPer_higher  sdbCoA_lower  sdbCoA_median  sdbCoA_higher  ssbCCo_lower  \\\n",
       "25%      -0.531033           0.0            0.0      -0.004596     -0.619178   \n",
       "50%      -0.330175           0.0            0.0      -0.004596      0.014440   \n",
       "75%       0.165545           0.0            0.0      -0.004596      0.683554   \n",
       "max      10.000000           0.0            0.0      10.000000      3.548744   \n",
       "\n",
       "     ...  ltkOri_higher  ltkWNB_lower  ltkWNB_median  ltkWNB_higher  \\\n",
       "25%  ...      -0.688914     -0.645029      -0.801672      -0.742833   \n",
       "50%  ...       0.109981     -0.276748      -0.272126      -0.046437   \n",
       "75%  ...       0.837620      0.338989       0.637532       0.607426   \n",
       "max  ...       1.551723      7.676100       7.761571      10.000000   \n",
       "\n",
       "     likWBB_lower  likWBB_median  likWBB_higher  sdsAre_lower  sdsAre_median  \\\n",
       "25%     -0.760993      -0.807698      -0.606880     -0.149453      -0.229245   \n",
       "50%     -0.185844       0.016807       0.041999     -0.138394      -0.194665   \n",
       "75%      0.638015       0.715494       0.490802     -0.108027      -0.099264   \n",
       "max      6.697600       6.949751       9.038265     10.000000      10.000000   \n",
       "\n",
       "     sdsAre_higher  \n",
       "25%      -0.353549  \n",
       "50%      -0.265291  \n",
       "75%      -0.039171  \n",
       "max      10.000000  \n",
       "\n",
       "[4 rows x 186 columns]"
      ]
     },
     "execution_count": 34,
     "metadata": {},
     "output_type": "execute_result"
    }
   ],
   "source": [
    "desc.loc[[\"25%\", \"50%\", \"75%\", \"max\"]]"
   ]
  },
  {
   "cell_type": "code",
   "execution_count": null,
   "id": "8729cd1c-df8f-43e2-bbe0-11c41e5d448b",
   "metadata": {},
   "outputs": [],
   "source": []
  },
  {
   "cell_type": "code",
   "execution_count": null,
   "id": "243edcc0-3c2e-417e-935c-a8c7bb24404d",
   "metadata": {},
   "outputs": [],
   "source": []
  },
  {
   "cell_type": "code",
   "execution_count": null,
   "id": "11a4475b-b2d7-48fb-bbe6-ef5d494e1622",
   "metadata": {},
   "outputs": [],
   "source": []
  },
  {
   "cell_type": "code",
   "execution_count": 35,
   "id": "e451ef0a-60e4-4d53-b3be-621ca5355d9b",
   "metadata": {},
   "outputs": [],
   "source": [
    "corrs = context.corr().abs()\n",
    "upper = corrs.where(np.triu(np.ones(corrs.shape), k=1).astype(bool))"
   ]
  },
  {
   "cell_type": "code",
   "execution_count": 36,
   "id": "b3de6ed7-3c23-4d47-a8ef-e96d032431b5",
   "metadata": {},
   "outputs": [
    {
     "data": {
      "text/plain": [
       "['sdbPer_lower',\n",
       " 'ssbCCM_lower',\n",
       " 'ssbCCM_median',\n",
       " 'ldbPWL_higher',\n",
       " 'lskCWA_lower',\n",
       " 'lskCWA_median',\n",
       " 'lskCWA_higher']"
      ]
     },
     "execution_count": 36,
     "metadata": {},
     "output_type": "execute_result"
    }
   ],
   "source": [
    "corrs_to_drop = [column for column in upper.columns if any(upper[column] > 0.95)]\n",
    "corrs_to_drop"
   ]
  },
  {
   "cell_type": "code",
   "execution_count": 37,
   "id": "b00a001f-02c4-45ee-b0fe-d56c09a0c1d0",
   "metadata": {},
   "outputs": [
    {
     "data": {
      "text/plain": [
       "((236756, 179), np.float64(3.164550950253643))"
      ]
     },
     "execution_count": 37,
     "metadata": {},
     "output_type": "execute_result"
    }
   ],
   "source": [
    "X_no_corr = X.drop(columns=corrs_to_drop)\n",
    "X_no_corr.shape, check_score(X_no_corr, tess_groups)"
   ]
  },
  {
   "cell_type": "code",
   "execution_count": null,
   "id": "78668004-8602-44ee-baff-f55a826f018c",
   "metadata": {},
   "outputs": [],
   "source": []
  },
  {
   "cell_type": "code",
   "execution_count": 38,
   "id": "9b6a48d5-5de5-4414-aefe-b4fc88f8084e",
   "metadata": {},
   "outputs": [],
   "source": [
    "# corrs_to_drop = []\n",
    "# X_no_corr = X.drop(columns=corrs_to_drop)\n",
    "# X_no_corr.shape, check_score(X_no_corr, tess_groups)"
   ]
  },
  {
   "cell_type": "code",
   "execution_count": null,
   "id": "2b7c51e6-9ca5-49f1-8b59-3350a4ecb82e",
   "metadata": {},
   "outputs": [],
   "source": []
  },
  {
   "cell_type": "code",
   "execution_count": 39,
   "id": "3f4d5bf2-c674-47eb-aa8a-979c2356417f",
   "metadata": {},
   "outputs": [],
   "source": [
    "# X.describe()"
   ]
  },
  {
   "cell_type": "code",
   "execution_count": null,
   "id": "50e68274-0aa6-4246-bd05-36417214662b",
   "metadata": {},
   "outputs": [],
   "source": []
  },
  {
   "cell_type": "code",
   "execution_count": null,
   "id": "4cdb7ae9-889e-4a96-af98-6ad7bb60bfbe",
   "metadata": {},
   "outputs": [],
   "source": []
  },
  {
   "cell_type": "code",
   "execution_count": 40,
   "id": "2f9d6c72-c2b1-4d29-8e5e-9470d9c7ba43",
   "metadata": {},
   "outputs": [
    {
     "data": {
      "text/plain": [
       "array(['sdbCoA_lower', 'sdbCoA_median', 'libNCo_lower'], dtype=object)"
      ]
     },
     "execution_count": 40,
     "metadata": {},
     "output_type": "execute_result"
    }
   ],
   "source": [
    "desc = X_no_corr.describe()\n",
    "to_drop = desc.columns[(desc.loc[\"max\"] - desc.loc[\"min\"]) < 0.5].values\n",
    "to_drop"
   ]
  },
  {
   "cell_type": "code",
   "execution_count": 41,
   "id": "8e250edf-662f-4081-bbfa-a563a78170cf",
   "metadata": {},
   "outputs": [
    {
     "data": {
      "text/plain": [
       "((236756, 176), np.float64(3.164550950253642))"
      ]
     },
     "execution_count": 41,
     "metadata": {},
     "output_type": "execute_result"
    }
   ],
   "source": [
    "X_different = X_no_corr.drop(columns=to_drop)\n",
    "X_different.shape, check_score(X_different, tess_groups)"
   ]
  },
  {
   "cell_type": "code",
   "execution_count": null,
   "id": "76b650b6-119a-435c-8be8-61dec1e145eb",
   "metadata": {},
   "outputs": [],
   "source": []
  },
  {
   "cell_type": "code",
   "execution_count": null,
   "id": "12d258a1-73d2-424b-93cf-65de8bafaf2b",
   "metadata": {},
   "outputs": [],
   "source": []
  },
  {
   "cell_type": "code",
   "execution_count": 42,
   "id": "23f7080c-0519-48b1-801e-721209120318",
   "metadata": {},
   "outputs": [
    {
     "data": {
      "text/plain": [
       "((213995, 176), np.float64(3.049410216680146))"
      ]
     },
     "execution_count": 42,
     "metadata": {},
     "output_type": "execute_result"
    }
   ],
   "source": [
    "X_no_duplicates = X_different[~X_different.duplicated()]\n",
    "X_no_duplicates.shape, check_score(X_no_duplicates, tess_groups)"
   ]
  },
  {
   "cell_type": "code",
   "execution_count": null,
   "id": "4382bc2b-0383-4b04-a3d5-0cb24d0ff8ae",
   "metadata": {},
   "outputs": [],
   "source": []
  },
  {
   "cell_type": "code",
   "execution_count": 43,
   "id": "1aa00a3a-a9e3-4785-b029-0627a5381760",
   "metadata": {},
   "outputs": [],
   "source": [
    "# tessellation[X_different.duplicated(keep=False)].explore()"
   ]
  },
  {
   "cell_type": "code",
   "execution_count": 44,
   "id": "954c774c-314f-44c7-8d92-45d954c70656",
   "metadata": {},
   "outputs": [],
   "source": [
    "# plotting = tessellation.loc[X_different[X_different.duplicated(keep=False)].index.values]\n",
    "# plotting['sdbAre_lower'] = X_different[X_different.duplicated(keep=False)]['sdbAre_lower']\n",
    "# plotting = plotting.sort_values('sdbAre_lower')\n",
    "# plotting['sdbAre_lower']"
   ]
  },
  {
   "cell_type": "code",
   "execution_count": null,
   "id": "a6e52fd4-317f-4d04-8200-b29e8b1d7ed3",
   "metadata": {},
   "outputs": [],
   "source": []
  },
  {
   "cell_type": "code",
   "execution_count": 45,
   "id": "41c0ee62-ae64-4115-bd18-c98f8ea43ac0",
   "metadata": {},
   "outputs": [],
   "source": [
    "# layer = PolygonLayer.from_geopandas(\n",
    "#     gdf=plotting.reset_index()[['geometry', 'index', 'sdbAre_lower']],\n",
    "#     opacity=.15\n",
    "# )\n",
    "# m = Map(layer, basemap_style=CartoBasemap.Positron)\n",
    "# m"
   ]
  },
  {
   "cell_type": "code",
   "execution_count": 46,
   "id": "d2e65fe5-8ab4-4b6b-87fa-048c15d2f693",
   "metadata": {},
   "outputs": [],
   "source": [
    "# tessellation.loc[graph[250196].index.values].reset_index().explore()"
   ]
  },
  {
   "cell_type": "code",
   "execution_count": null,
   "id": "c99f72cf-4788-4029-ae99-110a9d591a95",
   "metadata": {},
   "outputs": [],
   "source": []
  },
  {
   "cell_type": "code",
   "execution_count": null,
   "id": "2d65b3e4-1119-47ea-8d16-cc1720a2ec0d",
   "metadata": {},
   "outputs": [],
   "source": []
  },
  {
   "cell_type": "code",
   "execution_count": 47,
   "id": "6de65d96-b826-482d-a638-93031174385c",
   "metadata": {},
   "outputs": [],
   "source": [
    "# tessellation.loc[higher[21149].index.values, ].explore()"
   ]
  },
  {
   "cell_type": "code",
   "execution_count": null,
   "id": "0470b5e3-8209-4aaf-8e23-104984709f0c",
   "metadata": {},
   "outputs": [],
   "source": []
  },
  {
   "cell_type": "code",
   "execution_count": 48,
   "id": "06662f2a-3c45-4b70-8d25-2768144b1a7a",
   "metadata": {},
   "outputs": [],
   "source": [
    "# tessellation.loc[higher[271717].index.values, ].explore()"
   ]
  },
  {
   "cell_type": "code",
   "execution_count": null,
   "id": "c9e0617c-5c29-4816-b11b-d9acdb763dc7",
   "metadata": {},
   "outputs": [],
   "source": []
  },
  {
   "cell_type": "code",
   "execution_count": 49,
   "id": "ebfa571b-bfa4-4c51-b387-1ebf9a382aec",
   "metadata": {},
   "outputs": [],
   "source": [
    "# higher = graph.higher_order(k=3, lower_order=True, diagonal=True)"
   ]
  },
  {
   "cell_type": "code",
   "execution_count": 50,
   "id": "8e56856f-f760-4c3b-a4a0-db0151bee0d8",
   "metadata": {},
   "outputs": [],
   "source": [
    "# primary.loc[higher[271717].index.values, 'sdbAre'].median(), primary.loc[higher[271714].index.values, 'sdbAre'].median()"
   ]
  },
  {
   "cell_type": "code",
   "execution_count": 51,
   "id": "b9cc13d7-88ce-48dd-8172-3c028903ca81",
   "metadata": {},
   "outputs": [],
   "source": [
    "# primary.loc[higher[271717].index.values, 'sdbAre'].describe()"
   ]
  },
  {
   "cell_type": "code",
   "execution_count": 52,
   "id": "d28f2b69-3f28-46ec-845a-6c6660fadcd7",
   "metadata": {},
   "outputs": [],
   "source": [
    "# primary.loc[higher[271714].index.values, 'sdbAre'].describe()"
   ]
  },
  {
   "cell_type": "code",
   "execution_count": null,
   "id": "f43db4c4-1eb5-40f0-83df-528e43b0ff23",
   "metadata": {},
   "outputs": [],
   "source": []
  },
  {
   "cell_type": "code",
   "execution_count": null,
   "id": "ce25ddc6-54ab-4597-8ad6-9e0875b6af8b",
   "metadata": {},
   "outputs": [],
   "source": []
  },
  {
   "cell_type": "code",
   "execution_count": null,
   "id": "16fa38bf-0ec8-4891-8e4f-8731629e883e",
   "metadata": {},
   "outputs": [],
   "source": []
  },
  {
   "cell_type": "code",
   "execution_count": 53,
   "id": "46529266-deba-4a57-8721-6b7849d38e76",
   "metadata": {},
   "outputs": [],
   "source": [
    "# r = dict([])\n",
    "# for idx in higher[271717].index.values:\n",
    "#     r[idx] = (primary.loc[higher[idx].index.values, 'sdbAre'].median())"
   ]
  },
  {
   "cell_type": "code",
   "execution_count": 54,
   "id": "c34c014d-6ab6-4f40-9c12-3d1b62b6a279",
   "metadata": {},
   "outputs": [],
   "source": [
    "# dict(sorted(r.items(), key=lambda item: item[1]))"
   ]
  },
  {
   "cell_type": "code",
   "execution_count": null,
   "id": "8671b01a-5438-4cf5-90ce-ee3f9d29bd0a",
   "metadata": {},
   "outputs": [],
   "source": []
  },
  {
   "cell_type": "code",
   "execution_count": null,
   "id": "b1b01984-1dc2-45d9-914a-cb4d76e1f048",
   "metadata": {},
   "outputs": [],
   "source": []
  },
  {
   "cell_type": "code",
   "execution_count": null,
   "id": "81006521-12bc-420a-b3ea-b66ddc972cc4",
   "metadata": {},
   "outputs": [],
   "source": []
  },
  {
   "cell_type": "code",
   "execution_count": 55,
   "id": "5896800e-34ba-4675-b6a8-f0817eec2aa9",
   "metadata": {},
   "outputs": [],
   "source": [
    "# remove singletons"
   ]
  },
  {
   "cell_type": "code",
   "execution_count": 56,
   "id": "366b82d1-56bd-4b18-a37f-0b4b4af00359",
   "metadata": {},
   "outputs": [],
   "source": [
    "singletons = graph.unique_ids[graph.cardinalities == 1]"
   ]
  },
  {
   "cell_type": "code",
   "execution_count": 57,
   "id": "5e07a92d-f729-47d3-a98a-af1c87d7b754",
   "metadata": {},
   "outputs": [],
   "source": [
    "# tessellation.loc[singletons].explore()"
   ]
  },
  {
   "cell_type": "code",
   "execution_count": null,
   "id": "512c52ab-4c14-4fc2-a835-f5288c7bc903",
   "metadata": {},
   "outputs": [],
   "source": []
  },
  {
   "cell_type": "code",
   "execution_count": null,
   "id": "ab403d4e-a062-4d1e-9888-fec18e478793",
   "metadata": {},
   "outputs": [],
   "source": []
  },
  {
   "cell_type": "code",
   "execution_count": 58,
   "id": "cbf73ba3-69fb-457b-b827-4ed6aeca1818",
   "metadata": {},
   "outputs": [
    {
     "data": {
      "text/plain": [
       "((213822, 176), np.float64(3.049410216680146))"
      ]
     },
     "execution_count": 58,
     "metadata": {},
     "output_type": "execute_result"
    }
   ],
   "source": [
    "X_no_singletons = X_no_duplicates[~X_no_duplicates.index.isin(singletons)]\n",
    "X_no_singletons.shape, check_score(X_no_singletons, tess_groups)"
   ]
  },
  {
   "cell_type": "code",
   "execution_count": null,
   "id": "38a68c3e-e65d-4cc3-9288-a6ff14fb823d",
   "metadata": {},
   "outputs": [],
   "source": []
  },
  {
   "cell_type": "code",
   "execution_count": null,
   "id": "55557720-7706-4c72-a4e0-77312b288f08",
   "metadata": {},
   "outputs": [],
   "source": []
  },
  {
   "cell_type": "code",
   "execution_count": 59,
   "id": "ebdbaad7-3133-4b5e-aa2f-67b434262463",
   "metadata": {},
   "outputs": [],
   "source": [
    "# remove empty space"
   ]
  },
  {
   "cell_type": "code",
   "execution_count": 60,
   "id": "c0ebfb22-8f05-404b-86a7-74cc2d3c0712",
   "metadata": {},
   "outputs": [
    {
     "data": {
      "text/plain": [
       "((209124, 176), np.float64(3.048218609612778))"
      ]
     },
     "execution_count": 60,
     "metadata": {},
     "output_type": "execute_result"
    }
   ],
   "source": [
    "X_buildings = X_no_singletons[X_no_singletons.index >= 0]\n",
    "X_buildings.shape, check_score(X_buildings, tess_groups)"
   ]
  },
  {
   "cell_type": "code",
   "execution_count": null,
   "id": "38bcd299-6e45-41c0-b7c2-43796e0b5a3d",
   "metadata": {},
   "outputs": [],
   "source": []
  },
  {
   "cell_type": "code",
   "execution_count": null,
   "id": "d623d868-8b97-404c-8ca2-23e272b0bf72",
   "metadata": {},
   "outputs": [],
   "source": []
  },
  {
   "cell_type": "code",
   "execution_count": null,
   "id": "f118ca9e-113b-4d11-8b4c-3c6b13f275b5",
   "metadata": {},
   "outputs": [],
   "source": []
  },
  {
   "cell_type": "code",
   "execution_count": 61,
   "id": "b5d46d6c-02ce-4778-8632-8aee88d8cb7a",
   "metadata": {},
   "outputs": [
    {
     "data": {
      "text/plain": [
       "((209124, 176), np.float64(3.048218609612778))"
      ]
     },
     "execution_count": 61,
     "metadata": {},
     "output_type": "execute_result"
    }
   ],
   "source": [
    "X_train = X_buildings\n",
    "X_train.shape, check_score(X_train, tess_groups)"
   ]
  },
  {
   "cell_type": "code",
   "execution_count": null,
   "id": "3613fa9c-56ac-4282-a3ce-187724b09d5e",
   "metadata": {},
   "outputs": [],
   "source": []
  },
  {
   "cell_type": "code",
   "execution_count": null,
   "id": "d2b8a5a8-2305-4fac-a42b-ffa074d2b6fb",
   "metadata": {},
   "outputs": [],
   "source": []
  },
  {
   "cell_type": "code",
   "execution_count": 62,
   "id": "f4955145-9a66-4374-b5b3-d8fc7a80c391",
   "metadata": {},
   "outputs": [
    {
     "data": {
      "text/plain": [
       "count    176.000000\n",
       "mean       7.162977\n",
       "std        3.046398\n",
       "min        0.015739\n",
       "25%        4.738066\n",
       "50%        7.890156\n",
       "75%       10.000000\n",
       "max       10.000000\n",
       "Name: max, dtype: float64"
      ]
     },
     "execution_count": 62,
     "metadata": {},
     "output_type": "execute_result"
    }
   ],
   "source": [
    "X_train.describe().loc[\"max\"].describe()"
   ]
  },
  {
   "cell_type": "code",
   "execution_count": null,
   "id": "350c6324-2e19-496b-b586-17f34edfc80f",
   "metadata": {},
   "outputs": [],
   "source": []
  },
  {
   "cell_type": "code",
   "execution_count": null,
   "id": "ed0474c6-a0da-4a10-b2ad-257f9be9361c",
   "metadata": {},
   "outputs": [],
   "source": []
  },
  {
   "cell_type": "code",
   "execution_count": null,
   "id": "2782321d-c245-419b-b2ad-7eba8d7dc1ba",
   "metadata": {},
   "outputs": [],
   "source": []
  },
  {
   "cell_type": "code",
   "execution_count": null,
   "id": "fc60c70b-b585-48e3-b2bf-c877b0fa2c1e",
   "metadata": {},
   "outputs": [],
   "source": []
  },
  {
   "cell_type": "markdown",
   "id": "af450a7d-134e-481e-a454-6065d7100c24",
   "metadata": {},
   "source": [
    "### assign tessellations to existing clusters"
   ]
  },
  {
   "cell_type": "code",
   "execution_count": 63,
   "id": "6b7e382e-4891-4ca3-bc91-7843f886f52e",
   "metadata": {},
   "outputs": [],
   "source": [
    "labels = np.load('../data/sample_cluster_labels.npy')"
   ]
  },
  {
   "cell_type": "code",
   "execution_count": 64,
   "id": "25c92d22-9d03-49bb-8c46-1bf902bda000",
   "metadata": {},
   "outputs": [],
   "source": [
    "clusters = gpd.read_parquet('../data/sample_clusters.parquet')"
   ]
  },
  {
   "cell_type": "code",
   "execution_count": null,
   "id": "648b1546-27ff-4b5f-9fb1-0cb960a24be7",
   "metadata": {},
   "outputs": [],
   "source": []
  },
  {
   "cell_type": "code",
   "execution_count": 65,
   "id": "31a3dba2-62e9-444a-ac37-35e5db6fc45c",
   "metadata": {},
   "outputs": [],
   "source": [
    "tessellation_subset = tessellation.loc[X_train.index.values]"
   ]
  },
  {
   "cell_type": "code",
   "execution_count": 66,
   "id": "4de07243-5f6f-4575-815c-978c20d1a84a",
   "metadata": {},
   "outputs": [],
   "source": [
    "inp, res = tessellation_subset.representative_point().geometry.sindex.query(clusters.geometry, predicate='intersects')"
   ]
  },
  {
   "cell_type": "code",
   "execution_count": 67,
   "id": "2547cb1e-5ba0-4bf3-916a-19e2b19306a7",
   "metadata": {},
   "outputs": [
    {
     "data": {
      "text/plain": [
       "(160215,)"
      ]
     },
     "execution_count": 67,
     "metadata": {},
     "output_type": "execute_result"
    }
   ],
   "source": [
    "inp.shape"
   ]
  },
  {
   "cell_type": "code",
   "execution_count": 68,
   "id": "5d7b2131-db42-441a-beb4-769844acdeaa",
   "metadata": {},
   "outputs": [],
   "source": [
    "tessellation_subset = tessellation_subset.iloc[res]\n",
    "X_train_subset = X_train.iloc[res]"
   ]
  },
  {
   "cell_type": "code",
   "execution_count": 69,
   "id": "5a10e9b4-c60b-4b1a-b54f-15d049d03626",
   "metadata": {},
   "outputs": [],
   "source": [
    "y = inp.astype('str')"
   ]
  },
  {
   "cell_type": "code",
   "execution_count": null,
   "id": "4d277097-49d5-4868-aa54-13eca5c9bfd3",
   "metadata": {},
   "outputs": [],
   "source": []
  },
  {
   "cell_type": "code",
   "execution_count": null,
   "id": "f9c7d2fc-85b4-450d-96f2-6c9ab5b7cd7b",
   "metadata": {},
   "outputs": [],
   "source": []
  },
  {
   "cell_type": "code",
   "execution_count": null,
   "id": "98c811a1-de00-4ef5-a679-e0f56a23a772",
   "metadata": {},
   "outputs": [],
   "source": []
  },
  {
   "cell_type": "markdown",
   "id": "ded90a9c-c233-41d2-bba2-b04c087f4a43",
   "metadata": {},
   "source": [
    "### predictive model"
   ]
  },
  {
   "cell_type": "code",
   "execution_count": 74,
   "id": "077eedb8-86c8-4761-82b5-ad8b3dcf7fe5",
   "metadata": {},
   "outputs": [],
   "source": [
    "from sklearn.model_selection import train_test_split"
   ]
  },
  {
   "cell_type": "code",
   "execution_count": 75,
   "id": "b31d01bf-b075-4ba3-bad0-75875fa220c2",
   "metadata": {},
   "outputs": [],
   "source": [
    "X_train, X_test, y_train, y_test = train_test_split(X_train_subset, y, test_size=0.25, random_state=42)"
   ]
  },
  {
   "cell_type": "code",
   "execution_count": null,
   "id": "733beacc-ce1f-4cae-b7f4-f5a9f0296b6c",
   "metadata": {},
   "outputs": [],
   "source": []
  },
  {
   "cell_type": "code",
   "execution_count": 76,
   "id": "7dd20499-bafe-497c-82b4-12470fcda70a",
   "metadata": {},
   "outputs": [],
   "source": [
    "clf = RandomForestClassifier(random_state=0, n_jobs=-1, verbose=True)"
   ]
  },
  {
   "cell_type": "code",
   "execution_count": 77,
   "id": "b27c7110-f884-4f6a-ab6c-44ef6ca9dd59",
   "metadata": {},
   "outputs": [
    {
     "name": "stderr",
     "output_type": "stream",
     "text": [
      "[Parallel(n_jobs=-1)]: Using backend ThreadingBackend with 20 concurrent workers.\n",
      "[Parallel(n_jobs=-1)]: Done  10 tasks      | elapsed:    4.2s\n"
     ]
    },
    {
     "name": "stdout",
     "output_type": "stream",
     "text": [
      "CPU times: user 7min 14s, sys: 2.46 s, total: 7min 17s\n",
      "Wall time: 24.1 s\n"
     ]
    },
    {
     "name": "stderr",
     "output_type": "stream",
     "text": [
      "[Parallel(n_jobs=-1)]: Done 100 out of 100 | elapsed:   24.0s finished\n"
     ]
    },
    {
     "data": {
      "text/html": [
       "<style>#sk-container-id-1 {\n",
       "  /* Definition of color scheme common for light and dark mode */\n",
       "  --sklearn-color-text: black;\n",
       "  --sklearn-color-line: gray;\n",
       "  /* Definition of color scheme for unfitted estimators */\n",
       "  --sklearn-color-unfitted-level-0: #fff5e6;\n",
       "  --sklearn-color-unfitted-level-1: #f6e4d2;\n",
       "  --sklearn-color-unfitted-level-2: #ffe0b3;\n",
       "  --sklearn-color-unfitted-level-3: chocolate;\n",
       "  /* Definition of color scheme for fitted estimators */\n",
       "  --sklearn-color-fitted-level-0: #f0f8ff;\n",
       "  --sklearn-color-fitted-level-1: #d4ebff;\n",
       "  --sklearn-color-fitted-level-2: #b3dbfd;\n",
       "  --sklearn-color-fitted-level-3: cornflowerblue;\n",
       "\n",
       "  /* Specific color for light theme */\n",
       "  --sklearn-color-text-on-default-background: var(--sg-text-color, var(--theme-code-foreground, var(--jp-content-font-color1, black)));\n",
       "  --sklearn-color-background: var(--sg-background-color, var(--theme-background, var(--jp-layout-color0, white)));\n",
       "  --sklearn-color-border-box: var(--sg-text-color, var(--theme-code-foreground, var(--jp-content-font-color1, black)));\n",
       "  --sklearn-color-icon: #696969;\n",
       "\n",
       "  @media (prefers-color-scheme: dark) {\n",
       "    /* Redefinition of color scheme for dark theme */\n",
       "    --sklearn-color-text-on-default-background: var(--sg-text-color, var(--theme-code-foreground, var(--jp-content-font-color1, white)));\n",
       "    --sklearn-color-background: var(--sg-background-color, var(--theme-background, var(--jp-layout-color0, #111)));\n",
       "    --sklearn-color-border-box: var(--sg-text-color, var(--theme-code-foreground, var(--jp-content-font-color1, white)));\n",
       "    --sklearn-color-icon: #878787;\n",
       "  }\n",
       "}\n",
       "\n",
       "#sk-container-id-1 {\n",
       "  color: var(--sklearn-color-text);\n",
       "}\n",
       "\n",
       "#sk-container-id-1 pre {\n",
       "  padding: 0;\n",
       "}\n",
       "\n",
       "#sk-container-id-1 input.sk-hidden--visually {\n",
       "  border: 0;\n",
       "  clip: rect(1px 1px 1px 1px);\n",
       "  clip: rect(1px, 1px, 1px, 1px);\n",
       "  height: 1px;\n",
       "  margin: -1px;\n",
       "  overflow: hidden;\n",
       "  padding: 0;\n",
       "  position: absolute;\n",
       "  width: 1px;\n",
       "}\n",
       "\n",
       "#sk-container-id-1 div.sk-dashed-wrapped {\n",
       "  border: 1px dashed var(--sklearn-color-line);\n",
       "  margin: 0 0.4em 0.5em 0.4em;\n",
       "  box-sizing: border-box;\n",
       "  padding-bottom: 0.4em;\n",
       "  background-color: var(--sklearn-color-background);\n",
       "}\n",
       "\n",
       "#sk-container-id-1 div.sk-container {\n",
       "  /* jupyter's `normalize.less` sets `[hidden] { display: none; }`\n",
       "     but bootstrap.min.css set `[hidden] { display: none !important; }`\n",
       "     so we also need the `!important` here to be able to override the\n",
       "     default hidden behavior on the sphinx rendered scikit-learn.org.\n",
       "     See: https://github.com/scikit-learn/scikit-learn/issues/21755 */\n",
       "  display: inline-block !important;\n",
       "  position: relative;\n",
       "}\n",
       "\n",
       "#sk-container-id-1 div.sk-text-repr-fallback {\n",
       "  display: none;\n",
       "}\n",
       "\n",
       "div.sk-parallel-item,\n",
       "div.sk-serial,\n",
       "div.sk-item {\n",
       "  /* draw centered vertical line to link estimators */\n",
       "  background-image: linear-gradient(var(--sklearn-color-text-on-default-background), var(--sklearn-color-text-on-default-background));\n",
       "  background-size: 2px 100%;\n",
       "  background-repeat: no-repeat;\n",
       "  background-position: center center;\n",
       "}\n",
       "\n",
       "/* Parallel-specific style estimator block */\n",
       "\n",
       "#sk-container-id-1 div.sk-parallel-item::after {\n",
       "  content: \"\";\n",
       "  width: 100%;\n",
       "  border-bottom: 2px solid var(--sklearn-color-text-on-default-background);\n",
       "  flex-grow: 1;\n",
       "}\n",
       "\n",
       "#sk-container-id-1 div.sk-parallel {\n",
       "  display: flex;\n",
       "  align-items: stretch;\n",
       "  justify-content: center;\n",
       "  background-color: var(--sklearn-color-background);\n",
       "  position: relative;\n",
       "}\n",
       "\n",
       "#sk-container-id-1 div.sk-parallel-item {\n",
       "  display: flex;\n",
       "  flex-direction: column;\n",
       "}\n",
       "\n",
       "#sk-container-id-1 div.sk-parallel-item:first-child::after {\n",
       "  align-self: flex-end;\n",
       "  width: 50%;\n",
       "}\n",
       "\n",
       "#sk-container-id-1 div.sk-parallel-item:last-child::after {\n",
       "  align-self: flex-start;\n",
       "  width: 50%;\n",
       "}\n",
       "\n",
       "#sk-container-id-1 div.sk-parallel-item:only-child::after {\n",
       "  width: 0;\n",
       "}\n",
       "\n",
       "/* Serial-specific style estimator block */\n",
       "\n",
       "#sk-container-id-1 div.sk-serial {\n",
       "  display: flex;\n",
       "  flex-direction: column;\n",
       "  align-items: center;\n",
       "  background-color: var(--sklearn-color-background);\n",
       "  padding-right: 1em;\n",
       "  padding-left: 1em;\n",
       "}\n",
       "\n",
       "\n",
       "/* Toggleable style: style used for estimator/Pipeline/ColumnTransformer box that is\n",
       "clickable and can be expanded/collapsed.\n",
       "- Pipeline and ColumnTransformer use this feature and define the default style\n",
       "- Estimators will overwrite some part of the style using the `sk-estimator` class\n",
       "*/\n",
       "\n",
       "/* Pipeline and ColumnTransformer style (default) */\n",
       "\n",
       "#sk-container-id-1 div.sk-toggleable {\n",
       "  /* Default theme specific background. It is overwritten whether we have a\n",
       "  specific estimator or a Pipeline/ColumnTransformer */\n",
       "  background-color: var(--sklearn-color-background);\n",
       "}\n",
       "\n",
       "/* Toggleable label */\n",
       "#sk-container-id-1 label.sk-toggleable__label {\n",
       "  cursor: pointer;\n",
       "  display: block;\n",
       "  width: 100%;\n",
       "  margin-bottom: 0;\n",
       "  padding: 0.5em;\n",
       "  box-sizing: border-box;\n",
       "  text-align: center;\n",
       "}\n",
       "\n",
       "#sk-container-id-1 label.sk-toggleable__label-arrow:before {\n",
       "  /* Arrow on the left of the label */\n",
       "  content: \"▸\";\n",
       "  float: left;\n",
       "  margin-right: 0.25em;\n",
       "  color: var(--sklearn-color-icon);\n",
       "}\n",
       "\n",
       "#sk-container-id-1 label.sk-toggleable__label-arrow:hover:before {\n",
       "  color: var(--sklearn-color-text);\n",
       "}\n",
       "\n",
       "/* Toggleable content - dropdown */\n",
       "\n",
       "#sk-container-id-1 div.sk-toggleable__content {\n",
       "  max-height: 0;\n",
       "  max-width: 0;\n",
       "  overflow: hidden;\n",
       "  text-align: left;\n",
       "  /* unfitted */\n",
       "  background-color: var(--sklearn-color-unfitted-level-0);\n",
       "}\n",
       "\n",
       "#sk-container-id-1 div.sk-toggleable__content.fitted {\n",
       "  /* fitted */\n",
       "  background-color: var(--sklearn-color-fitted-level-0);\n",
       "}\n",
       "\n",
       "#sk-container-id-1 div.sk-toggleable__content pre {\n",
       "  margin: 0.2em;\n",
       "  border-radius: 0.25em;\n",
       "  color: var(--sklearn-color-text);\n",
       "  /* unfitted */\n",
       "  background-color: var(--sklearn-color-unfitted-level-0);\n",
       "}\n",
       "\n",
       "#sk-container-id-1 div.sk-toggleable__content.fitted pre {\n",
       "  /* unfitted */\n",
       "  background-color: var(--sklearn-color-fitted-level-0);\n",
       "}\n",
       "\n",
       "#sk-container-id-1 input.sk-toggleable__control:checked~div.sk-toggleable__content {\n",
       "  /* Expand drop-down */\n",
       "  max-height: 200px;\n",
       "  max-width: 100%;\n",
       "  overflow: auto;\n",
       "}\n",
       "\n",
       "#sk-container-id-1 input.sk-toggleable__control:checked~label.sk-toggleable__label-arrow:before {\n",
       "  content: \"▾\";\n",
       "}\n",
       "\n",
       "/* Pipeline/ColumnTransformer-specific style */\n",
       "\n",
       "#sk-container-id-1 div.sk-label input.sk-toggleable__control:checked~label.sk-toggleable__label {\n",
       "  color: var(--sklearn-color-text);\n",
       "  background-color: var(--sklearn-color-unfitted-level-2);\n",
       "}\n",
       "\n",
       "#sk-container-id-1 div.sk-label.fitted input.sk-toggleable__control:checked~label.sk-toggleable__label {\n",
       "  background-color: var(--sklearn-color-fitted-level-2);\n",
       "}\n",
       "\n",
       "/* Estimator-specific style */\n",
       "\n",
       "/* Colorize estimator box */\n",
       "#sk-container-id-1 div.sk-estimator input.sk-toggleable__control:checked~label.sk-toggleable__label {\n",
       "  /* unfitted */\n",
       "  background-color: var(--sklearn-color-unfitted-level-2);\n",
       "}\n",
       "\n",
       "#sk-container-id-1 div.sk-estimator.fitted input.sk-toggleable__control:checked~label.sk-toggleable__label {\n",
       "  /* fitted */\n",
       "  background-color: var(--sklearn-color-fitted-level-2);\n",
       "}\n",
       "\n",
       "#sk-container-id-1 div.sk-label label.sk-toggleable__label,\n",
       "#sk-container-id-1 div.sk-label label {\n",
       "  /* The background is the default theme color */\n",
       "  color: var(--sklearn-color-text-on-default-background);\n",
       "}\n",
       "\n",
       "/* On hover, darken the color of the background */\n",
       "#sk-container-id-1 div.sk-label:hover label.sk-toggleable__label {\n",
       "  color: var(--sklearn-color-text);\n",
       "  background-color: var(--sklearn-color-unfitted-level-2);\n",
       "}\n",
       "\n",
       "/* Label box, darken color on hover, fitted */\n",
       "#sk-container-id-1 div.sk-label.fitted:hover label.sk-toggleable__label.fitted {\n",
       "  color: var(--sklearn-color-text);\n",
       "  background-color: var(--sklearn-color-fitted-level-2);\n",
       "}\n",
       "\n",
       "/* Estimator label */\n",
       "\n",
       "#sk-container-id-1 div.sk-label label {\n",
       "  font-family: monospace;\n",
       "  font-weight: bold;\n",
       "  display: inline-block;\n",
       "  line-height: 1.2em;\n",
       "}\n",
       "\n",
       "#sk-container-id-1 div.sk-label-container {\n",
       "  text-align: center;\n",
       "}\n",
       "\n",
       "/* Estimator-specific */\n",
       "#sk-container-id-1 div.sk-estimator {\n",
       "  font-family: monospace;\n",
       "  border: 1px dotted var(--sklearn-color-border-box);\n",
       "  border-radius: 0.25em;\n",
       "  box-sizing: border-box;\n",
       "  margin-bottom: 0.5em;\n",
       "  /* unfitted */\n",
       "  background-color: var(--sklearn-color-unfitted-level-0);\n",
       "}\n",
       "\n",
       "#sk-container-id-1 div.sk-estimator.fitted {\n",
       "  /* fitted */\n",
       "  background-color: var(--sklearn-color-fitted-level-0);\n",
       "}\n",
       "\n",
       "/* on hover */\n",
       "#sk-container-id-1 div.sk-estimator:hover {\n",
       "  /* unfitted */\n",
       "  background-color: var(--sklearn-color-unfitted-level-2);\n",
       "}\n",
       "\n",
       "#sk-container-id-1 div.sk-estimator.fitted:hover {\n",
       "  /* fitted */\n",
       "  background-color: var(--sklearn-color-fitted-level-2);\n",
       "}\n",
       "\n",
       "/* Specification for estimator info (e.g. \"i\" and \"?\") */\n",
       "\n",
       "/* Common style for \"i\" and \"?\" */\n",
       "\n",
       ".sk-estimator-doc-link,\n",
       "a:link.sk-estimator-doc-link,\n",
       "a:visited.sk-estimator-doc-link {\n",
       "  float: right;\n",
       "  font-size: smaller;\n",
       "  line-height: 1em;\n",
       "  font-family: monospace;\n",
       "  background-color: var(--sklearn-color-background);\n",
       "  border-radius: 1em;\n",
       "  height: 1em;\n",
       "  width: 1em;\n",
       "  text-decoration: none !important;\n",
       "  margin-left: 1ex;\n",
       "  /* unfitted */\n",
       "  border: var(--sklearn-color-unfitted-level-1) 1pt solid;\n",
       "  color: var(--sklearn-color-unfitted-level-1);\n",
       "}\n",
       "\n",
       ".sk-estimator-doc-link.fitted,\n",
       "a:link.sk-estimator-doc-link.fitted,\n",
       "a:visited.sk-estimator-doc-link.fitted {\n",
       "  /* fitted */\n",
       "  border: var(--sklearn-color-fitted-level-1) 1pt solid;\n",
       "  color: var(--sklearn-color-fitted-level-1);\n",
       "}\n",
       "\n",
       "/* On hover */\n",
       "div.sk-estimator:hover .sk-estimator-doc-link:hover,\n",
       ".sk-estimator-doc-link:hover,\n",
       "div.sk-label-container:hover .sk-estimator-doc-link:hover,\n",
       ".sk-estimator-doc-link:hover {\n",
       "  /* unfitted */\n",
       "  background-color: var(--sklearn-color-unfitted-level-3);\n",
       "  color: var(--sklearn-color-background);\n",
       "  text-decoration: none;\n",
       "}\n",
       "\n",
       "div.sk-estimator.fitted:hover .sk-estimator-doc-link.fitted:hover,\n",
       ".sk-estimator-doc-link.fitted:hover,\n",
       "div.sk-label-container:hover .sk-estimator-doc-link.fitted:hover,\n",
       ".sk-estimator-doc-link.fitted:hover {\n",
       "  /* fitted */\n",
       "  background-color: var(--sklearn-color-fitted-level-3);\n",
       "  color: var(--sklearn-color-background);\n",
       "  text-decoration: none;\n",
       "}\n",
       "\n",
       "/* Span, style for the box shown on hovering the info icon */\n",
       ".sk-estimator-doc-link span {\n",
       "  display: none;\n",
       "  z-index: 9999;\n",
       "  position: relative;\n",
       "  font-weight: normal;\n",
       "  right: .2ex;\n",
       "  padding: .5ex;\n",
       "  margin: .5ex;\n",
       "  width: min-content;\n",
       "  min-width: 20ex;\n",
       "  max-width: 50ex;\n",
       "  color: var(--sklearn-color-text);\n",
       "  box-shadow: 2pt 2pt 4pt #999;\n",
       "  /* unfitted */\n",
       "  background: var(--sklearn-color-unfitted-level-0);\n",
       "  border: .5pt solid var(--sklearn-color-unfitted-level-3);\n",
       "}\n",
       "\n",
       ".sk-estimator-doc-link.fitted span {\n",
       "  /* fitted */\n",
       "  background: var(--sklearn-color-fitted-level-0);\n",
       "  border: var(--sklearn-color-fitted-level-3);\n",
       "}\n",
       "\n",
       ".sk-estimator-doc-link:hover span {\n",
       "  display: block;\n",
       "}\n",
       "\n",
       "/* \"?\"-specific style due to the `<a>` HTML tag */\n",
       "\n",
       "#sk-container-id-1 a.estimator_doc_link {\n",
       "  float: right;\n",
       "  font-size: 1rem;\n",
       "  line-height: 1em;\n",
       "  font-family: monospace;\n",
       "  background-color: var(--sklearn-color-background);\n",
       "  border-radius: 1rem;\n",
       "  height: 1rem;\n",
       "  width: 1rem;\n",
       "  text-decoration: none;\n",
       "  /* unfitted */\n",
       "  color: var(--sklearn-color-unfitted-level-1);\n",
       "  border: var(--sklearn-color-unfitted-level-1) 1pt solid;\n",
       "}\n",
       "\n",
       "#sk-container-id-1 a.estimator_doc_link.fitted {\n",
       "  /* fitted */\n",
       "  border: var(--sklearn-color-fitted-level-1) 1pt solid;\n",
       "  color: var(--sklearn-color-fitted-level-1);\n",
       "}\n",
       "\n",
       "/* On hover */\n",
       "#sk-container-id-1 a.estimator_doc_link:hover {\n",
       "  /* unfitted */\n",
       "  background-color: var(--sklearn-color-unfitted-level-3);\n",
       "  color: var(--sklearn-color-background);\n",
       "  text-decoration: none;\n",
       "}\n",
       "\n",
       "#sk-container-id-1 a.estimator_doc_link.fitted:hover {\n",
       "  /* fitted */\n",
       "  background-color: var(--sklearn-color-fitted-level-3);\n",
       "}\n",
       "</style><div id=\"sk-container-id-1\" class=\"sk-top-container\"><div class=\"sk-text-repr-fallback\"><pre>RandomForestClassifier(n_jobs=-1, random_state=0, verbose=True)</pre><b>In a Jupyter environment, please rerun this cell to show the HTML representation or trust the notebook. <br />On GitHub, the HTML representation is unable to render, please try loading this page with nbviewer.org.</b></div><div class=\"sk-container\" hidden><div class=\"sk-item\"><div class=\"sk-estimator fitted sk-toggleable\"><input class=\"sk-toggleable__control sk-hidden--visually\" id=\"sk-estimator-id-1\" type=\"checkbox\" checked><label for=\"sk-estimator-id-1\" class=\"sk-toggleable__label fitted sk-toggleable__label-arrow fitted\">&nbsp;&nbsp;RandomForestClassifier<a class=\"sk-estimator-doc-link fitted\" rel=\"noreferrer\" target=\"_blank\" href=\"https://scikit-learn.org/1.5/modules/generated/sklearn.ensemble.RandomForestClassifier.html\">?<span>Documentation for RandomForestClassifier</span></a><span class=\"sk-estimator-doc-link fitted\">i<span>Fitted</span></span></label><div class=\"sk-toggleable__content fitted\"><pre>RandomForestClassifier(n_jobs=-1, random_state=0, verbose=True)</pre></div> </div></div></div></div>"
      ],
      "text/plain": [
       "RandomForestClassifier(n_jobs=-1, random_state=0, verbose=True)"
      ]
     },
     "execution_count": 77,
     "metadata": {},
     "output_type": "execute_result"
    }
   ],
   "source": [
    "%%time\n",
    "clf.fit(X_train, y_train)"
   ]
  },
  {
   "cell_type": "code",
   "execution_count": null,
   "id": "996d47e6-1412-4328-b9a1-f94f9153c955",
   "metadata": {},
   "outputs": [],
   "source": []
  },
  {
   "cell_type": "code",
   "execution_count": 78,
   "id": "05076d4a-ab64-4363-997f-cc56cabc5700",
   "metadata": {},
   "outputs": [
    {
     "name": "stderr",
     "output_type": "stream",
     "text": [
      "[Parallel(n_jobs=20)]: Using backend ThreadingBackend with 20 concurrent workers.\n",
      "[Parallel(n_jobs=20)]: Done  10 tasks      | elapsed:    0.4s\n",
      "[Parallel(n_jobs=20)]: Done 100 out of 100 | elapsed:    1.8s finished\n"
     ]
    },
    {
     "data": {
      "text/plain": [
       "0.9583811853997104"
      ]
     },
     "execution_count": 78,
     "metadata": {},
     "output_type": "execute_result"
    }
   ],
   "source": [
    "clf.score(X_test, y_test)"
   ]
  },
  {
   "cell_type": "code",
   "execution_count": null,
   "id": "b11ec5a2-0907-4a9c-8b4c-8dc2b75798ba",
   "metadata": {},
   "outputs": [],
   "source": []
  },
  {
   "cell_type": "code",
   "execution_count": null,
   "id": "640a5338-c919-4f41-933f-e42500448bff",
   "metadata": {},
   "outputs": [],
   "source": []
  },
  {
   "cell_type": "code",
   "execution_count": null,
   "id": "9dcb022c-2cba-4d86-948c-367b9a9f73b6",
   "metadata": {},
   "outputs": [],
   "source": []
  },
  {
   "cell_type": "code",
   "execution_count": 79,
   "id": "fac1f1eb-96c9-4f6e-8a4b-76431e2a169a",
   "metadata": {},
   "outputs": [
    {
     "name": "stderr",
     "output_type": "stream",
     "text": [
      "[Parallel(n_jobs=20)]: Using backend ThreadingBackend with 20 concurrent workers.\n",
      "[Parallel(n_jobs=20)]: Done  10 tasks      | elapsed:    1.3s\n",
      "[Parallel(n_jobs=20)]: Done 100 out of 100 | elapsed:    6.4s finished\n"
     ]
    }
   ],
   "source": [
    "new_labels = clf.predict(X_train_subset)"
   ]
  },
  {
   "cell_type": "code",
   "execution_count": null,
   "id": "7edd1fd3-0ee0-4d73-b55f-76bb52d13bc4",
   "metadata": {},
   "outputs": [],
   "source": []
  },
  {
   "cell_type": "code",
   "execution_count": null,
   "id": "89ead827-5761-48b8-bd3b-ab38a6204d9b",
   "metadata": {},
   "outputs": [],
   "source": []
  },
  {
   "cell_type": "code",
   "execution_count": null,
   "id": "6fd12c42-d2df-4d79-9c8a-464d91a62c8c",
   "metadata": {},
   "outputs": [],
   "source": []
  },
  {
   "cell_type": "code",
   "execution_count": 81,
   "id": "6776dfa8-09a1-46e9-9c22-e6a82af71bd6",
   "metadata": {},
   "outputs": [],
   "source": [
    "from lonboard import PolygonLayer, Map\n",
    "from lonboard.basemap import CartoBasemap\n",
    "from lonboard.colormap import apply_categorical_cmap\n",
    "from palettable.colorbrewer.qualitative import Set3_12"
   ]
  },
  {
   "cell_type": "code",
   "execution_count": 82,
   "id": "96ae9999-d92d-40d8-9e0c-f02f81ceee25",
   "metadata": {},
   "outputs": [],
   "source": [
    "plotting = tessellation_subset\n",
    "\n",
    "plotting[\"label\"] = new_labels"
   ]
  },
  {
   "cell_type": "code",
   "execution_count": 83,
   "id": "e67381c3-d48c-4b4a-bf4b-da5df4e7dedd",
   "metadata": {},
   "outputs": [],
   "source": [
    "import glasbey\n",
    "\n",
    "\n",
    "def hex_to_rgb(hexa):\n",
    "    return tuple(int(hexa[i : i + 2], 16) for i in (0, 2, 4))\n",
    "\n",
    "\n",
    "if plotting[\"label\"].unique().shape[0] > 12:\n",
    "    gb_cols = glasbey.extend_palette(\n",
    "        Set3_12.hex_colors, palette_size=plotting[\"label\"].unique().shape[0] + 1\n",
    "    )\n",
    "else:\n",
    "    gb_cols = Set3_12.hex_colors\n",
    "\n",
    "gb_cols = [hex_to_rgb(c[1:]) for c in gb_cols]\n",
    "\n",
    "colors = apply_categorical_cmap(\n",
    "    plotting[\"label\"], cmap=dict(zip(np.unique(plotting[\"label\"]), gb_cols, strict=False))\n",
    ")"
   ]
  },
  {
   "cell_type": "code",
   "execution_count": 84,
   "id": "76cae525-c03c-4152-86ef-c322bfdf71bc",
   "metadata": {},
   "outputs": [
    {
     "name": "stderr",
     "output_type": "stream",
     "text": [
      "/home/krasen/miniconda3/envs/urban_taxonomy/lib/python3.12/site-packages/lonboard/_geoarrow/ops/reproject.py:97: UserWarning: Input being reprojected to EPSG:4326 CRS\n",
      "  warnings.warn(\"Input being reprojected to EPSG:4326 CRS\")\n"
     ]
    }
   ],
   "source": [
    "layer = PolygonLayer.from_geopandas(\n",
    "    gdf=plotting[[\"geometry\", \"label\"]], get_fill_color=colors, opacity=0.15\n",
    ")"
   ]
  },
  {
   "cell_type": "code",
   "execution_count": 86,
   "id": "408eb347-41bf-4b0c-867d-7774d71b42e7",
   "metadata": {},
   "outputs": [],
   "source": [
    "# m = Map(layer, basemap_style=CartoBasemap.Positron)\n",
    "# m"
   ]
  },
  {
   "cell_type": "code",
   "execution_count": null,
   "id": "fd16b7ff-f5ef-4c08-a969-1f34c511d0e6",
   "metadata": {},
   "outputs": [],
   "source": []
  }
 ],
 "metadata": {
  "kernelspec": {
   "display_name": "Python 3 (ipykernel)",
   "language": "python",
   "name": "python3"
  },
  "language_info": {
   "codemirror_mode": {
    "name": "ipython",
    "version": 3
   },
   "file_extension": ".py",
   "mimetype": "text/x-python",
   "name": "python",
   "nbconvert_exporter": "python",
   "pygments_lexer": "ipython3",
   "version": "3.12.4"
  }
 },
 "nbformat": 4,
 "nbformat_minor": 5
}
